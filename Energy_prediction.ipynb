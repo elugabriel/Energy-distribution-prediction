{
<<<<<<< HEAD
 "cells": [
  {
   "cell_type": "markdown",
   "metadata": {
    "id": "HnpJe1wamJz1"
   },
   "source": [
    "## Import Basic Libraries"
   ]
  },
  {
   "cell_type": "code",
   "execution_count": 1,
   "metadata": {
    "id": "1C7ZY9Y0lJ0a"
   },
   "outputs": [],
   "source": [
    "import pandas as pd"
   ]
  },
  {
   "cell_type": "code",
   "execution_count": 2,
   "metadata": {
    "id": "T5B59TdTlVdX"
   },
   "outputs": [],
   "source": [
    "import tensorflow as tf\n",
    "from tensorflow import keras"
   ]
  },
  {
   "cell_type": "code",
   "execution_count": 3,
   "metadata": {
    "id": "4ypQ-tM9lRZG"
   },
   "outputs": [],
   "source": [
    "from sklearn.preprocessing import StandardScaler\n",
    "from sklearn.preprocessing import OneHotEncoder\n",
    "from sklearn.compose import ColumnTransformer\n",
    "from keras.models import Sequential\n",
    "from keras.layers import Dense"
   ]
  },
  {
   "cell_type": "code",
   "execution_count": 4,
   "metadata": {
    "id": "FPFph4WryRIZ"
   },
   "outputs": [],
   "source": [
    "from tensorflow.keras.models import Sequential"
   ]
  },
  {
   "cell_type": "code",
   "execution_count": 5,
   "metadata": {
    "id": "0znHaTgAyl6q"
   },
   "outputs": [],
   "source": [
    "from tensorflow.keras.layers import Activation, Dense, BatchNormalization, Dropout"
   ]
  },
  {
   "cell_type": "code",
   "execution_count": 6,
   "metadata": {
    "id": "sTHuI2a18HOX"
   },
   "outputs": [],
   "source": [
    "import matplotlib.pyplot as plt\n",
    "import seaborn as sns"
   ]
  },
  {
   "cell_type": "code",
   "execution_count": 7,
   "metadata": {
    "id": "UlXWpnKMHeT2"
   },
   "outputs": [],
   "source": [
    "from sklearn.model_selection import train_test_split\n",
    "from sklearn.preprocessing import StandardScaler\n",
    "from sklearn.preprocessing import OneHotEncoder\n",
    "from sklearn.compose import ColumnTransformer"
   ]
  },
  {
   "cell_type": "code",
   "execution_count": 8,
   "metadata": {
    "id": "jJoV5lgEpGMu"
   },
   "outputs": [],
   "source": [
    "data = pd.read_excel(\"abuja-weather-data.xlsx\")"
   ]
  },
  {
   "cell_type": "code",
   "execution_count": 9,
   "metadata": {},
   "outputs": [],
   "source": [
    "data.rename(columns = {\"Energy Consumption (GWh)\": \"Energy\"}, inplace=True)"
   ]
  },
  {
   "cell_type": "code",
   "execution_count": 10,
   "metadata": {
    "colab": {
     "base_uri": "https://localhost:8080/",
     "height": 348
    },
    "id": "XGqX7vkHpPJT",
    "outputId": "2ebb3187-b68b-47bb-8137-c53ca5193256"
   },
   "outputs": [
    {
     "data": {
      "text/html": [
       "<div>\n",
       "<style scoped>\n",
       "    .dataframe tbody tr th:only-of-type {\n",
       "        vertical-align: middle;\n",
       "    }\n",
       "\n",
       "    .dataframe tbody tr th {\n",
       "        vertical-align: top;\n",
       "    }\n",
       "\n",
       "    .dataframe thead th {\n",
       "        text-align: right;\n",
       "    }\n",
       "</style>\n",
       "<table border=\"1\" class=\"dataframe\">\n",
       "  <thead>\n",
       "    <tr style=\"text-align: right;\">\n",
       "      <th></th>\n",
       "      <th>temp</th>\n",
       "      <th>temp_min</th>\n",
       "      <th>temp_max</th>\n",
       "      <th>pressure</th>\n",
       "      <th>humidity</th>\n",
       "      <th>sea_level</th>\n",
       "      <th>ground_level</th>\n",
       "      <th>wind_speed</th>\n",
       "      <th>wind_degree</th>\n",
       "      <th>sunrise</th>\n",
       "      <th>sunset</th>\n",
       "      <th>cloud</th>\n",
       "      <th>description</th>\n",
       "      <th>region</th>\n",
       "      <th>Energy</th>\n",
       "    </tr>\n",
       "  </thead>\n",
       "  <tbody>\n",
       "    <tr>\n",
       "      <th>0</th>\n",
       "      <td>313.34</td>\n",
       "      <td>313.34</td>\n",
       "      <td>313.34</td>\n",
       "      <td>1006</td>\n",
       "      <td>28</td>\n",
       "      <td>1006</td>\n",
       "      <td>985</td>\n",
       "      <td>0.64</td>\n",
       "      <td>183</td>\n",
       "      <td>2024-02-21 05:50:33</td>\n",
       "      <td>2024-02-21 17:45:20</td>\n",
       "      <td>41</td>\n",
       "      <td>Clouds</td>\n",
       "      <td>Abuja</td>\n",
       "      <td>246.0</td>\n",
       "    </tr>\n",
       "    <tr>\n",
       "      <th>1</th>\n",
       "      <td>313.60</td>\n",
       "      <td>313.60</td>\n",
       "      <td>313.60</td>\n",
       "      <td>1006</td>\n",
       "      <td>30</td>\n",
       "      <td>1006</td>\n",
       "      <td>1001</td>\n",
       "      <td>1.35</td>\n",
       "      <td>213</td>\n",
       "      <td>2024-02-21 05:49:15</td>\n",
       "      <td>2024-02-21 17:44:09</td>\n",
       "      <td>31</td>\n",
       "      <td>Clouds</td>\n",
       "      <td>Abuja</td>\n",
       "      <td>250.0</td>\n",
       "    </tr>\n",
       "    <tr>\n",
       "      <th>2</th>\n",
       "      <td>313.61</td>\n",
       "      <td>313.61</td>\n",
       "      <td>313.61</td>\n",
       "      <td>1005</td>\n",
       "      <td>29</td>\n",
       "      <td>1005</td>\n",
       "      <td>998</td>\n",
       "      <td>1.37</td>\n",
       "      <td>214</td>\n",
       "      <td>2024-02-21 05:49:29</td>\n",
       "      <td>2024-02-21 17:44:14</td>\n",
       "      <td>34</td>\n",
       "      <td>Clouds</td>\n",
       "      <td>Abuja</td>\n",
       "      <td>244.0</td>\n",
       "    </tr>\n",
       "    <tr>\n",
       "      <th>3</th>\n",
       "      <td>312.30</td>\n",
       "      <td>312.30</td>\n",
       "      <td>312.30</td>\n",
       "      <td>1006</td>\n",
       "      <td>28</td>\n",
       "      <td>1006</td>\n",
       "      <td>971</td>\n",
       "      <td>0.67</td>\n",
       "      <td>197</td>\n",
       "      <td>2024-02-21 05:50:07</td>\n",
       "      <td>2024-02-21 17:44:44</td>\n",
       "      <td>36</td>\n",
       "      <td>Clouds</td>\n",
       "      <td>Abuja</td>\n",
       "      <td>236.0</td>\n",
       "    </tr>\n",
       "    <tr>\n",
       "      <th>4</th>\n",
       "      <td>313.58</td>\n",
       "      <td>313.58</td>\n",
       "      <td>313.58</td>\n",
       "      <td>1006</td>\n",
       "      <td>29</td>\n",
       "      <td>1006</td>\n",
       "      <td>997</td>\n",
       "      <td>1.28</td>\n",
       "      <td>211</td>\n",
       "      <td>2024-02-21 05:49:35</td>\n",
       "      <td>2024-02-21 17:44:23</td>\n",
       "      <td>33</td>\n",
       "      <td>Clouds</td>\n",
       "      <td>Abuja</td>\n",
       "      <td>212.0</td>\n",
       "    </tr>\n",
       "  </tbody>\n",
       "</table>\n",
       "</div>"
      ],
      "text/plain": [
       "     temp  temp_min  temp_max  pressure  humidity  sea_level  ground_level  \\\n",
       "0  313.34    313.34    313.34      1006        28       1006           985   \n",
       "1  313.60    313.60    313.60      1006        30       1006          1001   \n",
       "2  313.61    313.61    313.61      1005        29       1005           998   \n",
       "3  312.30    312.30    312.30      1006        28       1006           971   \n",
       "4  313.58    313.58    313.58      1006        29       1006           997   \n",
       "\n",
       "   wind_speed  wind_degree             sunrise              sunset  cloud  \\\n",
       "0        0.64          183 2024-02-21 05:50:33 2024-02-21 17:45:20     41   \n",
       "1        1.35          213 2024-02-21 05:49:15 2024-02-21 17:44:09     31   \n",
       "2        1.37          214 2024-02-21 05:49:29 2024-02-21 17:44:14     34   \n",
       "3        0.67          197 2024-02-21 05:50:07 2024-02-21 17:44:44     36   \n",
       "4        1.28          211 2024-02-21 05:49:35 2024-02-21 17:44:23     33   \n",
       "\n",
       "  description region  Energy  \n",
       "0      Clouds  Abuja   246.0  \n",
       "1      Clouds  Abuja   250.0  \n",
       "2      Clouds  Abuja   244.0  \n",
       "3      Clouds  Abuja   236.0  \n",
       "4      Clouds  Abuja   212.0  "
      ]
     },
     "execution_count": 10,
     "metadata": {},
     "output_type": "execute_result"
    }
   ],
   "source": [
    "data.head()"
   ]
  },
  {
   "cell_type": "markdown",
   "metadata": {
    "id": "xSFsXAu8mVG8"
   },
   "source": [
    "# Data Preprocessing"
   ]
  },
  {
   "cell_type": "code",
   "execution_count": 11,
   "metadata": {
    "colab": {
     "base_uri": "https://localhost:8080/"
    },
    "id": "STkr_C8jpqoJ",
    "outputId": "917505e9-d73d-40d5-ad3c-df446fb1f0f8"
   },
   "outputs": [
    {
     "name": "stdout",
     "output_type": "stream",
     "text": [
      "<class 'pandas.core.frame.DataFrame'>\n",
      "RangeIndex: 123 entries, 0 to 122\n",
      "Data columns (total 15 columns):\n",
      " #   Column        Non-Null Count  Dtype         \n",
      "---  ------        --------------  -----         \n",
      " 0   temp          123 non-null    float64       \n",
      " 1   temp_min      123 non-null    float64       \n",
      " 2   temp_max      123 non-null    float64       \n",
      " 3   pressure      123 non-null    int64         \n",
      " 4   humidity      123 non-null    int64         \n",
      " 5   sea_level     123 non-null    int64         \n",
      " 6   ground_level  123 non-null    int64         \n",
      " 7   wind_speed    123 non-null    float64       \n",
      " 8   wind_degree   123 non-null    int64         \n",
      " 9   sunrise       123 non-null    datetime64[ns]\n",
      " 10  sunset        123 non-null    datetime64[ns]\n",
      " 11  cloud         123 non-null    int64         \n",
      " 12  description   123 non-null    object        \n",
      " 13  region        123 non-null    object        \n",
      " 14  Energy        123 non-null    float64       \n",
      "dtypes: datetime64[ns](2), float64(5), int64(6), object(2)\n",
      "memory usage: 14.5+ KB\n"
     ]
    }
   ],
   "source": [
    "data.info()"
   ]
  },
  {
   "cell_type": "code",
   "execution_count": 12,
   "metadata": {
    "id": "fErEpUhDsWFs"
   },
   "outputs": [],
   "source": [
    "data['total_sunshine_hours'] = (data['sunset'] - data['sunrise']).dt.total_seconds() / 3600\n"
   ]
  },
  {
   "cell_type": "code",
   "execution_count": 13,
   "metadata": {
    "colab": {
     "base_uri": "https://localhost:8080/",
     "height": 348
    },
    "id": "gsyS3IPJMyms",
    "outputId": "07872277-2cb7-4f11-f94d-2044b847a852"
   },
   "outputs": [
    {
     "data": {
      "text/html": [
       "<div>\n",
       "<style scoped>\n",
       "    .dataframe tbody tr th:only-of-type {\n",
       "        vertical-align: middle;\n",
       "    }\n",
       "\n",
       "    .dataframe tbody tr th {\n",
       "        vertical-align: top;\n",
       "    }\n",
       "\n",
       "    .dataframe thead th {\n",
       "        text-align: right;\n",
       "    }\n",
       "</style>\n",
       "<table border=\"1\" class=\"dataframe\">\n",
       "  <thead>\n",
       "    <tr style=\"text-align: right;\">\n",
       "      <th></th>\n",
       "      <th>temp</th>\n",
       "      <th>temp_min</th>\n",
       "      <th>temp_max</th>\n",
       "      <th>pressure</th>\n",
       "      <th>humidity</th>\n",
       "      <th>sea_level</th>\n",
       "      <th>ground_level</th>\n",
       "      <th>wind_speed</th>\n",
       "      <th>wind_degree</th>\n",
       "      <th>sunrise</th>\n",
       "      <th>sunset</th>\n",
       "      <th>cloud</th>\n",
       "      <th>description</th>\n",
       "      <th>region</th>\n",
       "      <th>Energy</th>\n",
       "      <th>total_sunshine_hours</th>\n",
       "    </tr>\n",
       "  </thead>\n",
       "  <tbody>\n",
       "    <tr>\n",
       "      <th>0</th>\n",
       "      <td>313.34</td>\n",
       "      <td>313.34</td>\n",
       "      <td>313.34</td>\n",
       "      <td>1006</td>\n",
       "      <td>28</td>\n",
       "      <td>1006</td>\n",
       "      <td>985</td>\n",
       "      <td>0.64</td>\n",
       "      <td>183</td>\n",
       "      <td>2024-02-21 05:50:33</td>\n",
       "      <td>2024-02-21 17:45:20</td>\n",
       "      <td>41</td>\n",
       "      <td>Clouds</td>\n",
       "      <td>Abuja</td>\n",
       "      <td>246.0</td>\n",
       "      <td>11.913056</td>\n",
       "    </tr>\n",
       "    <tr>\n",
       "      <th>1</th>\n",
       "      <td>313.60</td>\n",
       "      <td>313.60</td>\n",
       "      <td>313.60</td>\n",
       "      <td>1006</td>\n",
       "      <td>30</td>\n",
       "      <td>1006</td>\n",
       "      <td>1001</td>\n",
       "      <td>1.35</td>\n",
       "      <td>213</td>\n",
       "      <td>2024-02-21 05:49:15</td>\n",
       "      <td>2024-02-21 17:44:09</td>\n",
       "      <td>31</td>\n",
       "      <td>Clouds</td>\n",
       "      <td>Abuja</td>\n",
       "      <td>250.0</td>\n",
       "      <td>11.915000</td>\n",
       "    </tr>\n",
       "    <tr>\n",
       "      <th>2</th>\n",
       "      <td>313.61</td>\n",
       "      <td>313.61</td>\n",
       "      <td>313.61</td>\n",
       "      <td>1005</td>\n",
       "      <td>29</td>\n",
       "      <td>1005</td>\n",
       "      <td>998</td>\n",
       "      <td>1.37</td>\n",
       "      <td>214</td>\n",
       "      <td>2024-02-21 05:49:29</td>\n",
       "      <td>2024-02-21 17:44:14</td>\n",
       "      <td>34</td>\n",
       "      <td>Clouds</td>\n",
       "      <td>Abuja</td>\n",
       "      <td>244.0</td>\n",
       "      <td>11.912500</td>\n",
       "    </tr>\n",
       "    <tr>\n",
       "      <th>3</th>\n",
       "      <td>312.30</td>\n",
       "      <td>312.30</td>\n",
       "      <td>312.30</td>\n",
       "      <td>1006</td>\n",
       "      <td>28</td>\n",
       "      <td>1006</td>\n",
       "      <td>971</td>\n",
       "      <td>0.67</td>\n",
       "      <td>197</td>\n",
       "      <td>2024-02-21 05:50:07</td>\n",
       "      <td>2024-02-21 17:44:44</td>\n",
       "      <td>36</td>\n",
       "      <td>Clouds</td>\n",
       "      <td>Abuja</td>\n",
       "      <td>236.0</td>\n",
       "      <td>11.910278</td>\n",
       "    </tr>\n",
       "    <tr>\n",
       "      <th>4</th>\n",
       "      <td>313.58</td>\n",
       "      <td>313.58</td>\n",
       "      <td>313.58</td>\n",
       "      <td>1006</td>\n",
       "      <td>29</td>\n",
       "      <td>1006</td>\n",
       "      <td>997</td>\n",
       "      <td>1.28</td>\n",
       "      <td>211</td>\n",
       "      <td>2024-02-21 05:49:35</td>\n",
       "      <td>2024-02-21 17:44:23</td>\n",
       "      <td>33</td>\n",
       "      <td>Clouds</td>\n",
       "      <td>Abuja</td>\n",
       "      <td>212.0</td>\n",
       "      <td>11.913333</td>\n",
       "    </tr>\n",
       "  </tbody>\n",
       "</table>\n",
       "</div>"
      ],
      "text/plain": [
       "     temp  temp_min  temp_max  pressure  humidity  sea_level  ground_level  \\\n",
       "0  313.34    313.34    313.34      1006        28       1006           985   \n",
       "1  313.60    313.60    313.60      1006        30       1006          1001   \n",
       "2  313.61    313.61    313.61      1005        29       1005           998   \n",
       "3  312.30    312.30    312.30      1006        28       1006           971   \n",
       "4  313.58    313.58    313.58      1006        29       1006           997   \n",
       "\n",
       "   wind_speed  wind_degree             sunrise              sunset  cloud  \\\n",
       "0        0.64          183 2024-02-21 05:50:33 2024-02-21 17:45:20     41   \n",
       "1        1.35          213 2024-02-21 05:49:15 2024-02-21 17:44:09     31   \n",
       "2        1.37          214 2024-02-21 05:49:29 2024-02-21 17:44:14     34   \n",
       "3        0.67          197 2024-02-21 05:50:07 2024-02-21 17:44:44     36   \n",
       "4        1.28          211 2024-02-21 05:49:35 2024-02-21 17:44:23     33   \n",
       "\n",
       "  description region  Energy  total_sunshine_hours  \n",
       "0      Clouds  Abuja   246.0             11.913056  \n",
       "1      Clouds  Abuja   250.0             11.915000  \n",
       "2      Clouds  Abuja   244.0             11.912500  \n",
       "3      Clouds  Abuja   236.0             11.910278  \n",
       "4      Clouds  Abuja   212.0             11.913333  "
      ]
     },
     "execution_count": 13,
     "metadata": {},
     "output_type": "execute_result"
    }
   ],
   "source": [
    "data.head()"
   ]
  },
  {
   "cell_type": "code",
   "execution_count": 14,
   "metadata": {
    "colab": {
     "base_uri": "https://localhost:8080/",
     "height": 287
    },
    "id": "ff2T6jZUtM9M",
    "outputId": "b3b67b94-e3cb-4504-e8fe-31c5993e2d69"
   },
   "outputs": [],
   "source": [
    "data = data.drop([\"sunrise\", \"sunset\", \"temp\", \"region\"], axis=1)"
   ]
  },
  {
   "cell_type": "code",
   "execution_count": 15,
   "metadata": {
    "id": "t9mnHiozwpJl"
   },
   "outputs": [
    {
     "data": {
      "text/html": [
       "<div>\n",
       "<style scoped>\n",
       "    .dataframe tbody tr th:only-of-type {\n",
       "        vertical-align: middle;\n",
       "    }\n",
       "\n",
       "    .dataframe tbody tr th {\n",
       "        vertical-align: top;\n",
       "    }\n",
       "\n",
       "    .dataframe thead th {\n",
       "        text-align: right;\n",
       "    }\n",
       "</style>\n",
       "<table border=\"1\" class=\"dataframe\">\n",
       "  <thead>\n",
       "    <tr style=\"text-align: right;\">\n",
       "      <th></th>\n",
       "      <th>temp_min</th>\n",
       "      <th>temp_max</th>\n",
       "      <th>pressure</th>\n",
       "      <th>humidity</th>\n",
       "      <th>sea_level</th>\n",
       "      <th>ground_level</th>\n",
       "      <th>wind_speed</th>\n",
       "      <th>wind_degree</th>\n",
       "      <th>cloud</th>\n",
       "      <th>description</th>\n",
       "      <th>Energy</th>\n",
       "      <th>total_sunshine_hours</th>\n",
       "    </tr>\n",
       "  </thead>\n",
       "  <tbody>\n",
       "    <tr>\n",
       "      <th>0</th>\n",
       "      <td>313.34</td>\n",
       "      <td>313.34</td>\n",
       "      <td>1006</td>\n",
       "      <td>28</td>\n",
       "      <td>1006</td>\n",
       "      <td>985</td>\n",
       "      <td>0.64</td>\n",
       "      <td>183</td>\n",
       "      <td>41</td>\n",
       "      <td>Clouds</td>\n",
       "      <td>246.0</td>\n",
       "      <td>11.913056</td>\n",
       "    </tr>\n",
       "    <tr>\n",
       "      <th>1</th>\n",
       "      <td>313.60</td>\n",
       "      <td>313.60</td>\n",
       "      <td>1006</td>\n",
       "      <td>30</td>\n",
       "      <td>1006</td>\n",
       "      <td>1001</td>\n",
       "      <td>1.35</td>\n",
       "      <td>213</td>\n",
       "      <td>31</td>\n",
       "      <td>Clouds</td>\n",
       "      <td>250.0</td>\n",
       "      <td>11.915000</td>\n",
       "    </tr>\n",
       "    <tr>\n",
       "      <th>2</th>\n",
       "      <td>313.61</td>\n",
       "      <td>313.61</td>\n",
       "      <td>1005</td>\n",
       "      <td>29</td>\n",
       "      <td>1005</td>\n",
       "      <td>998</td>\n",
       "      <td>1.37</td>\n",
       "      <td>214</td>\n",
       "      <td>34</td>\n",
       "      <td>Clouds</td>\n",
       "      <td>244.0</td>\n",
       "      <td>11.912500</td>\n",
       "    </tr>\n",
       "    <tr>\n",
       "      <th>3</th>\n",
       "      <td>312.30</td>\n",
       "      <td>312.30</td>\n",
       "      <td>1006</td>\n",
       "      <td>28</td>\n",
       "      <td>1006</td>\n",
       "      <td>971</td>\n",
       "      <td>0.67</td>\n",
       "      <td>197</td>\n",
       "      <td>36</td>\n",
       "      <td>Clouds</td>\n",
       "      <td>236.0</td>\n",
       "      <td>11.910278</td>\n",
       "    </tr>\n",
       "    <tr>\n",
       "      <th>4</th>\n",
       "      <td>313.58</td>\n",
       "      <td>313.58</td>\n",
       "      <td>1006</td>\n",
       "      <td>29</td>\n",
       "      <td>1006</td>\n",
       "      <td>997</td>\n",
       "      <td>1.28</td>\n",
       "      <td>211</td>\n",
       "      <td>33</td>\n",
       "      <td>Clouds</td>\n",
       "      <td>212.0</td>\n",
       "      <td>11.913333</td>\n",
       "    </tr>\n",
       "  </tbody>\n",
       "</table>\n",
       "</div>"
      ],
      "text/plain": [
       "   temp_min  temp_max  pressure  humidity  sea_level  ground_level  \\\n",
       "0    313.34    313.34      1006        28       1006           985   \n",
       "1    313.60    313.60      1006        30       1006          1001   \n",
       "2    313.61    313.61      1005        29       1005           998   \n",
       "3    312.30    312.30      1006        28       1006           971   \n",
       "4    313.58    313.58      1006        29       1006           997   \n",
       "\n",
       "   wind_speed  wind_degree  cloud description  Energy  total_sunshine_hours  \n",
       "0        0.64          183     41      Clouds   246.0             11.913056  \n",
       "1        1.35          213     31      Clouds   250.0             11.915000  \n",
       "2        1.37          214     34      Clouds   244.0             11.912500  \n",
       "3        0.67          197     36      Clouds   236.0             11.910278  \n",
       "4        1.28          211     33      Clouds   212.0             11.913333  "
      ]
     },
     "execution_count": 15,
     "metadata": {},
     "output_type": "execute_result"
    }
   ],
   "source": [
    "data.head()"
   ]
  },
  {
   "cell_type": "code",
   "execution_count": 16,
   "metadata": {
    "id": "stinpZtLr7CD"
   },
   "outputs": [
    {
     "data": {
      "text/html": [
       "<div>\n",
       "<style scoped>\n",
       "    .dataframe tbody tr th:only-of-type {\n",
       "        vertical-align: middle;\n",
       "    }\n",
       "\n",
       "    .dataframe tbody tr th {\n",
       "        vertical-align: top;\n",
       "    }\n",
       "\n",
       "    .dataframe thead th {\n",
       "        text-align: right;\n",
       "    }\n",
       "</style>\n",
       "<table border=\"1\" class=\"dataframe\">\n",
       "  <thead>\n",
       "    <tr style=\"text-align: right;\">\n",
       "      <th></th>\n",
       "      <th>temp_min</th>\n",
       "      <th>temp_max</th>\n",
       "      <th>pressure</th>\n",
       "      <th>humidity</th>\n",
       "      <th>sea_level</th>\n",
       "      <th>ground_level</th>\n",
       "      <th>wind_speed</th>\n",
       "      <th>wind_degree</th>\n",
       "      <th>cloud</th>\n",
       "      <th>Energy</th>\n",
       "      <th>total_sunshine_hours</th>\n",
       "    </tr>\n",
       "  </thead>\n",
       "  <tbody>\n",
       "    <tr>\n",
       "      <th>count</th>\n",
       "      <td>123.000000</td>\n",
       "      <td>123.000000</td>\n",
       "      <td>123.000000</td>\n",
       "      <td>123.000000</td>\n",
       "      <td>123.000000</td>\n",
       "      <td>123.000000</td>\n",
       "      <td>123.000000</td>\n",
       "      <td>123.000000</td>\n",
       "      <td>123.000000</td>\n",
       "      <td>123.000000</td>\n",
       "      <td>123.000000</td>\n",
       "    </tr>\n",
       "    <tr>\n",
       "      <th>mean</th>\n",
       "      <td>305.116667</td>\n",
       "      <td>305.116667</td>\n",
       "      <td>1009.495935</td>\n",
       "      <td>38.308943</td>\n",
       "      <td>1009.495935</td>\n",
       "      <td>998.634146</td>\n",
       "      <td>1.369431</td>\n",
       "      <td>180.699187</td>\n",
       "      <td>75.406504</td>\n",
       "      <td>227.677236</td>\n",
       "      <td>11.933284</td>\n",
       "    </tr>\n",
       "    <tr>\n",
       "      <th>std</th>\n",
       "      <td>4.043879</td>\n",
       "      <td>4.043879</td>\n",
       "      <td>1.947567</td>\n",
       "      <td>13.336828</td>\n",
       "      <td>1.947567</td>\n",
       "      <td>8.848699</td>\n",
       "      <td>0.536305</td>\n",
       "      <td>83.564242</td>\n",
       "      <td>33.328430</td>\n",
       "      <td>36.967555</td>\n",
       "      <td>0.013912</td>\n",
       "    </tr>\n",
       "    <tr>\n",
       "      <th>min</th>\n",
       "      <td>298.910000</td>\n",
       "      <td>298.910000</td>\n",
       "      <td>1005.000000</td>\n",
       "      <td>19.000000</td>\n",
       "      <td>1005.000000</td>\n",
       "      <td>971.000000</td>\n",
       "      <td>0.440000</td>\n",
       "      <td>3.000000</td>\n",
       "      <td>6.000000</td>\n",
       "      <td>130.000000</td>\n",
       "      <td>11.910278</td>\n",
       "    </tr>\n",
       "    <tr>\n",
       "      <th>25%</th>\n",
       "      <td>302.345000</td>\n",
       "      <td>302.345000</td>\n",
       "      <td>1008.000000</td>\n",
       "      <td>30.000000</td>\n",
       "      <td>1008.000000</td>\n",
       "      <td>993.500000</td>\n",
       "      <td>1.025000</td>\n",
       "      <td>140.500000</td>\n",
       "      <td>38.500000</td>\n",
       "      <td>209.000000</td>\n",
       "      <td>11.921111</td>\n",
       "    </tr>\n",
       "    <tr>\n",
       "      <th>50%</th>\n",
       "      <td>304.820000</td>\n",
       "      <td>304.820000</td>\n",
       "      <td>1010.000000</td>\n",
       "      <td>32.000000</td>\n",
       "      <td>1010.000000</td>\n",
       "      <td>1002.000000</td>\n",
       "      <td>1.250000</td>\n",
       "      <td>191.000000</td>\n",
       "      <td>94.000000</td>\n",
       "      <td>229.000000</td>\n",
       "      <td>11.932500</td>\n",
       "    </tr>\n",
       "    <tr>\n",
       "      <th>75%</th>\n",
       "      <td>305.980000</td>\n",
       "      <td>305.980000</td>\n",
       "      <td>1011.000000</td>\n",
       "      <td>54.500000</td>\n",
       "      <td>1011.000000</td>\n",
       "      <td>1005.000000</td>\n",
       "      <td>1.765000</td>\n",
       "      <td>211.000000</td>\n",
       "      <td>99.500000</td>\n",
       "      <td>251.000000</td>\n",
       "      <td>11.946250</td>\n",
       "    </tr>\n",
       "    <tr>\n",
       "      <th>max</th>\n",
       "      <td>313.800000</td>\n",
       "      <td>313.800000</td>\n",
       "      <td>1012.000000</td>\n",
       "      <td>61.000000</td>\n",
       "      <td>1012.000000</td>\n",
       "      <td>1007.000000</td>\n",
       "      <td>3.330000</td>\n",
       "      <td>343.000000</td>\n",
       "      <td>100.000000</td>\n",
       "      <td>317.000000</td>\n",
       "      <td>11.955833</td>\n",
       "    </tr>\n",
       "  </tbody>\n",
       "</table>\n",
       "</div>"
      ],
      "text/plain": [
       "         temp_min    temp_max     pressure    humidity    sea_level  \\\n",
       "count  123.000000  123.000000   123.000000  123.000000   123.000000   \n",
       "mean   305.116667  305.116667  1009.495935   38.308943  1009.495935   \n",
       "std      4.043879    4.043879     1.947567   13.336828     1.947567   \n",
       "min    298.910000  298.910000  1005.000000   19.000000  1005.000000   \n",
       "25%    302.345000  302.345000  1008.000000   30.000000  1008.000000   \n",
       "50%    304.820000  304.820000  1010.000000   32.000000  1010.000000   \n",
       "75%    305.980000  305.980000  1011.000000   54.500000  1011.000000   \n",
       "max    313.800000  313.800000  1012.000000   61.000000  1012.000000   \n",
       "\n",
       "       ground_level  wind_speed  wind_degree       cloud      Energy  \\\n",
       "count    123.000000  123.000000   123.000000  123.000000  123.000000   \n",
       "mean     998.634146    1.369431   180.699187   75.406504  227.677236   \n",
       "std        8.848699    0.536305    83.564242   33.328430   36.967555   \n",
       "min      971.000000    0.440000     3.000000    6.000000  130.000000   \n",
       "25%      993.500000    1.025000   140.500000   38.500000  209.000000   \n",
       "50%     1002.000000    1.250000   191.000000   94.000000  229.000000   \n",
       "75%     1005.000000    1.765000   211.000000   99.500000  251.000000   \n",
       "max     1007.000000    3.330000   343.000000  100.000000  317.000000   \n",
       "\n",
       "       total_sunshine_hours  \n",
       "count            123.000000  \n",
       "mean              11.933284  \n",
       "std                0.013912  \n",
       "min               11.910278  \n",
       "25%               11.921111  \n",
       "50%               11.932500  \n",
       "75%               11.946250  \n",
       "max               11.955833  "
      ]
     },
     "execution_count": 16,
     "metadata": {},
     "output_type": "execute_result"
    }
   ],
   "source": [
    "data.describe()"
   ]
  },
  {
   "cell_type": "code",
   "execution_count": 17,
   "metadata": {
    "id": "UU59LnWrwwcs"
   },
   "outputs": [
    {
     "data": {
      "text/plain": [
       "temp_min                0\n",
       "temp_max                0\n",
       "pressure                0\n",
       "humidity                0\n",
       "sea_level               0\n",
       "ground_level            0\n",
       "wind_speed              0\n",
       "wind_degree             0\n",
       "cloud                   0\n",
       "description             0\n",
       "Energy                  0\n",
       "total_sunshine_hours    0\n",
       "dtype: int64"
      ]
     },
     "execution_count": 17,
     "metadata": {},
     "output_type": "execute_result"
    }
   ],
   "source": [
    "data.isnull().sum()"
   ]
  },
  {
   "cell_type": "code",
   "execution_count": 18,
   "metadata": {
    "id": "BR_zEEo4xFbu"
   },
   "outputs": [
    {
     "data": {
      "text/plain": [
       "temp_min                0\n",
       "temp_max                0\n",
       "pressure                0\n",
       "humidity                0\n",
       "sea_level               0\n",
       "ground_level            0\n",
       "wind_speed              0\n",
       "wind_degree             0\n",
       "cloud                   0\n",
       "description             0\n",
       "Energy                  0\n",
       "total_sunshine_hours    0\n",
       "dtype: int64"
      ]
     },
     "execution_count": 18,
     "metadata": {},
     "output_type": "execute_result"
    }
   ],
   "source": [
    "data.isna().sum()"
   ]
  },
  {
   "cell_type": "code",
   "execution_count": 19,
   "metadata": {
    "id": "dttStKrlxKud"
   },
   "outputs": [
    {
     "data": {
      "text/html": [
       "<div>\n",
       "<style scoped>\n",
       "    .dataframe tbody tr th:only-of-type {\n",
       "        vertical-align: middle;\n",
       "    }\n",
       "\n",
       "    .dataframe tbody tr th {\n",
       "        vertical-align: top;\n",
       "    }\n",
       "\n",
       "    .dataframe thead th {\n",
       "        text-align: right;\n",
       "    }\n",
       "</style>\n",
       "<table border=\"1\" class=\"dataframe\">\n",
       "  <thead>\n",
       "    <tr style=\"text-align: right;\">\n",
       "      <th></th>\n",
       "      <th>temp_min</th>\n",
       "      <th>temp_max</th>\n",
       "      <th>pressure</th>\n",
       "      <th>humidity</th>\n",
       "      <th>sea_level</th>\n",
       "      <th>ground_level</th>\n",
       "      <th>wind_speed</th>\n",
       "      <th>wind_degree</th>\n",
       "      <th>cloud</th>\n",
       "      <th>description</th>\n",
       "      <th>Energy</th>\n",
       "      <th>total_sunshine_hours</th>\n",
       "    </tr>\n",
       "  </thead>\n",
       "  <tbody>\n",
       "    <tr>\n",
       "      <th>0</th>\n",
       "      <td>313.34</td>\n",
       "      <td>313.34</td>\n",
       "      <td>1006</td>\n",
       "      <td>28</td>\n",
       "      <td>1006</td>\n",
       "      <td>985</td>\n",
       "      <td>0.64</td>\n",
       "      <td>183</td>\n",
       "      <td>41</td>\n",
       "      <td>Clouds</td>\n",
       "      <td>246.0</td>\n",
       "      <td>11.913056</td>\n",
       "    </tr>\n",
       "    <tr>\n",
       "      <th>1</th>\n",
       "      <td>313.60</td>\n",
       "      <td>313.60</td>\n",
       "      <td>1006</td>\n",
       "      <td>30</td>\n",
       "      <td>1006</td>\n",
       "      <td>1001</td>\n",
       "      <td>1.35</td>\n",
       "      <td>213</td>\n",
       "      <td>31</td>\n",
       "      <td>Clouds</td>\n",
       "      <td>250.0</td>\n",
       "      <td>11.915000</td>\n",
       "    </tr>\n",
       "    <tr>\n",
       "      <th>2</th>\n",
       "      <td>313.61</td>\n",
       "      <td>313.61</td>\n",
       "      <td>1005</td>\n",
       "      <td>29</td>\n",
       "      <td>1005</td>\n",
       "      <td>998</td>\n",
       "      <td>1.37</td>\n",
       "      <td>214</td>\n",
       "      <td>34</td>\n",
       "      <td>Clouds</td>\n",
       "      <td>244.0</td>\n",
       "      <td>11.912500</td>\n",
       "    </tr>\n",
       "    <tr>\n",
       "      <th>3</th>\n",
       "      <td>312.30</td>\n",
       "      <td>312.30</td>\n",
       "      <td>1006</td>\n",
       "      <td>28</td>\n",
       "      <td>1006</td>\n",
       "      <td>971</td>\n",
       "      <td>0.67</td>\n",
       "      <td>197</td>\n",
       "      <td>36</td>\n",
       "      <td>Clouds</td>\n",
       "      <td>236.0</td>\n",
       "      <td>11.910278</td>\n",
       "    </tr>\n",
       "    <tr>\n",
       "      <th>4</th>\n",
       "      <td>313.58</td>\n",
       "      <td>313.58</td>\n",
       "      <td>1006</td>\n",
       "      <td>29</td>\n",
       "      <td>1006</td>\n",
       "      <td>997</td>\n",
       "      <td>1.28</td>\n",
       "      <td>211</td>\n",
       "      <td>33</td>\n",
       "      <td>Clouds</td>\n",
       "      <td>212.0</td>\n",
       "      <td>11.913333</td>\n",
       "    </tr>\n",
       "  </tbody>\n",
       "</table>\n",
       "</div>"
      ],
      "text/plain": [
       "   temp_min  temp_max  pressure  humidity  sea_level  ground_level  \\\n",
       "0    313.34    313.34      1006        28       1006           985   \n",
       "1    313.60    313.60      1006        30       1006          1001   \n",
       "2    313.61    313.61      1005        29       1005           998   \n",
       "3    312.30    312.30      1006        28       1006           971   \n",
       "4    313.58    313.58      1006        29       1006           997   \n",
       "\n",
       "   wind_speed  wind_degree  cloud description  Energy  total_sunshine_hours  \n",
       "0        0.64          183     41      Clouds   246.0             11.913056  \n",
       "1        1.35          213     31      Clouds   250.0             11.915000  \n",
       "2        1.37          214     34      Clouds   244.0             11.912500  \n",
       "3        0.67          197     36      Clouds   236.0             11.910278  \n",
       "4        1.28          211     33      Clouds   212.0             11.913333  "
      ]
     },
     "execution_count": 19,
     "metadata": {},
     "output_type": "execute_result"
    }
   ],
   "source": [
    "data.head()"
   ]
  },
  {
   "cell_type": "markdown",
   "metadata": {
    "id": "v7lq31ZX1WNy"
   },
   "source": [
    "## Data Visualization"
   ]
  },
  {
   "cell_type": "code",
   "execution_count": 20,
   "metadata": {
    "id": "nefmgewB7qQS"
   },
   "outputs": [
    {
     "data": {
      "image/png": "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",
      "text/plain": [
       "<Figure size 800x400 with 1 Axes>"
      ]
     },
     "metadata": {},
     "output_type": "display_data"
    }
   ],
   "source": [
    "# @title pressure\n",
    "\n",
    "from matplotlib import pyplot as plt\n",
    "data['pressure'].plot(kind='line', figsize=(8, 4), title='pressure')\n",
    "plt.grid()\n",
    "plt.gca().spines[['top', 'right']].set_visible(False)"
   ]
  },
  {
   "cell_type": "code",
   "execution_count": 21,
   "metadata": {
    "id": "NN-KjHAU5H0M"
   },
   "outputs": [
    {
     "data": {
      "image/png": "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",
      "text/plain": [
       "<Figure size 800x400 with 1 Axes>"
      ]
     },
     "metadata": {},
     "output_type": "display_data"
    }
   ],
   "source": [
    "# @title temp_min\n",
    "\n",
    "from matplotlib import pyplot as plt\n",
    "data['temp_min'].plot(kind='line', figsize=(8, 4), title='temp_min')\n",
    "plt.grid()\n",
    "plt.gca().spines[['top', 'right']].set_visible(False)"
   ]
  },
  {
   "cell_type": "code",
   "execution_count": 22,
   "metadata": {
    "id": "P2NDVccl4XUx"
   },
   "outputs": [
    {
     "data": {
      "image/png": "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",
      "text/plain": [
       "<Figure size 640x480 with 1 Axes>"
      ]
     },
     "metadata": {},
     "output_type": "display_data"
    }
   ],
   "source": [
    "# @title description\n",
    "\n",
    "from matplotlib import pyplot as plt\n",
    "import seaborn as sns\n",
    "data.groupby('description').size().plot(kind='barh', color=sns.palettes.mpl_palette('Dark2'))\n",
    "plt.grid()\n",
    "plt.gca().spines[['top', 'right',]].set_visible(False)"
   ]
  },
  {
   "cell_type": "code",
   "execution_count": 23,
   "metadata": {
    "id": "Murddd9U4K5Y"
   },
   "outputs": [
    {
     "data": {
      "image/png": "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",
      "text/plain": [
       "<Figure size 640x480 with 1 Axes>"
      ]
     },
     "metadata": {},
     "output_type": "display_data"
    }
   ],
   "source": [
    "# @title pressure\n",
    "\n",
    "from matplotlib import pyplot as plt\n",
    "data['pressure'].plot(kind='hist', bins=20, title='pressure')\n",
    "plt.gca().spines[['top', 'right',]].set_visible(False)"
   ]
  },
  {
   "cell_type": "code",
   "execution_count": 24,
   "metadata": {
    "id": "FASperoA4BsW"
   },
   "outputs": [
    {
     "data": {
      "image/png": "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",
      "text/plain": [
       "<Figure size 640x480 with 1 Axes>"
      ]
     },
     "metadata": {},
     "output_type": "display_data"
    }
   ],
   "source": [
    "# @title temp_max\n",
    "\n",
    "from matplotlib import pyplot as plt\n",
    "data['temp_max'].plot(kind='hist', bins=20, title='temp_max')\n",
    "plt.gca().spines[['top', 'right',]].set_visible(False)"
   ]
  },
  {
   "cell_type": "code",
   "execution_count": 25,
   "metadata": {
    "id": "pqNi3y9d3uoG"
   },
   "outputs": [
    {
     "data": {
      "image/png": "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",
      "text/plain": [
       "<Figure size 640x480 with 1 Axes>"
      ]
     },
     "metadata": {},
     "output_type": "display_data"
    }
   ],
   "source": [
    "# @title temp_min\n",
    "\n",
    "from matplotlib import pyplot as plt\n",
    "data['temp_min'].plot(kind='hist', bins=20, title='temp_min')\n",
    "plt.gca().spines[['top', 'right',]].set_visible(False)"
   ]
  },
  {
   "cell_type": "code",
   "execution_count": 26,
   "metadata": {
    "id": "L1Qc1n3-_Gc9"
   },
   "outputs": [
    {
     "data": {
      "image/png": "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",
      "text/plain": [
       "<Figure size 640x480 with 1 Axes>"
      ]
     },
     "metadata": {},
     "output_type": "display_data"
    }
   ],
   "source": [
    "from matplotlib import pyplot as plt\n",
    "data['temp_max'].plot(kind='hist', bins=20, title='Energy Consumption (GWh)')\n",
    "plt.gca().spines[['top', 'right',]].set_visible(False)"
   ]
  },
  {
   "cell_type": "code",
   "execution_count": 27,
   "metadata": {
    "id": "PHj994yZAFKb"
   },
   "outputs": [
    {
     "data": {
      "image/png": "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",
      "text/plain": [
       "<Figure size 640x480 with 1 Axes>"
      ]
     },
     "metadata": {},
     "output_type": "display_data"
    }
   ],
   "source": [
    "# @title temp_min\n",
    "\n",
    "from matplotlib import pyplot as plt\n",
    "data['temp_min'].plot(kind='hist', bins=20, title='total_sunshine_hours')\n",
    "plt.gca().spines[['top', 'right',]].set_visible(False)"
   ]
  },
  {
   "cell_type": "markdown",
   "metadata": {
    "id": "yFoDInb8AosV"
   },
   "source": [
    "# Data Manipulation"
   ]
  },
  {
   "cell_type": "code",
   "execution_count": 28,
   "metadata": {
    "id": "toUPTFa7BX3a"
   },
   "outputs": [
    {
     "data": {
      "text/html": [
       "<div>\n",
       "<style scoped>\n",
       "    .dataframe tbody tr th:only-of-type {\n",
       "        vertical-align: middle;\n",
       "    }\n",
       "\n",
       "    .dataframe tbody tr th {\n",
       "        vertical-align: top;\n",
       "    }\n",
       "\n",
       "    .dataframe thead th {\n",
       "        text-align: right;\n",
       "    }\n",
       "</style>\n",
       "<table border=\"1\" class=\"dataframe\">\n",
       "  <thead>\n",
       "    <tr style=\"text-align: right;\">\n",
       "      <th></th>\n",
       "      <th>temp_min</th>\n",
       "      <th>temp_max</th>\n",
       "      <th>pressure</th>\n",
       "      <th>humidity</th>\n",
       "      <th>sea_level</th>\n",
       "      <th>ground_level</th>\n",
       "      <th>wind_speed</th>\n",
       "      <th>wind_degree</th>\n",
       "      <th>cloud</th>\n",
       "      <th>description</th>\n",
       "      <th>Energy</th>\n",
       "      <th>total_sunshine_hours</th>\n",
       "    </tr>\n",
       "  </thead>\n",
       "  <tbody>\n",
       "    <tr>\n",
       "      <th>0</th>\n",
       "      <td>313.34</td>\n",
       "      <td>313.34</td>\n",
       "      <td>1006</td>\n",
       "      <td>28</td>\n",
       "      <td>1006</td>\n",
       "      <td>985</td>\n",
       "      <td>0.64</td>\n",
       "      <td>183</td>\n",
       "      <td>41</td>\n",
       "      <td>Clouds</td>\n",
       "      <td>246.0</td>\n",
       "      <td>11.913056</td>\n",
       "    </tr>\n",
       "    <tr>\n",
       "      <th>1</th>\n",
       "      <td>313.60</td>\n",
       "      <td>313.60</td>\n",
       "      <td>1006</td>\n",
       "      <td>30</td>\n",
       "      <td>1006</td>\n",
       "      <td>1001</td>\n",
       "      <td>1.35</td>\n",
       "      <td>213</td>\n",
       "      <td>31</td>\n",
       "      <td>Clouds</td>\n",
       "      <td>250.0</td>\n",
       "      <td>11.915000</td>\n",
       "    </tr>\n",
       "    <tr>\n",
       "      <th>2</th>\n",
       "      <td>313.61</td>\n",
       "      <td>313.61</td>\n",
       "      <td>1005</td>\n",
       "      <td>29</td>\n",
       "      <td>1005</td>\n",
       "      <td>998</td>\n",
       "      <td>1.37</td>\n",
       "      <td>214</td>\n",
       "      <td>34</td>\n",
       "      <td>Clouds</td>\n",
       "      <td>244.0</td>\n",
       "      <td>11.912500</td>\n",
       "    </tr>\n",
       "    <tr>\n",
       "      <th>3</th>\n",
       "      <td>312.30</td>\n",
       "      <td>312.30</td>\n",
       "      <td>1006</td>\n",
       "      <td>28</td>\n",
       "      <td>1006</td>\n",
       "      <td>971</td>\n",
       "      <td>0.67</td>\n",
       "      <td>197</td>\n",
       "      <td>36</td>\n",
       "      <td>Clouds</td>\n",
       "      <td>236.0</td>\n",
       "      <td>11.910278</td>\n",
       "    </tr>\n",
       "    <tr>\n",
       "      <th>4</th>\n",
       "      <td>313.58</td>\n",
       "      <td>313.58</td>\n",
       "      <td>1006</td>\n",
       "      <td>29</td>\n",
       "      <td>1006</td>\n",
       "      <td>997</td>\n",
       "      <td>1.28</td>\n",
       "      <td>211</td>\n",
       "      <td>33</td>\n",
       "      <td>Clouds</td>\n",
       "      <td>212.0</td>\n",
       "      <td>11.913333</td>\n",
       "    </tr>\n",
       "  </tbody>\n",
       "</table>\n",
       "</div>"
      ],
      "text/plain": [
       "   temp_min  temp_max  pressure  humidity  sea_level  ground_level  \\\n",
       "0    313.34    313.34      1006        28       1006           985   \n",
       "1    313.60    313.60      1006        30       1006          1001   \n",
       "2    313.61    313.61      1005        29       1005           998   \n",
       "3    312.30    312.30      1006        28       1006           971   \n",
       "4    313.58    313.58      1006        29       1006           997   \n",
       "\n",
       "   wind_speed  wind_degree  cloud description  Energy  total_sunshine_hours  \n",
       "0        0.64          183     41      Clouds   246.0             11.913056  \n",
       "1        1.35          213     31      Clouds   250.0             11.915000  \n",
       "2        1.37          214     34      Clouds   244.0             11.912500  \n",
       "3        0.67          197     36      Clouds   236.0             11.910278  \n",
       "4        1.28          211     33      Clouds   212.0             11.913333  "
      ]
     },
     "execution_count": 28,
     "metadata": {},
     "output_type": "execute_result"
    }
   ],
   "source": [
    " data.head()"
   ]
  },
  {
   "cell_type": "code",
   "execution_count": 29,
   "metadata": {},
   "outputs": [
    {
     "data": {
      "text/plain": [
       "array(['Clouds', 'Rain', 'Clear'], dtype=object)"
      ]
     },
     "execution_count": 29,
     "metadata": {},
     "output_type": "execute_result"
    }
   ],
   "source": [
    "data.description.unique()"
   ]
  },
  {
   "cell_type": "code",
   "execution_count": 30,
   "metadata": {
    "id": "K75-nJtpGxUc"
   },
   "outputs": [],
   "source": [
    "one_hot_encoded_data = pd.get_dummies(data, columns=['description']).astype(float)"
   ]
  },
  {
   "cell_type": "code",
   "execution_count": 31,
   "metadata": {
    "id": "h7aOpGhQH-Mx"
   },
   "outputs": [
    {
     "data": {
      "text/html": [
       "<div>\n",
       "<style scoped>\n",
       "    .dataframe tbody tr th:only-of-type {\n",
       "        vertical-align: middle;\n",
       "    }\n",
       "\n",
       "    .dataframe tbody tr th {\n",
       "        vertical-align: top;\n",
       "    }\n",
       "\n",
       "    .dataframe thead th {\n",
       "        text-align: right;\n",
       "    }\n",
       "</style>\n",
       "<table border=\"1\" class=\"dataframe\">\n",
       "  <thead>\n",
       "    <tr style=\"text-align: right;\">\n",
       "      <th></th>\n",
       "      <th>temp_min</th>\n",
       "      <th>temp_max</th>\n",
       "      <th>pressure</th>\n",
       "      <th>humidity</th>\n",
       "      <th>sea_level</th>\n",
       "      <th>ground_level</th>\n",
       "      <th>wind_speed</th>\n",
       "      <th>wind_degree</th>\n",
       "      <th>cloud</th>\n",
       "      <th>Energy</th>\n",
       "      <th>total_sunshine_hours</th>\n",
       "      <th>description_Clear</th>\n",
       "      <th>description_Clouds</th>\n",
       "      <th>description_Rain</th>\n",
       "    </tr>\n",
       "  </thead>\n",
       "  <tbody>\n",
       "    <tr>\n",
       "      <th>0</th>\n",
       "      <td>313.34</td>\n",
       "      <td>313.34</td>\n",
       "      <td>1006.0</td>\n",
       "      <td>28.0</td>\n",
       "      <td>1006.0</td>\n",
       "      <td>985.0</td>\n",
       "      <td>0.64</td>\n",
       "      <td>183.0</td>\n",
       "      <td>41.0</td>\n",
       "      <td>246.0</td>\n",
       "      <td>11.913056</td>\n",
       "      <td>0.0</td>\n",
       "      <td>1.0</td>\n",
       "      <td>0.0</td>\n",
       "    </tr>\n",
       "    <tr>\n",
       "      <th>1</th>\n",
       "      <td>313.60</td>\n",
       "      <td>313.60</td>\n",
       "      <td>1006.0</td>\n",
       "      <td>30.0</td>\n",
       "      <td>1006.0</td>\n",
       "      <td>1001.0</td>\n",
       "      <td>1.35</td>\n",
       "      <td>213.0</td>\n",
       "      <td>31.0</td>\n",
       "      <td>250.0</td>\n",
       "      <td>11.915000</td>\n",
       "      <td>0.0</td>\n",
       "      <td>1.0</td>\n",
       "      <td>0.0</td>\n",
       "    </tr>\n",
       "    <tr>\n",
       "      <th>2</th>\n",
       "      <td>313.61</td>\n",
       "      <td>313.61</td>\n",
       "      <td>1005.0</td>\n",
       "      <td>29.0</td>\n",
       "      <td>1005.0</td>\n",
       "      <td>998.0</td>\n",
       "      <td>1.37</td>\n",
       "      <td>214.0</td>\n",
       "      <td>34.0</td>\n",
       "      <td>244.0</td>\n",
       "      <td>11.912500</td>\n",
       "      <td>0.0</td>\n",
       "      <td>1.0</td>\n",
       "      <td>0.0</td>\n",
       "    </tr>\n",
       "    <tr>\n",
       "      <th>3</th>\n",
       "      <td>312.30</td>\n",
       "      <td>312.30</td>\n",
       "      <td>1006.0</td>\n",
       "      <td>28.0</td>\n",
       "      <td>1006.0</td>\n",
       "      <td>971.0</td>\n",
       "      <td>0.67</td>\n",
       "      <td>197.0</td>\n",
       "      <td>36.0</td>\n",
       "      <td>236.0</td>\n",
       "      <td>11.910278</td>\n",
       "      <td>0.0</td>\n",
       "      <td>1.0</td>\n",
       "      <td>0.0</td>\n",
       "    </tr>\n",
       "    <tr>\n",
       "      <th>4</th>\n",
       "      <td>313.58</td>\n",
       "      <td>313.58</td>\n",
       "      <td>1006.0</td>\n",
       "      <td>29.0</td>\n",
       "      <td>1006.0</td>\n",
       "      <td>997.0</td>\n",
       "      <td>1.28</td>\n",
       "      <td>211.0</td>\n",
       "      <td>33.0</td>\n",
       "      <td>212.0</td>\n",
       "      <td>11.913333</td>\n",
       "      <td>0.0</td>\n",
       "      <td>1.0</td>\n",
       "      <td>0.0</td>\n",
       "    </tr>\n",
       "  </tbody>\n",
       "</table>\n",
       "</div>"
      ],
      "text/plain": [
       "   temp_min  temp_max  pressure  humidity  sea_level  ground_level  \\\n",
       "0    313.34    313.34    1006.0      28.0     1006.0         985.0   \n",
       "1    313.60    313.60    1006.0      30.0     1006.0        1001.0   \n",
       "2    313.61    313.61    1005.0      29.0     1005.0         998.0   \n",
       "3    312.30    312.30    1006.0      28.0     1006.0         971.0   \n",
       "4    313.58    313.58    1006.0      29.0     1006.0         997.0   \n",
       "\n",
       "   wind_speed  wind_degree  cloud  Energy  total_sunshine_hours  \\\n",
       "0        0.64        183.0   41.0   246.0             11.913056   \n",
       "1        1.35        213.0   31.0   250.0             11.915000   \n",
       "2        1.37        214.0   34.0   244.0             11.912500   \n",
       "3        0.67        197.0   36.0   236.0             11.910278   \n",
       "4        1.28        211.0   33.0   212.0             11.913333   \n",
       "\n",
       "   description_Clear  description_Clouds  description_Rain  \n",
       "0                0.0                 1.0               0.0  \n",
       "1                0.0                 1.0               0.0  \n",
       "2                0.0                 1.0               0.0  \n",
       "3                0.0                 1.0               0.0  \n",
       "4                0.0                 1.0               0.0  "
      ]
     },
     "execution_count": 31,
     "metadata": {},
     "output_type": "execute_result"
    }
   ],
   "source": [
    "one_hot_encoded_data.head()\n"
   ]
  },
  {
   "cell_type": "code",
   "execution_count": 32,
   "metadata": {},
   "outputs": [
    {
     "data": {
      "text/plain": [
       "(123, 14)"
      ]
     },
     "execution_count": 32,
     "metadata": {},
     "output_type": "execute_result"
    }
   ],
   "source": [
    "one_hot_encoded_data.shape"
   ]
  },
  {
   "cell_type": "code",
   "execution_count": 33,
   "metadata": {},
   "outputs": [],
   "source": [
    "data = one_hot_encoded_data.copy()"
   ]
  },
  {
   "cell_type": "markdown",
   "metadata": {},
   "source": [
    "## Data Spliting"
   ]
  },
  {
   "cell_type": "code",
   "execution_count": 34,
   "metadata": {},
   "outputs": [],
   "source": [
    "from sklearn.model_selection import train_test_split\n",
    "\n",
    "train_data, temp_data = train_test_split(one_hot_encoded_data, test_size=0.4, random_state=42)\n"
   ]
  },
  {
   "cell_type": "code",
   "execution_count": 35,
   "metadata": {},
   "outputs": [],
   "source": [
    "test_data, val_data = train_test_split(temp_data, test_size=0.5, random_state=42)"
   ]
  },
  {
   "cell_type": "markdown",
   "metadata": {},
   "source": [
    "# Data Normalization / Scaling"
   ]
  },
  {
   "cell_type": "code",
   "execution_count": 36,
   "metadata": {},
   "outputs": [
    {
     "data": {
      "text/html": [
       "<div>\n",
       "<style scoped>\n",
       "    .dataframe tbody tr th:only-of-type {\n",
       "        vertical-align: middle;\n",
       "    }\n",
       "\n",
       "    .dataframe tbody tr th {\n",
       "        vertical-align: top;\n",
       "    }\n",
       "\n",
       "    .dataframe thead th {\n",
       "        text-align: right;\n",
       "    }\n",
       "</style>\n",
       "<table border=\"1\" class=\"dataframe\">\n",
       "  <thead>\n",
       "    <tr style=\"text-align: right;\">\n",
       "      <th></th>\n",
       "      <th>count</th>\n",
       "      <th>mean</th>\n",
       "      <th>std</th>\n",
       "      <th>min</th>\n",
       "      <th>25%</th>\n",
       "      <th>50%</th>\n",
       "      <th>75%</th>\n",
       "      <th>max</th>\n",
       "    </tr>\n",
       "  </thead>\n",
       "  <tbody>\n",
       "    <tr>\n",
       "      <th>temp_min</th>\n",
       "      <td>73.0</td>\n",
       "      <td>304.871370</td>\n",
       "      <td>3.884178</td>\n",
       "      <td>298.910000</td>\n",
       "      <td>302.380000</td>\n",
       "      <td>303.950000</td>\n",
       "      <td>305.870000</td>\n",
       "      <td>313.800000</td>\n",
       "    </tr>\n",
       "    <tr>\n",
       "      <th>temp_max</th>\n",
       "      <td>73.0</td>\n",
       "      <td>304.871370</td>\n",
       "      <td>3.884178</td>\n",
       "      <td>298.910000</td>\n",
       "      <td>302.380000</td>\n",
       "      <td>303.950000</td>\n",
       "      <td>305.870000</td>\n",
       "      <td>313.800000</td>\n",
       "    </tr>\n",
       "    <tr>\n",
       "      <th>pressure</th>\n",
       "      <td>73.0</td>\n",
       "      <td>1009.630137</td>\n",
       "      <td>1.859711</td>\n",
       "      <td>1005.000000</td>\n",
       "      <td>1009.000000</td>\n",
       "      <td>1010.000000</td>\n",
       "      <td>1011.000000</td>\n",
       "      <td>1012.000000</td>\n",
       "    </tr>\n",
       "    <tr>\n",
       "      <th>humidity</th>\n",
       "      <td>73.0</td>\n",
       "      <td>38.726027</td>\n",
       "      <td>13.651679</td>\n",
       "      <td>19.000000</td>\n",
       "      <td>30.000000</td>\n",
       "      <td>32.000000</td>\n",
       "      <td>56.000000</td>\n",
       "      <td>61.000000</td>\n",
       "    </tr>\n",
       "    <tr>\n",
       "      <th>sea_level</th>\n",
       "      <td>73.0</td>\n",
       "      <td>1009.630137</td>\n",
       "      <td>1.859711</td>\n",
       "      <td>1005.000000</td>\n",
       "      <td>1009.000000</td>\n",
       "      <td>1010.000000</td>\n",
       "      <td>1011.000000</td>\n",
       "      <td>1012.000000</td>\n",
       "    </tr>\n",
       "    <tr>\n",
       "      <th>ground_level</th>\n",
       "      <td>73.0</td>\n",
       "      <td>998.506849</td>\n",
       "      <td>9.302215</td>\n",
       "      <td>971.000000</td>\n",
       "      <td>993.000000</td>\n",
       "      <td>1002.000000</td>\n",
       "      <td>1005.000000</td>\n",
       "      <td>1007.000000</td>\n",
       "    </tr>\n",
       "    <tr>\n",
       "      <th>wind_speed</th>\n",
       "      <td>73.0</td>\n",
       "      <td>1.415342</td>\n",
       "      <td>0.576327</td>\n",
       "      <td>0.510000</td>\n",
       "      <td>1.010000</td>\n",
       "      <td>1.250000</td>\n",
       "      <td>1.890000</td>\n",
       "      <td>3.330000</td>\n",
       "    </tr>\n",
       "    <tr>\n",
       "      <th>wind_degree</th>\n",
       "      <td>73.0</td>\n",
       "      <td>181.780822</td>\n",
       "      <td>86.393359</td>\n",
       "      <td>3.000000</td>\n",
       "      <td>101.000000</td>\n",
       "      <td>194.000000</td>\n",
       "      <td>211.000000</td>\n",
       "      <td>343.000000</td>\n",
       "    </tr>\n",
       "    <tr>\n",
       "      <th>cloud</th>\n",
       "      <td>73.0</td>\n",
       "      <td>76.424658</td>\n",
       "      <td>32.946049</td>\n",
       "      <td>6.000000</td>\n",
       "      <td>45.000000</td>\n",
       "      <td>95.000000</td>\n",
       "      <td>99.000000</td>\n",
       "      <td>100.000000</td>\n",
       "    </tr>\n",
       "    <tr>\n",
       "      <th>total_sunshine_hours</th>\n",
       "      <td>73.0</td>\n",
       "      <td>11.934490</td>\n",
       "      <td>0.013935</td>\n",
       "      <td>11.910278</td>\n",
       "      <td>11.923889</td>\n",
       "      <td>11.933611</td>\n",
       "      <td>11.947222</td>\n",
       "      <td>11.955556</td>\n",
       "    </tr>\n",
       "    <tr>\n",
       "      <th>description_Clear</th>\n",
       "      <td>73.0</td>\n",
       "      <td>0.082192</td>\n",
       "      <td>0.276557</td>\n",
       "      <td>0.000000</td>\n",
       "      <td>0.000000</td>\n",
       "      <td>0.000000</td>\n",
       "      <td>0.000000</td>\n",
       "      <td>1.000000</td>\n",
       "    </tr>\n",
       "    <tr>\n",
       "      <th>description_Clouds</th>\n",
       "      <td>73.0</td>\n",
       "      <td>0.780822</td>\n",
       "      <td>0.416552</td>\n",
       "      <td>0.000000</td>\n",
       "      <td>1.000000</td>\n",
       "      <td>1.000000</td>\n",
       "      <td>1.000000</td>\n",
       "      <td>1.000000</td>\n",
       "    </tr>\n",
       "    <tr>\n",
       "      <th>description_Rain</th>\n",
       "      <td>73.0</td>\n",
       "      <td>0.136986</td>\n",
       "      <td>0.346212</td>\n",
       "      <td>0.000000</td>\n",
       "      <td>0.000000</td>\n",
       "      <td>0.000000</td>\n",
       "      <td>0.000000</td>\n",
       "      <td>1.000000</td>\n",
       "    </tr>\n",
       "  </tbody>\n",
       "</table>\n",
       "</div>"
      ],
      "text/plain": [
       "                      count         mean        std          min          25%  \\\n",
       "temp_min               73.0   304.871370   3.884178   298.910000   302.380000   \n",
       "temp_max               73.0   304.871370   3.884178   298.910000   302.380000   \n",
       "pressure               73.0  1009.630137   1.859711  1005.000000  1009.000000   \n",
       "humidity               73.0    38.726027  13.651679    19.000000    30.000000   \n",
       "sea_level              73.0  1009.630137   1.859711  1005.000000  1009.000000   \n",
       "ground_level           73.0   998.506849   9.302215   971.000000   993.000000   \n",
       "wind_speed             73.0     1.415342   0.576327     0.510000     1.010000   \n",
       "wind_degree            73.0   181.780822  86.393359     3.000000   101.000000   \n",
       "cloud                  73.0    76.424658  32.946049     6.000000    45.000000   \n",
       "total_sunshine_hours   73.0    11.934490   0.013935    11.910278    11.923889   \n",
       "description_Clear      73.0     0.082192   0.276557     0.000000     0.000000   \n",
       "description_Clouds     73.0     0.780822   0.416552     0.000000     1.000000   \n",
       "description_Rain       73.0     0.136986   0.346212     0.000000     0.000000   \n",
       "\n",
       "                              50%          75%          max  \n",
       "temp_min               303.950000   305.870000   313.800000  \n",
       "temp_max               303.950000   305.870000   313.800000  \n",
       "pressure              1010.000000  1011.000000  1012.000000  \n",
       "humidity                32.000000    56.000000    61.000000  \n",
       "sea_level             1010.000000  1011.000000  1012.000000  \n",
       "ground_level          1002.000000  1005.000000  1007.000000  \n",
       "wind_speed               1.250000     1.890000     3.330000  \n",
       "wind_degree            194.000000   211.000000   343.000000  \n",
       "cloud                   95.000000    99.000000   100.000000  \n",
       "total_sunshine_hours    11.933611    11.947222    11.955556  \n",
       "description_Clear        0.000000     0.000000     1.000000  \n",
       "description_Clouds       1.000000     1.000000     1.000000  \n",
       "description_Rain         0.000000     0.000000     1.000000  "
      ]
     },
     "execution_count": 36,
     "metadata": {},
     "output_type": "execute_result"
    }
   ],
   "source": [
    "train_stat = train_data.describe()\n",
    "train_stat.pop(\"Energy\")\n",
    "train_stat = train_stat.transpose()\n",
    "train_stat"
   ]
  },
  {
   "cell_type": "code",
   "execution_count": 37,
   "metadata": {},
   "outputs": [],
   "source": [
    "train_label = train_data.pop(\"Energy\")\n",
    "test_label = test_data.pop(\"Energy\")\n",
    "val_data_label = val_data.pop(\"Energy\")"
   ]
  },
  {
   "cell_type": "code",
   "execution_count": 38,
   "metadata": {},
   "outputs": [],
   "source": [
    "def norm(x):\n",
    "    return (x- train_stat['mean']) / train_stat['std']\n",
    "\n",
    "\n",
    "norm_train_data = norm(train_data)\n",
    "norm_test_data = norm(test_data)\n",
    "norm_val_data = norm(val_data)"
   ]
  },
  {
   "cell_type": "code",
   "execution_count": 39,
   "metadata": {},
   "outputs": [
    {
     "name": "stdout",
     "output_type": "stream",
     "text": [
      "Train/Test/Validate split: \n",
      "Train:    (73, 13)\n",
      "Test:     (25, 13)\n",
      "Validate: (25, 13)\n",
      "Train/Test/Validate Labels: \n",
      "Train Labels:    (73,)\n",
      "Test Labels:     (25,)\n",
      "Validate Labels: (25, 13)\n"
     ]
    }
   ],
   "source": [
    "print(r'Train/Test/Validate split: ')\n",
    "print(f'Train:    {norm_train_data.shape}')\n",
    "print(f'Test:     {norm_test_data.shape}')\n",
    "print(f'Validate: {norm_test_data.shape}')\n",
    "\n",
    "\n",
    "print(r'Train/Test/Validate Labels: ')\n",
    "print(f'Train Labels:    {train_label.shape}')\n",
    "print(f'Test Labels:     {test_label.shape}')\n",
    "print(f'Validate Labels: {val_data.shape}')"
   ]
  },
  {
   "cell_type": "code",
   "execution_count": 40,
   "metadata": {},
   "outputs": [
    {
     "data": {
      "text/html": [
       "<div>\n",
       "<style scoped>\n",
       "    .dataframe tbody tr th:only-of-type {\n",
       "        vertical-align: middle;\n",
       "    }\n",
       "\n",
       "    .dataframe tbody tr th {\n",
       "        vertical-align: top;\n",
       "    }\n",
       "\n",
       "    .dataframe thead th {\n",
       "        text-align: right;\n",
       "    }\n",
       "</style>\n",
       "<table border=\"1\" class=\"dataframe\">\n",
       "  <thead>\n",
       "    <tr style=\"text-align: right;\">\n",
       "      <th></th>\n",
       "      <th>temp_min</th>\n",
       "      <th>temp_max</th>\n",
       "      <th>pressure</th>\n",
       "      <th>humidity</th>\n",
       "      <th>sea_level</th>\n",
       "      <th>ground_level</th>\n",
       "      <th>wind_speed</th>\n",
       "      <th>wind_degree</th>\n",
       "      <th>cloud</th>\n",
       "      <th>total_sunshine_hours</th>\n",
       "      <th>description_Clear</th>\n",
       "      <th>description_Clouds</th>\n",
       "      <th>description_Rain</th>\n",
       "    </tr>\n",
       "  </thead>\n",
       "  <tbody>\n",
       "    <tr>\n",
       "      <th>39</th>\n",
       "      <td>-0.667160</td>\n",
       "      <td>-0.667160</td>\n",
       "      <td>0.736600</td>\n",
       "      <td>-0.346187</td>\n",
       "      <td>0.736600</td>\n",
       "      <td>0.805523</td>\n",
       "      <td>-0.217485</td>\n",
       "      <td>-1.178109</td>\n",
       "      <td>0.685222</td>\n",
       "      <td>-0.441832</td>\n",
       "      <td>-0.297196</td>\n",
       "      <td>0.526172</td>\n",
       "      <td>-0.395671</td>\n",
       "    </tr>\n",
       "    <tr>\n",
       "      <th>49</th>\n",
       "      <td>-0.649139</td>\n",
       "      <td>-0.649139</td>\n",
       "      <td>0.736600</td>\n",
       "      <td>-0.492689</td>\n",
       "      <td>0.736600</td>\n",
       "      <td>0.375518</td>\n",
       "      <td>0.823590</td>\n",
       "      <td>-1.050785</td>\n",
       "      <td>0.685222</td>\n",
       "      <td>-0.681044</td>\n",
       "      <td>-0.297196</td>\n",
       "      <td>0.526172</td>\n",
       "      <td>-0.395671</td>\n",
       "    </tr>\n",
       "    <tr>\n",
       "      <th>35</th>\n",
       "      <td>-0.641415</td>\n",
       "      <td>-0.641415</td>\n",
       "      <td>0.736600</td>\n",
       "      <td>-0.346187</td>\n",
       "      <td>0.736600</td>\n",
       "      <td>0.805523</td>\n",
       "      <td>0.962400</td>\n",
       "      <td>-1.108660</td>\n",
       "      <td>0.685222</td>\n",
       "      <td>-0.681044</td>\n",
       "      <td>-0.297196</td>\n",
       "      <td>0.526172</td>\n",
       "      <td>-0.395671</td>\n",
       "    </tr>\n",
       "    <tr>\n",
       "      <th>16</th>\n",
       "      <td>0.156695</td>\n",
       "      <td>0.156695</td>\n",
       "      <td>-0.338836</td>\n",
       "      <td>1.265337</td>\n",
       "      <td>-0.338836</td>\n",
       "      <td>0.590521</td>\n",
       "      <td>-0.286890</td>\n",
       "      <td>-0.090063</td>\n",
       "      <td>0.290637</td>\n",
       "      <td>-1.179402</td>\n",
       "      <td>-0.297196</td>\n",
       "      <td>-1.874486</td>\n",
       "      <td>2.492729</td>\n",
       "    </tr>\n",
       "    <tr>\n",
       "      <th>67</th>\n",
       "      <td>-1.230986</td>\n",
       "      <td>-1.230986</td>\n",
       "      <td>0.198882</td>\n",
       "      <td>-0.565940</td>\n",
       "      <td>0.198882</td>\n",
       "      <td>0.805523</td>\n",
       "      <td>-0.547159</td>\n",
       "      <td>0.002537</td>\n",
       "      <td>0.715574</td>\n",
       "      <td>-0.063080</td>\n",
       "      <td>-0.297196</td>\n",
       "      <td>0.526172</td>\n",
       "      <td>-0.395671</td>\n",
       "    </tr>\n",
       "  </tbody>\n",
       "</table>\n",
       "</div>"
      ],
      "text/plain": [
       "    temp_min  temp_max  pressure  humidity  sea_level  ground_level  \\\n",
       "39 -0.667160 -0.667160  0.736600 -0.346187   0.736600      0.805523   \n",
       "49 -0.649139 -0.649139  0.736600 -0.492689   0.736600      0.375518   \n",
       "35 -0.641415 -0.641415  0.736600 -0.346187   0.736600      0.805523   \n",
       "16  0.156695  0.156695 -0.338836  1.265337  -0.338836      0.590521   \n",
       "67 -1.230986 -1.230986  0.198882 -0.565940   0.198882      0.805523   \n",
       "\n",
       "    wind_speed  wind_degree     cloud  total_sunshine_hours  \\\n",
       "39   -0.217485    -1.178109  0.685222             -0.441832   \n",
       "49    0.823590    -1.050785  0.685222             -0.681044   \n",
       "35    0.962400    -1.108660  0.685222             -0.681044   \n",
       "16   -0.286890    -0.090063  0.290637             -1.179402   \n",
       "67   -0.547159     0.002537  0.715574             -0.063080   \n",
       "\n",
       "    description_Clear  description_Clouds  description_Rain  \n",
       "39          -0.297196            0.526172         -0.395671  \n",
       "49          -0.297196            0.526172         -0.395671  \n",
       "35          -0.297196            0.526172         -0.395671  \n",
       "16          -0.297196           -1.874486          2.492729  \n",
       "67          -0.297196            0.526172         -0.395671  "
      ]
     },
     "execution_count": 40,
     "metadata": {},
     "output_type": "execute_result"
    }
   ],
   "source": [
    "norm_train_data.head()"
   ]
  },
  {
   "cell_type": "markdown",
   "metadata": {},
   "source": [
    "# **Build Artificial Neural Network Model**"
   ]
  },
  {
   "cell_type": "code",
   "execution_count": 46,
   "metadata": {},
   "outputs": [],
   "source": [
    "def build_model():\n",
    "    model = Sequential()\n",
    "    \n",
    "    # Define the neural network architecture\n",
    "    model.add(Dense(32, input_shape = (norm_train_data.shape[1], )))\n",
    "    \n",
    "    model.add(Dense(64, Activation('relu')))\n",
    "    \n",
    "    model.add(Dense(128, Activation('relu')))\n",
    "    \n",
    "    model.add(Dense(32, Activation('relu')))\n",
    "    \n",
    "    model.add(Dense(1))\n",
    "    \n",
    "    # Compile the model\n",
    "    learning_rate = 0.001\n",
    "    optimizer = 'adam'\n",
    "    model.compile(loss='mse',\n",
    "                  optimizer = optimizer,\n",
    "                  metrics = ['mae', 'mse'])\n",
    "    \n",
    "    return model\n"
   ]
  },
  {
   "cell_type": "code",
   "execution_count": 47,
   "metadata": {},
   "outputs": [
    {
     "name": "stdout",
     "output_type": "stream",
     "text": [
      "Here is the Model Summary\n"
     ]
    },
    {
     "name": "stderr",
     "output_type": "stream",
     "text": [
      "C:\\Users\\user\\anaconda3\\Lib\\site-packages\\keras\\src\\layers\\core\\dense.py:87: UserWarning: Do not pass an `input_shape`/`input_dim` argument to a layer. When using Sequential models, prefer using an `Input(shape)` object as the first layer in the model instead.\n",
      "  super().__init__(activity_regularizer=activity_regularizer, **kwargs)\n"
     ]
    },
    {
     "data": {
      "text/html": [
       "<pre style=\"white-space:pre;overflow-x:auto;line-height:normal;font-family:Menlo,'DejaVu Sans Mono',consolas,'Courier New',monospace\"><span style=\"font-weight: bold\">Model: \"sequential_3\"</span>\n",
       "</pre>\n"
      ],
      "text/plain": [
       "\u001b[1mModel: \"sequential_3\"\u001b[0m\n"
      ]
     },
     "metadata": {},
     "output_type": "display_data"
    },
    {
     "data": {
      "text/html": [
       "<pre style=\"white-space:pre;overflow-x:auto;line-height:normal;font-family:Menlo,'DejaVu Sans Mono',consolas,'Courier New',monospace\">┏━━━━━━━━━━━━━━━━━━━━━━━━━━━━━━━━━┳━━━━━━━━━━━━━━━━━━━━━━━━┳━━━━━━━━━━━━━━━┓\n",
       "┃<span style=\"font-weight: bold\"> Layer (type)                    </span>┃<span style=\"font-weight: bold\"> Output Shape           </span>┃<span style=\"font-weight: bold\">       Param # </span>┃\n",
       "┡━━━━━━━━━━━━━━━━━━━━━━━━━━━━━━━━━╇━━━━━━━━━━━━━━━━━━━━━━━━╇━━━━━━━━━━━━━━━┩\n",
       "│ dense_15 (<span style=\"color: #0087ff; text-decoration-color: #0087ff\">Dense</span>)                │ (<span style=\"color: #00d7ff; text-decoration-color: #00d7ff\">None</span>, <span style=\"color: #00af00; text-decoration-color: #00af00\">32</span>)             │           <span style=\"color: #00af00; text-decoration-color: #00af00\">448</span> │\n",
       "├─────────────────────────────────┼────────────────────────┼───────────────┤\n",
       "│ dense_16 (<span style=\"color: #0087ff; text-decoration-color: #0087ff\">Dense</span>)                │ (<span style=\"color: #00d7ff; text-decoration-color: #00d7ff\">None</span>, <span style=\"color: #00af00; text-decoration-color: #00af00\">64</span>)             │         <span style=\"color: #00af00; text-decoration-color: #00af00\">2,112</span> │\n",
       "├─────────────────────────────────┼────────────────────────┼───────────────┤\n",
       "│ dense_17 (<span style=\"color: #0087ff; text-decoration-color: #0087ff\">Dense</span>)                │ (<span style=\"color: #00d7ff; text-decoration-color: #00d7ff\">None</span>, <span style=\"color: #00af00; text-decoration-color: #00af00\">128</span>)            │         <span style=\"color: #00af00; text-decoration-color: #00af00\">8,320</span> │\n",
       "├─────────────────────────────────┼────────────────────────┼───────────────┤\n",
       "│ dense_18 (<span style=\"color: #0087ff; text-decoration-color: #0087ff\">Dense</span>)                │ (<span style=\"color: #00d7ff; text-decoration-color: #00d7ff\">None</span>, <span style=\"color: #00af00; text-decoration-color: #00af00\">32</span>)             │         <span style=\"color: #00af00; text-decoration-color: #00af00\">4,128</span> │\n",
       "├─────────────────────────────────┼────────────────────────┼───────────────┤\n",
       "│ dense_19 (<span style=\"color: #0087ff; text-decoration-color: #0087ff\">Dense</span>)                │ (<span style=\"color: #00d7ff; text-decoration-color: #00d7ff\">None</span>, <span style=\"color: #00af00; text-decoration-color: #00af00\">1</span>)              │            <span style=\"color: #00af00; text-decoration-color: #00af00\">33</span> │\n",
       "└─────────────────────────────────┴────────────────────────┴───────────────┘\n",
       "</pre>\n"
      ],
      "text/plain": [
       "┏━━━━━━━━━━━━━━━━━━━━━━━━━━━━━━━━━┳━━━━━━━━━━━━━━━━━━━━━━━━┳━━━━━━━━━━━━━━━┓\n",
       "┃\u001b[1m \u001b[0m\u001b[1mLayer (type)                   \u001b[0m\u001b[1m \u001b[0m┃\u001b[1m \u001b[0m\u001b[1mOutput Shape          \u001b[0m\u001b[1m \u001b[0m┃\u001b[1m \u001b[0m\u001b[1m      Param #\u001b[0m\u001b[1m \u001b[0m┃\n",
       "┡━━━━━━━━━━━━━━━━━━━━━━━━━━━━━━━━━╇━━━━━━━━━━━━━━━━━━━━━━━━╇━━━━━━━━━━━━━━━┩\n",
       "│ dense_15 (\u001b[38;5;33mDense\u001b[0m)                │ (\u001b[38;5;45mNone\u001b[0m, \u001b[38;5;34m32\u001b[0m)             │           \u001b[38;5;34m448\u001b[0m │\n",
       "├─────────────────────────────────┼────────────────────────┼───────────────┤\n",
       "│ dense_16 (\u001b[38;5;33mDense\u001b[0m)                │ (\u001b[38;5;45mNone\u001b[0m, \u001b[38;5;34m64\u001b[0m)             │         \u001b[38;5;34m2,112\u001b[0m │\n",
       "├─────────────────────────────────┼────────────────────────┼───────────────┤\n",
       "│ dense_17 (\u001b[38;5;33mDense\u001b[0m)                │ (\u001b[38;5;45mNone\u001b[0m, \u001b[38;5;34m128\u001b[0m)            │         \u001b[38;5;34m8,320\u001b[0m │\n",
       "├─────────────────────────────────┼────────────────────────┼───────────────┤\n",
       "│ dense_18 (\u001b[38;5;33mDense\u001b[0m)                │ (\u001b[38;5;45mNone\u001b[0m, \u001b[38;5;34m32\u001b[0m)             │         \u001b[38;5;34m4,128\u001b[0m │\n",
       "├─────────────────────────────────┼────────────────────────┼───────────────┤\n",
       "│ dense_19 (\u001b[38;5;33mDense\u001b[0m)                │ (\u001b[38;5;45mNone\u001b[0m, \u001b[38;5;34m1\u001b[0m)              │            \u001b[38;5;34m33\u001b[0m │\n",
       "└─────────────────────────────────┴────────────────────────┴───────────────┘\n"
      ]
     },
     "metadata": {},
     "output_type": "display_data"
    },
    {
     "data": {
      "text/html": [
       "<pre style=\"white-space:pre;overflow-x:auto;line-height:normal;font-family:Menlo,'DejaVu Sans Mono',consolas,'Courier New',monospace\"><span style=\"font-weight: bold\"> Total params: </span><span style=\"color: #00af00; text-decoration-color: #00af00\">15,041</span> (58.75 KB)\n",
       "</pre>\n"
      ],
      "text/plain": [
       "\u001b[1m Total params: \u001b[0m\u001b[38;5;34m15,041\u001b[0m (58.75 KB)\n"
      ]
     },
     "metadata": {},
     "output_type": "display_data"
    },
    {
     "data": {
      "text/html": [
       "<pre style=\"white-space:pre;overflow-x:auto;line-height:normal;font-family:Menlo,'DejaVu Sans Mono',consolas,'Courier New',monospace\"><span style=\"font-weight: bold\"> Trainable params: </span><span style=\"color: #00af00; text-decoration-color: #00af00\">15,041</span> (58.75 KB)\n",
       "</pre>\n"
      ],
      "text/plain": [
       "\u001b[1m Trainable params: \u001b[0m\u001b[38;5;34m15,041\u001b[0m (58.75 KB)\n"
      ]
     },
     "metadata": {},
     "output_type": "display_data"
    },
    {
     "data": {
      "text/html": [
       "<pre style=\"white-space:pre;overflow-x:auto;line-height:normal;font-family:Menlo,'DejaVu Sans Mono',consolas,'Courier New',monospace\"><span style=\"font-weight: bold\"> Non-trainable params: </span><span style=\"color: #00af00; text-decoration-color: #00af00\">0</span> (0.00 B)\n",
       "</pre>\n"
      ],
      "text/plain": [
       "\u001b[1m Non-trainable params: \u001b[0m\u001b[38;5;34m0\u001b[0m (0.00 B)\n"
      ]
     },
     "metadata": {},
     "output_type": "display_data"
    }
   ],
   "source": [
    "model = build_model()\n",
    "print(\"Here is the Model Summary\")\n",
    "model.summary()"
   ]
  },
  {
   "cell_type": "markdown",
   "metadata": {},
   "source": [
    "# Model Trainning"
   ]
  },
  {
   "cell_type": "code",
   "execution_count": 55,
   "metadata": {},
   "outputs": [
    {
     "name": "stdout",
     "output_type": "stream",
     "text": [
      "This is the model Summary\n"
     ]
    },
    {
     "name": "stderr",
     "output_type": "stream",
     "text": [
      "C:\\Users\\user\\anaconda3\\Lib\\site-packages\\keras\\src\\layers\\core\\dense.py:87: UserWarning: Do not pass an `input_shape`/`input_dim` argument to a layer. When using Sequential models, prefer using an `Input(shape)` object as the first layer in the model instead.\n",
      "  super().__init__(activity_regularizer=activity_regularizer, **kwargs)\n"
     ]
    },
    {
     "data": {
      "text/html": [
       "<pre style=\"white-space:pre;overflow-x:auto;line-height:normal;font-family:Menlo,'DejaVu Sans Mono',consolas,'Courier New',monospace\"><span style=\"font-weight: bold\">Model: \"sequential_8\"</span>\n",
       "</pre>\n"
      ],
      "text/plain": [
       "\u001b[1mModel: \"sequential_8\"\u001b[0m\n"
      ]
     },
     "metadata": {},
     "output_type": "display_data"
    },
    {
     "data": {
      "text/html": [
       "<pre style=\"white-space:pre;overflow-x:auto;line-height:normal;font-family:Menlo,'DejaVu Sans Mono',consolas,'Courier New',monospace\">┏━━━━━━━━━━━━━━━━━━━━━━━━━━━━━━━━━┳━━━━━━━━━━━━━━━━━━━━━━━━┳━━━━━━━━━━━━━━━┓\n",
       "┃<span style=\"font-weight: bold\"> Layer (type)                    </span>┃<span style=\"font-weight: bold\"> Output Shape           </span>┃<span style=\"font-weight: bold\">       Param # </span>┃\n",
       "┡━━━━━━━━━━━━━━━━━━━━━━━━━━━━━━━━━╇━━━━━━━━━━━━━━━━━━━━━━━━╇━━━━━━━━━━━━━━━┩\n",
       "│ dense_40 (<span style=\"color: #0087ff; text-decoration-color: #0087ff\">Dense</span>)                │ (<span style=\"color: #00d7ff; text-decoration-color: #00d7ff\">None</span>, <span style=\"color: #00af00; text-decoration-color: #00af00\">32</span>)             │           <span style=\"color: #00af00; text-decoration-color: #00af00\">448</span> │\n",
       "├─────────────────────────────────┼────────────────────────┼───────────────┤\n",
       "│ dense_41 (<span style=\"color: #0087ff; text-decoration-color: #0087ff\">Dense</span>)                │ (<span style=\"color: #00d7ff; text-decoration-color: #00d7ff\">None</span>, <span style=\"color: #00af00; text-decoration-color: #00af00\">64</span>)             │         <span style=\"color: #00af00; text-decoration-color: #00af00\">2,112</span> │\n",
       "├─────────────────────────────────┼────────────────────────┼───────────────┤\n",
       "│ dense_42 (<span style=\"color: #0087ff; text-decoration-color: #0087ff\">Dense</span>)                │ (<span style=\"color: #00d7ff; text-decoration-color: #00d7ff\">None</span>, <span style=\"color: #00af00; text-decoration-color: #00af00\">128</span>)            │         <span style=\"color: #00af00; text-decoration-color: #00af00\">8,320</span> │\n",
       "├─────────────────────────────────┼────────────────────────┼───────────────┤\n",
       "│ dense_43 (<span style=\"color: #0087ff; text-decoration-color: #0087ff\">Dense</span>)                │ (<span style=\"color: #00d7ff; text-decoration-color: #00d7ff\">None</span>, <span style=\"color: #00af00; text-decoration-color: #00af00\">32</span>)             │         <span style=\"color: #00af00; text-decoration-color: #00af00\">4,128</span> │\n",
       "├─────────────────────────────────┼────────────────────────┼───────────────┤\n",
       "│ dense_44 (<span style=\"color: #0087ff; text-decoration-color: #0087ff\">Dense</span>)                │ (<span style=\"color: #00d7ff; text-decoration-color: #00d7ff\">None</span>, <span style=\"color: #00af00; text-decoration-color: #00af00\">1</span>)              │            <span style=\"color: #00af00; text-decoration-color: #00af00\">33</span> │\n",
       "└─────────────────────────────────┴────────────────────────┴───────────────┘\n",
       "</pre>\n"
      ],
      "text/plain": [
       "┏━━━━━━━━━━━━━━━━━━━━━━━━━━━━━━━━━┳━━━━━━━━━━━━━━━━━━━━━━━━┳━━━━━━━━━━━━━━━┓\n",
       "┃\u001b[1m \u001b[0m\u001b[1mLayer (type)                   \u001b[0m\u001b[1m \u001b[0m┃\u001b[1m \u001b[0m\u001b[1mOutput Shape          \u001b[0m\u001b[1m \u001b[0m┃\u001b[1m \u001b[0m\u001b[1m      Param #\u001b[0m\u001b[1m \u001b[0m┃\n",
       "┡━━━━━━━━━━━━━━━━━━━━━━━━━━━━━━━━━╇━━━━━━━━━━━━━━━━━━━━━━━━╇━━━━━━━━━━━━━━━┩\n",
       "│ dense_40 (\u001b[38;5;33mDense\u001b[0m)                │ (\u001b[38;5;45mNone\u001b[0m, \u001b[38;5;34m32\u001b[0m)             │           \u001b[38;5;34m448\u001b[0m │\n",
       "├─────────────────────────────────┼────────────────────────┼───────────────┤\n",
       "│ dense_41 (\u001b[38;5;33mDense\u001b[0m)                │ (\u001b[38;5;45mNone\u001b[0m, \u001b[38;5;34m64\u001b[0m)             │         \u001b[38;5;34m2,112\u001b[0m │\n",
       "├─────────────────────────────────┼────────────────────────┼───────────────┤\n",
       "│ dense_42 (\u001b[38;5;33mDense\u001b[0m)                │ (\u001b[38;5;45mNone\u001b[0m, \u001b[38;5;34m128\u001b[0m)            │         \u001b[38;5;34m8,320\u001b[0m │\n",
       "├─────────────────────────────────┼────────────────────────┼───────────────┤\n",
       "│ dense_43 (\u001b[38;5;33mDense\u001b[0m)                │ (\u001b[38;5;45mNone\u001b[0m, \u001b[38;5;34m32\u001b[0m)             │         \u001b[38;5;34m4,128\u001b[0m │\n",
       "├─────────────────────────────────┼────────────────────────┼───────────────┤\n",
       "│ dense_44 (\u001b[38;5;33mDense\u001b[0m)                │ (\u001b[38;5;45mNone\u001b[0m, \u001b[38;5;34m1\u001b[0m)              │            \u001b[38;5;34m33\u001b[0m │\n",
       "└─────────────────────────────────┴────────────────────────┴───────────────┘\n"
      ]
     },
     "metadata": {},
     "output_type": "display_data"
    },
    {
     "data": {
      "text/html": [
       "<pre style=\"white-space:pre;overflow-x:auto;line-height:normal;font-family:Menlo,'DejaVu Sans Mono',consolas,'Courier New',monospace\"><span style=\"font-weight: bold\"> Total params: </span><span style=\"color: #00af00; text-decoration-color: #00af00\">15,041</span> (58.75 KB)\n",
       "</pre>\n"
      ],
      "text/plain": [
       "\u001b[1m Total params: \u001b[0m\u001b[38;5;34m15,041\u001b[0m (58.75 KB)\n"
      ]
     },
     "metadata": {},
     "output_type": "display_data"
    },
    {
     "data": {
      "text/html": [
       "<pre style=\"white-space:pre;overflow-x:auto;line-height:normal;font-family:Menlo,'DejaVu Sans Mono',consolas,'Courier New',monospace\"><span style=\"font-weight: bold\"> Trainable params: </span><span style=\"color: #00af00; text-decoration-color: #00af00\">15,041</span> (58.75 KB)\n",
       "</pre>\n"
      ],
      "text/plain": [
       "\u001b[1m Trainable params: \u001b[0m\u001b[38;5;34m15,041\u001b[0m (58.75 KB)\n"
      ]
     },
     "metadata": {},
     "output_type": "display_data"
    },
    {
     "data": {
      "text/html": [
       "<pre style=\"white-space:pre;overflow-x:auto;line-height:normal;font-family:Menlo,'DejaVu Sans Mono',consolas,'Courier New',monospace\"><span style=\"font-weight: bold\"> Non-trainable params: </span><span style=\"color: #00af00; text-decoration-color: #00af00\">0</span> (0.00 B)\n",
       "</pre>\n"
      ],
      "text/plain": [
       "\u001b[1m Non-trainable params: \u001b[0m\u001b[38;5;34m0\u001b[0m (0.00 B)\n"
      ]
     },
     "metadata": {},
     "output_type": "display_data"
    },
    {
     "name": "stderr",
     "output_type": "stream",
     "text": [
      "C:\\Users\\user\\anaconda3\\Lib\\contextlib.py:158: UserWarning: Your input ran out of data; interrupting training. Make sure that your dataset or generator can generate at least `steps_per_epoch * epochs` batches. You may need to use the `.repeat()` function when building your dataset.\n",
      "  self.gen.throw(typ, value, traceback)\n"
     ]
    }
   ],
   "source": [
    "# Define epochs and batch size\n",
    "epochs = 500\n",
    "batch_size = 32\n",
    "import time\n",
    "# Build the model\n",
    "model = build_model()\n",
    "print(\"This is the model Summary\")\n",
    "model.summary()\n",
    "\n",
    "# Train the model\n",
    "start_time = time.time()\n",
    "history = model.fit(norm_train_data,\n",
    "                    train_label,\n",
    "                    batch_size=batch_size,\n",
    "                    epochs=epochs,\n",
    "                    verbose=0,\n",
    "                    shuffle=True,\n",
    "                    steps_per_epoch=int(norm_train_data.shape[0] / batch_size),\n",
    "                    validation_data=(norm_val_data, val_data_label)\n",
    ")\n"
   ]
  },
  {
   "cell_type": "code",
   "execution_count": 56,
   "metadata": {},
   "outputs": [
    {
     "name": "stdout",
     "output_type": "stream",
     "text": [
      "Epoch 1/150\n",
      "\u001b[1m4/4\u001b[0m \u001b[32m━━━━━━━━━━━━━━━━━━━━\u001b[0m\u001b[37m\u001b[0m \u001b[1m0s\u001b[0m 73ms/step - loss: 991.4453 - mae: 24.1737 - mse: 991.4453 - val_loss: 1562.8789 - val_mae: 30.6732 - val_mse: 1562.8789\n",
      "Epoch 2/150\n",
      "\u001b[1m4/4\u001b[0m \u001b[32m━━━━━━━━━━━━━━━━━━━━\u001b[0m\u001b[37m\u001b[0m \u001b[1m0s\u001b[0m 26ms/step - loss: 913.8242 - mae: 23.9065 - mse: 913.8242 - val_loss: 1580.0433 - val_mae: 30.1881 - val_mse: 1580.0433\n",
      "Epoch 3/150\n",
      "\u001b[1m4/4\u001b[0m \u001b[32m━━━━━━━━━━━━━━━━━━━━\u001b[0m\u001b[37m\u001b[0m \u001b[1m0s\u001b[0m 25ms/step - loss: 874.0686 - mae: 23.0134 - mse: 874.0686 - val_loss: 1580.1494 - val_mae: 29.7403 - val_mse: 1580.1494\n",
      "Epoch 4/150\n",
      "\u001b[1m4/4\u001b[0m \u001b[32m━━━━━━━━━━━━━━━━━━━━\u001b[0m\u001b[37m\u001b[0m \u001b[1m0s\u001b[0m 31ms/step - loss: 931.7860 - mae: 22.7892 - mse: 931.7860 - val_loss: 1581.0732 - val_mae: 29.7356 - val_mse: 1581.0732\n",
      "Epoch 5/150\n",
      "\u001b[1m4/4\u001b[0m \u001b[32m━━━━━━━━━━━━━━━━━━━━\u001b[0m\u001b[37m\u001b[0m \u001b[1m0s\u001b[0m 20ms/step - loss: 986.3727 - mae: 23.7181 - mse: 986.3727 - val_loss: 1561.6904 - val_mae: 29.4567 - val_mse: 1561.6904\n",
      "Epoch 6/150\n",
      "\u001b[1m4/4\u001b[0m \u001b[32m━━━━━━━━━━━━━━━━━━━━\u001b[0m\u001b[37m\u001b[0m \u001b[1m0s\u001b[0m 19ms/step - loss: 929.2753 - mae: 23.3938 - mse: 929.2753 - val_loss: 1544.2495 - val_mae: 29.3376 - val_mse: 1544.2495\n",
      "Epoch 7/150\n",
      "\u001b[1m4/4\u001b[0m \u001b[32m━━━━━━━━━━━━━━━━━━━━\u001b[0m\u001b[37m\u001b[0m \u001b[1m0s\u001b[0m 22ms/step - loss: 1022.5082 - mae: 23.8225 - mse: 1022.5082 - val_loss: 1528.4313 - val_mae: 29.3879 - val_mse: 1528.4313\n",
      "Epoch 8/150\n",
      "\u001b[1m4/4\u001b[0m \u001b[32m━━━━━━━━━━━━━━━━━━━━\u001b[0m\u001b[37m\u001b[0m \u001b[1m0s\u001b[0m 20ms/step - loss: 884.1837 - mae: 22.4237 - mse: 884.1837 - val_loss: 1515.7563 - val_mae: 29.5064 - val_mse: 1515.7563\n",
      "Epoch 9/150\n",
      "\u001b[1m4/4\u001b[0m \u001b[32m━━━━━━━━━━━━━━━━━━━━\u001b[0m\u001b[37m\u001b[0m \u001b[1m0s\u001b[0m 22ms/step - loss: 777.2104 - mae: 20.9891 - mse: 777.2104 - val_loss: 1540.2970 - val_mae: 29.4072 - val_mse: 1540.2970\n",
      "Epoch 10/150\n",
      "\u001b[1m4/4\u001b[0m \u001b[32m━━━━━━━━━━━━━━━━━━━━\u001b[0m\u001b[37m\u001b[0m \u001b[1m0s\u001b[0m 21ms/step - loss: 921.3807 - mae: 22.4065 - mse: 921.3807 - val_loss: 1584.9956 - val_mae: 29.4065 - val_mse: 1584.9956\n",
      "Epoch 11/150\n",
      "\u001b[1m4/4\u001b[0m \u001b[32m━━━━━━━━━━━━━━━━━━━━\u001b[0m\u001b[37m\u001b[0m \u001b[1m0s\u001b[0m 22ms/step - loss: 1004.3676 - mae: 23.8821 - mse: 1004.3676 - val_loss: 1572.6394 - val_mae: 29.3057 - val_mse: 1572.6394\n",
      "Epoch 12/150\n",
      "\u001b[1m4/4\u001b[0m \u001b[32m━━━━━━━━━━━━━━━━━━━━\u001b[0m\u001b[37m\u001b[0m \u001b[1m0s\u001b[0m 23ms/step - loss: 849.2032 - mae: 21.7623 - mse: 849.2032 - val_loss: 1544.4415 - val_mae: 29.2635 - val_mse: 1544.4415\n",
      "Epoch 13/150\n",
      "\u001b[1m4/4\u001b[0m \u001b[32m━━━━━━━━━━━━━━━━━━━━\u001b[0m\u001b[37m\u001b[0m \u001b[1m0s\u001b[0m 21ms/step - loss: 889.3492 - mae: 23.2512 - mse: 889.3492 - val_loss: 1514.2507 - val_mae: 29.8655 - val_mse: 1514.2507\n",
      "Epoch 14/150\n",
      "\u001b[1m4/4\u001b[0m \u001b[32m━━━━━━━━━━━━━━━━━━━━\u001b[0m\u001b[37m\u001b[0m \u001b[1m0s\u001b[0m 20ms/step - loss: 921.0402 - mae: 23.4450 - mse: 921.0402 - val_loss: 1523.4594 - val_mae: 29.7516 - val_mse: 1523.4594\n",
      "Epoch 15/150\n",
      "\u001b[1m4/4\u001b[0m \u001b[32m━━━━━━━━━━━━━━━━━━━━\u001b[0m\u001b[37m\u001b[0m \u001b[1m0s\u001b[0m 22ms/step - loss: 860.9226 - mae: 21.3084 - mse: 860.9226 - val_loss: 1567.5322 - val_mae: 29.8116 - val_mse: 1567.5322\n",
      "Epoch 16/150\n",
      "\u001b[1m4/4\u001b[0m \u001b[32m━━━━━━━━━━━━━━━━━━━━\u001b[0m\u001b[37m\u001b[0m \u001b[1m0s\u001b[0m 20ms/step - loss: 812.2214 - mae: 21.5445 - mse: 812.2214 - val_loss: 1576.3215 - val_mae: 29.7559 - val_mse: 1576.3215\n",
      "Epoch 17/150\n",
      "\u001b[1m4/4\u001b[0m \u001b[32m━━━━━━━━━━━━━━━━━━━━\u001b[0m\u001b[37m\u001b[0m \u001b[1m0s\u001b[0m 21ms/step - loss: 838.2356 - mae: 21.8224 - mse: 838.2356 - val_loss: 1550.6453 - val_mae: 29.4356 - val_mse: 1550.6453\n",
      "Epoch 18/150\n",
      "\u001b[1m4/4\u001b[0m \u001b[32m━━━━━━━━━━━━━━━━━━━━\u001b[0m\u001b[37m\u001b[0m \u001b[1m0s\u001b[0m 22ms/step - loss: 798.1339 - mae: 21.8865 - mse: 798.1339 - val_loss: 1558.0776 - val_mae: 29.3491 - val_mse: 1558.0776\n",
      "Epoch 19/150\n",
      "\u001b[1m4/4\u001b[0m \u001b[32m━━━━━━━━━━━━━━━━━━━━\u001b[0m\u001b[37m\u001b[0m \u001b[1m0s\u001b[0m 20ms/step - loss: 746.1633 - mae: 20.5117 - mse: 746.1633 - val_loss: 1575.6133 - val_mae: 29.3285 - val_mse: 1575.6133\n",
      "Epoch 20/150\n",
      "\u001b[1m4/4\u001b[0m \u001b[32m━━━━━━━━━━━━━━━━━━━━\u001b[0m\u001b[37m\u001b[0m \u001b[1m0s\u001b[0m 23ms/step - loss: 999.5129 - mae: 24.2940 - mse: 999.5129 - val_loss: 1534.6790 - val_mae: 29.2609 - val_mse: 1534.6790\n",
      "Epoch 21/150\n",
      "\u001b[1m4/4\u001b[0m \u001b[32m━━━━━━━━━━━━━━━━━━━━\u001b[0m\u001b[37m\u001b[0m \u001b[1m0s\u001b[0m 21ms/step - loss: 919.5751 - mae: 22.5362 - mse: 919.5751 - val_loss: 1516.8048 - val_mae: 29.6358 - val_mse: 1516.8048\n",
      "Epoch 22/150\n",
      "\u001b[1m4/4\u001b[0m \u001b[32m━━━━━━━━━━━━━━━━━━━━\u001b[0m\u001b[37m\u001b[0m \u001b[1m0s\u001b[0m 20ms/step - loss: 860.6281 - mae: 22.6462 - mse: 860.6281 - val_loss: 1493.0693 - val_mae: 29.8453 - val_mse: 1493.0693\n",
      "Epoch 23/150\n",
      "\u001b[1m4/4\u001b[0m \u001b[32m━━━━━━━━━━━━━━━━━━━━\u001b[0m\u001b[37m\u001b[0m \u001b[1m0s\u001b[0m 21ms/step - loss: 866.9521 - mae: 21.7514 - mse: 866.9521 - val_loss: 1507.4889 - val_mae: 29.6511 - val_mse: 1507.4889\n",
      "Epoch 24/150\n",
      "\u001b[1m4/4\u001b[0m \u001b[32m━━━━━━━━━━━━━━━━━━━━\u001b[0m\u001b[37m\u001b[0m \u001b[1m0s\u001b[0m 23ms/step - loss: 804.4160 - mae: 21.9998 - mse: 804.4160 - val_loss: 1531.0735 - val_mae: 29.4720 - val_mse: 1531.0735\n",
      "Epoch 25/150\n",
      "\u001b[1m4/4\u001b[0m \u001b[32m━━━━━━━━━━━━━━━━━━━━\u001b[0m\u001b[37m\u001b[0m \u001b[1m0s\u001b[0m 25ms/step - loss: 707.8149 - mae: 20.1006 - mse: 707.8149 - val_loss: 1526.0328 - val_mae: 29.2524 - val_mse: 1526.0328\n",
      "Epoch 26/150\n",
      "\u001b[1m4/4\u001b[0m \u001b[32m━━━━━━━━━━━━━━━━━━━━\u001b[0m\u001b[37m\u001b[0m \u001b[1m0s\u001b[0m 21ms/step - loss: 780.8199 - mae: 20.6618 - mse: 780.8199 - val_loss: 1533.6918 - val_mae: 29.2727 - val_mse: 1533.6918\n",
      "Epoch 27/150\n",
      "\u001b[1m4/4\u001b[0m \u001b[32m━━━━━━━━━━━━━━━━━━━━\u001b[0m\u001b[37m\u001b[0m \u001b[1m0s\u001b[0m 24ms/step - loss: 896.5571 - mae: 22.2018 - mse: 896.5571 - val_loss: 1532.8370 - val_mae: 29.5364 - val_mse: 1532.8370\n",
      "Epoch 28/150\n",
      "\u001b[1m4/4\u001b[0m \u001b[32m━━━━━━━━━━━━━━━━━━━━\u001b[0m\u001b[37m\u001b[0m \u001b[1m0s\u001b[0m 22ms/step - loss: 941.2925 - mae: 23.2627 - mse: 941.2925 - val_loss: 1534.1735 - val_mae: 29.8452 - val_mse: 1534.1735\n",
      "Epoch 29/150\n",
      "\u001b[1m4/4\u001b[0m \u001b[32m━━━━━━━━━━━━━━━━━━━━\u001b[0m\u001b[37m\u001b[0m \u001b[1m0s\u001b[0m 22ms/step - loss: 804.1846 - mae: 21.6100 - mse: 804.1846 - val_loss: 1540.4800 - val_mae: 29.5824 - val_mse: 1540.4799\n",
      "Epoch 30/150\n",
      "\u001b[1m4/4\u001b[0m \u001b[32m━━━━━━━━━━━━━━━━━━━━\u001b[0m\u001b[37m\u001b[0m \u001b[1m0s\u001b[0m 22ms/step - loss: 953.2190 - mae: 23.1797 - mse: 953.2190 - val_loss: 1557.9827 - val_mae: 29.3819 - val_mse: 1557.9827\n",
      "Epoch 31/150\n",
      "\u001b[1m4/4\u001b[0m \u001b[32m━━━━━━━━━━━━━━━━━━━━\u001b[0m\u001b[37m\u001b[0m \u001b[1m0s\u001b[0m 23ms/step - loss: 983.7750 - mae: 23.6008 - mse: 983.7751 - val_loss: 1576.6299 - val_mae: 29.3642 - val_mse: 1576.6299\n",
      "Epoch 32/150\n",
      "\u001b[1m4/4\u001b[0m \u001b[32m━━━━━━━━━━━━━━━━━━━━\u001b[0m\u001b[37m\u001b[0m \u001b[1m0s\u001b[0m 21ms/step - loss: 896.2285 - mae: 22.5967 - mse: 896.2285 - val_loss: 1546.0370 - val_mae: 30.1065 - val_mse: 1546.0370\n",
      "Epoch 33/150\n",
      "\u001b[1m4/4\u001b[0m \u001b[32m━━━━━━━━━━━━━━━━━━━━\u001b[0m\u001b[37m\u001b[0m \u001b[1m0s\u001b[0m 25ms/step - loss: 887.2980 - mae: 23.1517 - mse: 887.2980 - val_loss: 1521.5764 - val_mae: 31.0810 - val_mse: 1521.5764\n",
      "Epoch 34/150\n",
      "\u001b[1m4/4\u001b[0m \u001b[32m━━━━━━━━━━━━━━━━━━━━\u001b[0m\u001b[37m\u001b[0m \u001b[1m0s\u001b[0m 20ms/step - loss: 782.9199 - mae: 22.1138 - mse: 782.9199 - val_loss: 1548.2990 - val_mae: 30.7625 - val_mse: 1548.2990\n",
      "Epoch 35/150\n",
      "\u001b[1m4/4\u001b[0m \u001b[32m━━━━━━━━━━━━━━━━━━━━\u001b[0m\u001b[37m\u001b[0m \u001b[1m0s\u001b[0m 22ms/step - loss: 866.1887 - mae: 22.1082 - mse: 866.1887 - val_loss: 1576.2052 - val_mae: 29.9603 - val_mse: 1576.2052\n",
      "Epoch 36/150\n",
      "\u001b[1m4/4\u001b[0m \u001b[32m━━━━━━━━━━━━━━━━━━━━\u001b[0m\u001b[37m\u001b[0m \u001b[1m0s\u001b[0m 23ms/step - loss: 876.6860 - mae: 23.2609 - mse: 876.6860 - val_loss: 1551.8376 - val_mae: 29.4866 - val_mse: 1551.8376\n",
      "Epoch 37/150\n",
      "\u001b[1m4/4\u001b[0m \u001b[32m━━━━━━━━━━━━━━━━━━━━\u001b[0m\u001b[37m\u001b[0m \u001b[1m0s\u001b[0m 23ms/step - loss: 885.7120 - mae: 22.2232 - mse: 885.7120 - val_loss: 1543.5530 - val_mae: 29.2957 - val_mse: 1543.5530\n",
      "Epoch 38/150\n",
      "\u001b[1m4/4\u001b[0m \u001b[32m━━━━━━━━━━━━━━━━━━━━\u001b[0m\u001b[37m\u001b[0m \u001b[1m0s\u001b[0m 24ms/step - loss: 764.4304 - mae: 20.8586 - mse: 764.4304 - val_loss: 1523.4330 - val_mae: 29.1354 - val_mse: 1523.4330\n",
      "Epoch 39/150\n",
      "\u001b[1m4/4\u001b[0m \u001b[32m━━━━━━━━━━━━━━━━━━━━\u001b[0m\u001b[37m\u001b[0m \u001b[1m0s\u001b[0m 22ms/step - loss: 895.5392 - mae: 23.2906 - mse: 895.5392 - val_loss: 1519.3494 - val_mae: 29.0871 - val_mse: 1519.3494\n",
      "Epoch 40/150\n",
      "\u001b[1m4/4\u001b[0m \u001b[32m━━━━━━━━━━━━━━━━━━━━\u001b[0m\u001b[37m\u001b[0m \u001b[1m0s\u001b[0m 23ms/step - loss: 909.9248 - mae: 22.6494 - mse: 909.9248 - val_loss: 1499.3844 - val_mae: 29.1504 - val_mse: 1499.3844\n",
      "Epoch 41/150\n",
      "\u001b[1m4/4\u001b[0m \u001b[32m━━━━━━━━━━━━━━━━━━━━\u001b[0m\u001b[37m\u001b[0m \u001b[1m0s\u001b[0m 22ms/step - loss: 869.1335 - mae: 23.2062 - mse: 869.1335 - val_loss: 1515.6680 - val_mae: 29.4511 - val_mse: 1515.6680\n",
      "Epoch 42/150\n",
      "\u001b[1m4/4\u001b[0m \u001b[32m━━━━━━━━━━━━━━━━━━━━\u001b[0m\u001b[37m\u001b[0m \u001b[1m0s\u001b[0m 22ms/step - loss: 835.1544 - mae: 22.1388 - mse: 835.1544 - val_loss: 1527.3328 - val_mae: 29.4261 - val_mse: 1527.3328\n",
      "Epoch 43/150\n",
      "\u001b[1m4/4\u001b[0m \u001b[32m━━━━━━━━━━━━━━━━━━━━\u001b[0m\u001b[37m\u001b[0m \u001b[1m0s\u001b[0m 23ms/step - loss: 922.1306 - mae: 23.0460 - mse: 922.1306 - val_loss: 1560.9625 - val_mae: 29.2041 - val_mse: 1560.9625\n",
      "Epoch 44/150\n",
      "\u001b[1m4/4\u001b[0m \u001b[32m━━━━━━━━━━━━━━━━━━━━\u001b[0m\u001b[37m\u001b[0m \u001b[1m0s\u001b[0m 21ms/step - loss: 785.6375 - mae: 20.7077 - mse: 785.6375 - val_loss: 1547.1819 - val_mae: 29.2028 - val_mse: 1547.1819\n",
      "Epoch 45/150\n",
      "\u001b[1m4/4\u001b[0m \u001b[32m━━━━━━━━━━━━━━━━━━━━\u001b[0m\u001b[37m\u001b[0m \u001b[1m0s\u001b[0m 22ms/step - loss: 879.9420 - mae: 22.5303 - mse: 879.9420 - val_loss: 1533.4736 - val_mae: 29.8232 - val_mse: 1533.4736\n",
      "Epoch 46/150\n",
      "\u001b[1m4/4\u001b[0m \u001b[32m━━━━━━━━━━━━━━━━━━━━\u001b[0m\u001b[37m\u001b[0m \u001b[1m0s\u001b[0m 21ms/step - loss: 916.8973 - mae: 23.9611 - mse: 916.8973 - val_loss: 1528.5142 - val_mae: 29.9232 - val_mse: 1528.5142\n",
      "Epoch 47/150\n",
      "\u001b[1m4/4\u001b[0m \u001b[32m━━━━━━━━━━━━━━━━━━━━\u001b[0m\u001b[37m\u001b[0m \u001b[1m0s\u001b[0m 20ms/step - loss: 828.3547 - mae: 22.7055 - mse: 828.3547 - val_loss: 1535.6105 - val_mae: 29.7515 - val_mse: 1535.6105\n",
      "Epoch 48/150\n",
      "\u001b[1m4/4\u001b[0m \u001b[32m━━━━━━━━━━━━━━━━━━━━\u001b[0m\u001b[37m\u001b[0m \u001b[1m0s\u001b[0m 21ms/step - loss: 873.9388 - mae: 22.0439 - mse: 873.9388 - val_loss: 1556.8065 - val_mae: 29.6377 - val_mse: 1556.8065\n",
      "Epoch 49/150\n",
      "\u001b[1m4/4\u001b[0m \u001b[32m━━━━━━━━━━━━━━━━━━━━\u001b[0m\u001b[37m\u001b[0m \u001b[1m0s\u001b[0m 19ms/step - loss: 957.8239 - mae: 23.7443 - mse: 957.8239 - val_loss: 1571.6425 - val_mae: 29.4271 - val_mse: 1571.6425\n",
      "Epoch 50/150\n",
      "\u001b[1m4/4\u001b[0m \u001b[32m━━━━━━━━━━━━━━━━━━━━\u001b[0m\u001b[37m\u001b[0m \u001b[1m0s\u001b[0m 21ms/step - loss: 918.7448 - mae: 22.3831 - mse: 918.7448 - val_loss: 1551.7406 - val_mae: 29.4501 - val_mse: 1551.7406\n",
      "Epoch 51/150\n",
      "\u001b[1m4/4\u001b[0m \u001b[32m━━━━━━━━━━━━━━━━━━━━\u001b[0m\u001b[37m\u001b[0m \u001b[1m0s\u001b[0m 20ms/step - loss: 832.4156 - mae: 21.6417 - mse: 832.4155 - val_loss: 1504.8008 - val_mae: 29.4875 - val_mse: 1504.8008\n",
      "Epoch 52/150\n",
      "\u001b[1m4/4\u001b[0m \u001b[32m━━━━━━━━━━━━━━━━━━━━\u001b[0m\u001b[37m\u001b[0m \u001b[1m0s\u001b[0m 24ms/step - loss: 803.7020 - mae: 21.4581 - mse: 803.7020 - val_loss: 1518.8549 - val_mae: 29.5730 - val_mse: 1518.8549\n",
      "Epoch 53/150\n",
      "\u001b[1m4/4\u001b[0m \u001b[32m━━━━━━━━━━━━━━━━━━━━\u001b[0m\u001b[37m\u001b[0m \u001b[1m0s\u001b[0m 21ms/step - loss: 829.3868 - mae: 21.5928 - mse: 829.3868 - val_loss: 1509.2947 - val_mae: 29.4845 - val_mse: 1509.2947\n",
      "Epoch 54/150\n",
      "\u001b[1m4/4\u001b[0m \u001b[32m━━━━━━━━━━━━━━━━━━━━\u001b[0m\u001b[37m\u001b[0m \u001b[1m0s\u001b[0m 23ms/step - loss: 1024.0508 - mae: 24.8251 - mse: 1024.0508 - val_loss: 1509.8015 - val_mae: 29.4826 - val_mse: 1509.8015\n",
      "Epoch 55/150\n",
      "\u001b[1m4/4\u001b[0m \u001b[32m━━━━━━━━━━━━━━━━━━━━\u001b[0m\u001b[37m\u001b[0m \u001b[1m0s\u001b[0m 22ms/step - loss: 813.3640 - mae: 22.3404 - mse: 813.3640 - val_loss: 1521.0763 - val_mae: 29.3544 - val_mse: 1521.0763\n",
      "Epoch 56/150\n",
      "\u001b[1m4/4\u001b[0m \u001b[32m━━━━━━━━━━━━━━━━━━━━\u001b[0m\u001b[37m\u001b[0m \u001b[1m0s\u001b[0m 26ms/step - loss: 898.9396 - mae: 22.3473 - mse: 898.9396 - val_loss: 1558.6255 - val_mae: 29.3590 - val_mse: 1558.6255\n",
      "Epoch 57/150\n",
      "\u001b[1m4/4\u001b[0m \u001b[32m━━━━━━━━━━━━━━━━━━━━\u001b[0m\u001b[37m\u001b[0m \u001b[1m0s\u001b[0m 19ms/step - loss: 834.0123 - mae: 21.7759 - mse: 834.0123 - val_loss: 1558.7653 - val_mae: 29.4747 - val_mse: 1558.7653\n",
      "Epoch 58/150\n",
      "\u001b[1m4/4\u001b[0m \u001b[32m━━━━━━━━━━━━━━━━━━━━\u001b[0m\u001b[37m\u001b[0m \u001b[1m0s\u001b[0m 20ms/step - loss: 885.0703 - mae: 22.2396 - mse: 885.0703 - val_loss: 1542.4365 - val_mae: 29.9790 - val_mse: 1542.4365\n",
      "Epoch 59/150\n",
      "\u001b[1m4/4\u001b[0m \u001b[32m━━━━━━━━━━━━━━━━━━━━\u001b[0m\u001b[37m\u001b[0m \u001b[1m0s\u001b[0m 18ms/step - loss: 752.8998 - mae: 21.4558 - mse: 752.8998 - val_loss: 1553.3047 - val_mae: 29.4601 - val_mse: 1553.3047\n",
      "Epoch 60/150\n",
      "\u001b[1m4/4\u001b[0m \u001b[32m━━━━━━━━━━━━━━━━━━━━\u001b[0m\u001b[37m\u001b[0m \u001b[1m0s\u001b[0m 18ms/step - loss: 823.3026 - mae: 21.7338 - mse: 823.3026 - val_loss: 1590.2170 - val_mae: 29.5040 - val_mse: 1590.2170\n",
      "Epoch 61/150\n",
      "\u001b[1m4/4\u001b[0m \u001b[32m━━━━━━━━━━━━━━━━━━━━\u001b[0m\u001b[37m\u001b[0m \u001b[1m0s\u001b[0m 20ms/step - loss: 859.9065 - mae: 21.5542 - mse: 859.9065 - val_loss: 1563.0680 - val_mae: 29.5640 - val_mse: 1563.0680\n",
      "Epoch 62/150\n",
      "\u001b[1m4/4\u001b[0m \u001b[32m━━━━━━━━━━━━━━━━━━━━\u001b[0m\u001b[37m\u001b[0m \u001b[1m0s\u001b[0m 19ms/step - loss: 813.8729 - mae: 20.6041 - mse: 813.8729 - val_loss: 1537.0309 - val_mae: 29.8591 - val_mse: 1537.0309\n",
      "Epoch 63/150\n",
      "\u001b[1m4/4\u001b[0m \u001b[32m━━━━━━━━━━━━━━━━━━━━\u001b[0m\u001b[37m\u001b[0m \u001b[1m0s\u001b[0m 20ms/step - loss: 782.3526 - mae: 21.4190 - mse: 782.3526 - val_loss: 1524.8804 - val_mae: 29.6819 - val_mse: 1524.8804\n",
      "Epoch 64/150\n",
      "\u001b[1m4/4\u001b[0m \u001b[32m━━━━━━━━━━━━━━━━━━━━\u001b[0m\u001b[37m\u001b[0m \u001b[1m0s\u001b[0m 19ms/step - loss: 914.1198 - mae: 22.8793 - mse: 914.1198 - val_loss: 1495.7759 - val_mae: 29.8926 - val_mse: 1495.7759\n",
      "Epoch 65/150\n",
      "\u001b[1m4/4\u001b[0m \u001b[32m━━━━━━━━━━━━━━━━━━━━\u001b[0m\u001b[37m\u001b[0m \u001b[1m0s\u001b[0m 18ms/step - loss: 947.3061 - mae: 23.1150 - mse: 947.3062 - val_loss: 1509.8286 - val_mae: 29.6018 - val_mse: 1509.8286\n",
      "Epoch 66/150\n",
      "\u001b[1m4/4\u001b[0m \u001b[32m━━━━━━━━━━━━━━━━━━━━\u001b[0m\u001b[37m\u001b[0m \u001b[1m0s\u001b[0m 19ms/step - loss: 801.3426 - mae: 21.7281 - mse: 801.3426 - val_loss: 1541.7065 - val_mae: 29.2856 - val_mse: 1541.7065\n",
      "Epoch 67/150\n",
      "\u001b[1m4/4\u001b[0m \u001b[32m━━━━━━━━━━━━━━━━━━━━\u001b[0m\u001b[37m\u001b[0m \u001b[1m0s\u001b[0m 20ms/step - loss: 1040.4065 - mae: 24.7085 - mse: 1040.4065 - val_loss: 1561.9341 - val_mae: 29.3532 - val_mse: 1561.9341\n",
      "Epoch 68/150\n",
      "\u001b[1m4/4\u001b[0m \u001b[32m━━━━━━━━━━━━━━━━━━━━\u001b[0m\u001b[37m\u001b[0m \u001b[1m0s\u001b[0m 20ms/step - loss: 922.5841 - mae: 23.0879 - mse: 922.5841 - val_loss: 1539.6481 - val_mae: 29.4336 - val_mse: 1539.6481\n",
      "Epoch 69/150\n",
      "\u001b[1m4/4\u001b[0m \u001b[32m━━━━━━━━━━━━━━━━━━━━\u001b[0m\u001b[37m\u001b[0m \u001b[1m0s\u001b[0m 26ms/step - loss: 916.0542 - mae: 22.3178 - mse: 916.0542 - val_loss: 1520.2844 - val_mae: 29.3727 - val_mse: 1520.2844\n",
      "Epoch 70/150\n",
      "\u001b[1m4/4\u001b[0m \u001b[32m━━━━━━━━━━━━━━━━━━━━\u001b[0m\u001b[37m\u001b[0m \u001b[1m0s\u001b[0m 23ms/step - loss: 803.3881 - mae: 20.1199 - mse: 803.3881 - val_loss: 1523.3258 - val_mae: 29.7054 - val_mse: 1523.3258\n",
      "Epoch 71/150\n",
      "\u001b[1m4/4\u001b[0m \u001b[32m━━━━━━━━━━━━━━━━━━━━\u001b[0m\u001b[37m\u001b[0m \u001b[1m0s\u001b[0m 24ms/step - loss: 948.2566 - mae: 23.2215 - mse: 948.2566 - val_loss: 1553.8938 - val_mae: 29.8389 - val_mse: 1553.8938\n",
      "Epoch 72/150\n",
      "\u001b[1m4/4\u001b[0m \u001b[32m━━━━━━━━━━━━━━━━━━━━\u001b[0m\u001b[37m\u001b[0m \u001b[1m0s\u001b[0m 24ms/step - loss: 827.6881 - mae: 20.6399 - mse: 827.6880 - val_loss: 1562.6707 - val_mae: 29.7916 - val_mse: 1562.6707\n",
      "Epoch 73/150\n",
      "\u001b[1m4/4\u001b[0m \u001b[32m━━━━━━━━━━━━━━━━━━━━\u001b[0m\u001b[37m\u001b[0m \u001b[1m0s\u001b[0m 21ms/step - loss: 781.7341 - mae: 20.3072 - mse: 781.7341 - val_loss: 1547.0277 - val_mae: 30.1276 - val_mse: 1547.0277\n",
      "Epoch 74/150\n",
      "\u001b[1m4/4\u001b[0m \u001b[32m━━━━━━━━━━━━━━━━━━━━\u001b[0m\u001b[37m\u001b[0m \u001b[1m0s\u001b[0m 21ms/step - loss: 892.6453 - mae: 21.6512 - mse: 892.6453 - val_loss: 1537.7379 - val_mae: 30.0318 - val_mse: 1537.7379\n",
      "Epoch 75/150\n",
      "\u001b[1m4/4\u001b[0m \u001b[32m━━━━━━━━━━━━━━━━━━━━\u001b[0m\u001b[37m\u001b[0m \u001b[1m0s\u001b[0m 27ms/step - loss: 769.8263 - mae: 21.4480 - mse: 769.8263 - val_loss: 1545.5394 - val_mae: 30.0131 - val_mse: 1545.5394\n",
      "Epoch 76/150\n",
      "\u001b[1m4/4\u001b[0m \u001b[32m━━━━━━━━━━━━━━━━━━━━\u001b[0m\u001b[37m\u001b[0m \u001b[1m0s\u001b[0m 25ms/step - loss: 829.9510 - mae: 22.6380 - mse: 829.9510 - val_loss: 1559.6206 - val_mae: 29.7122 - val_mse: 1559.6206\n",
      "Epoch 77/150\n",
      "\u001b[1m4/4\u001b[0m \u001b[32m━━━━━━━━━━━━━━━━━━━━\u001b[0m\u001b[37m\u001b[0m \u001b[1m0s\u001b[0m 22ms/step - loss: 769.3096 - mae: 20.5117 - mse: 769.3095 - val_loss: 1573.5593 - val_mae: 29.9548 - val_mse: 1573.5593\n",
      "Epoch 78/150\n",
      "\u001b[1m4/4\u001b[0m \u001b[32m━━━━━━━━━━━━━━━━━━━━\u001b[0m\u001b[37m\u001b[0m \u001b[1m0s\u001b[0m 23ms/step - loss: 971.2427 - mae: 23.0218 - mse: 971.2427 - val_loss: 1557.7563 - val_mae: 30.1204 - val_mse: 1557.7563\n",
      "Epoch 79/150\n",
      "\u001b[1m4/4\u001b[0m \u001b[32m━━━━━━━━━━━━━━━━━━━━\u001b[0m\u001b[37m\u001b[0m \u001b[1m0s\u001b[0m 21ms/step - loss: 916.3236 - mae: 22.7225 - mse: 916.3236 - val_loss: 1530.1311 - val_mae: 29.8721 - val_mse: 1530.1311\n",
      "Epoch 80/150\n",
      "\u001b[1m4/4\u001b[0m \u001b[32m━━━━━━━━━━━━━━━━━━━━\u001b[0m\u001b[37m\u001b[0m \u001b[1m0s\u001b[0m 20ms/step - loss: 847.3741 - mae: 22.0520 - mse: 847.3741 - val_loss: 1531.4775 - val_mae: 29.6096 - val_mse: 1531.4775\n",
      "Epoch 81/150\n",
      "\u001b[1m4/4\u001b[0m \u001b[32m━━━━━━━━━━━━━━━━━━━━\u001b[0m\u001b[37m\u001b[0m \u001b[1m0s\u001b[0m 21ms/step - loss: 845.2214 - mae: 22.4115 - mse: 845.2214 - val_loss: 1567.3271 - val_mae: 29.3807 - val_mse: 1567.3271\n",
      "Epoch 82/150\n",
      "\u001b[1m4/4\u001b[0m \u001b[32m━━━━━━━━━━━━━━━━━━━━\u001b[0m\u001b[37m\u001b[0m \u001b[1m0s\u001b[0m 31ms/step - loss: 761.2937 - mae: 20.6304 - mse: 761.2938 - val_loss: 1580.7455 - val_mae: 29.4060 - val_mse: 1580.7455\n",
      "Epoch 83/150\n",
      "\u001b[1m4/4\u001b[0m \u001b[32m━━━━━━━━━━━━━━━━━━━━\u001b[0m\u001b[37m\u001b[0m \u001b[1m0s\u001b[0m 21ms/step - loss: 973.3595 - mae: 23.3672 - mse: 973.3595 - val_loss: 1544.7717 - val_mae: 29.3587 - val_mse: 1544.7717\n",
      "Epoch 84/150\n",
      "\u001b[1m4/4\u001b[0m \u001b[32m━━━━━━━━━━━━━━━━━━━━\u001b[0m\u001b[37m\u001b[0m \u001b[1m0s\u001b[0m 24ms/step - loss: 810.1860 - mae: 20.9160 - mse: 810.1860 - val_loss: 1504.0336 - val_mae: 29.7969 - val_mse: 1504.0336\n",
      "Epoch 85/150\n",
      "\u001b[1m4/4\u001b[0m \u001b[32m━━━━━━━━━━━━━━━━━━━━\u001b[0m\u001b[37m\u001b[0m \u001b[1m0s\u001b[0m 21ms/step - loss: 905.1208 - mae: 23.8248 - mse: 905.1208 - val_loss: 1501.6453 - val_mae: 29.7195 - val_mse: 1501.6453\n",
      "Epoch 86/150\n",
      "\u001b[1m4/4\u001b[0m \u001b[32m━━━━━━━━━━━━━━━━━━━━\u001b[0m\u001b[37m\u001b[0m \u001b[1m0s\u001b[0m 23ms/step - loss: 920.9981 - mae: 23.3524 - mse: 920.9981 - val_loss: 1551.3879 - val_mae: 29.2669 - val_mse: 1551.3879\n",
      "Epoch 87/150\n",
      "\u001b[1m4/4\u001b[0m \u001b[32m━━━━━━━━━━━━━━━━━━━━\u001b[0m\u001b[37m\u001b[0m \u001b[1m0s\u001b[0m 26ms/step - loss: 893.1817 - mae: 22.2581 - mse: 893.1817 - val_loss: 1542.9226 - val_mae: 29.4188 - val_mse: 1542.9226\n",
      "Epoch 88/150\n",
      "\u001b[1m4/4\u001b[0m \u001b[32m━━━━━━━━━━━━━━━━━━━━\u001b[0m\u001b[37m\u001b[0m \u001b[1m0s\u001b[0m 19ms/step - loss: 901.7389 - mae: 23.4874 - mse: 901.7389 - val_loss: 1562.3566 - val_mae: 29.6542 - val_mse: 1562.3566\n",
      "Epoch 89/150\n",
      "\u001b[1m4/4\u001b[0m \u001b[32m━━━━━━━━━━━━━━━━━━━━\u001b[0m\u001b[37m\u001b[0m \u001b[1m0s\u001b[0m 26ms/step - loss: 909.0889 - mae: 22.2840 - mse: 909.0889 - val_loss: 1564.4137 - val_mae: 29.4690 - val_mse: 1564.4137\n",
      "Epoch 90/150\n",
      "\u001b[1m4/4\u001b[0m \u001b[32m━━━━━━━━━━━━━━━━━━━━\u001b[0m\u001b[37m\u001b[0m \u001b[1m0s\u001b[0m 23ms/step - loss: 1062.0012 - mae: 24.5069 - mse: 1062.0012 - val_loss: 1579.1790 - val_mae: 29.5814 - val_mse: 1579.1790\n",
      "Epoch 91/150\n",
      "\u001b[1m4/4\u001b[0m \u001b[32m━━━━━━━━━━━━━━━━━━━━\u001b[0m\u001b[37m\u001b[0m \u001b[1m0s\u001b[0m 25ms/step - loss: 770.0974 - mae: 20.8816 - mse: 770.0973 - val_loss: 1550.3022 - val_mae: 29.6621 - val_mse: 1550.3022\n",
      "Epoch 92/150\n",
      "\u001b[1m4/4\u001b[0m \u001b[32m━━━━━━━━━━━━━━━━━━━━\u001b[0m\u001b[37m\u001b[0m \u001b[1m0s\u001b[0m 20ms/step - loss: 900.0966 - mae: 21.9944 - mse: 900.0966 - val_loss: 1520.4834 - val_mae: 29.9929 - val_mse: 1520.4834\n",
      "Epoch 93/150\n",
      "\u001b[1m4/4\u001b[0m \u001b[32m━━━━━━━━━━━━━━━━━━━━\u001b[0m\u001b[37m\u001b[0m \u001b[1m0s\u001b[0m 22ms/step - loss: 862.7573 - mae: 22.0951 - mse: 862.7573 - val_loss: 1524.7297 - val_mae: 29.9014 - val_mse: 1524.7297\n",
      "Epoch 94/150\n",
      "\u001b[1m4/4\u001b[0m \u001b[32m━━━━━━━━━━━━━━━━━━━━\u001b[0m\u001b[37m\u001b[0m \u001b[1m0s\u001b[0m 20ms/step - loss: 794.9938 - mae: 21.6621 - mse: 794.9938 - val_loss: 1533.0919 - val_mae: 30.4690 - val_mse: 1533.0919\n",
      "Epoch 95/150\n",
      "\u001b[1m4/4\u001b[0m \u001b[32m━━━━━━━━━━━━━━━━━━━━\u001b[0m\u001b[37m\u001b[0m \u001b[1m0s\u001b[0m 18ms/step - loss: 949.8160 - mae: 23.5278 - mse: 949.8160 - val_loss: 1543.4933 - val_mae: 29.7751 - val_mse: 1543.4933\n",
      "Epoch 96/150\n",
      "\u001b[1m4/4\u001b[0m \u001b[32m━━━━━━━━━━━━━━━━━━━━\u001b[0m\u001b[37m\u001b[0m \u001b[1m0s\u001b[0m 21ms/step - loss: 834.3882 - mae: 21.5472 - mse: 834.3882 - val_loss: 1584.1674 - val_mae: 29.6249 - val_mse: 1584.1674\n",
      "Epoch 97/150\n",
      "\u001b[1m4/4\u001b[0m \u001b[32m━━━━━━━━━━━━━━━━━━━━\u001b[0m\u001b[37m\u001b[0m \u001b[1m0s\u001b[0m 29ms/step - loss: 866.3437 - mae: 22.5420 - mse: 866.3437 - val_loss: 1550.5333 - val_mae: 29.3883 - val_mse: 1550.5333\n",
      "Epoch 98/150\n",
      "\u001b[1m4/4\u001b[0m \u001b[32m━━━━━━━━━━━━━━━━━━━━\u001b[0m\u001b[37m\u001b[0m \u001b[1m0s\u001b[0m 21ms/step - loss: 909.8747 - mae: 22.9146 - mse: 909.8747 - val_loss: 1533.5686 - val_mae: 29.4883 - val_mse: 1533.5686\n",
      "Epoch 99/150\n",
      "\u001b[1m4/4\u001b[0m \u001b[32m━━━━━━━━━━━━━━━━━━━━\u001b[0m\u001b[37m\u001b[0m \u001b[1m0s\u001b[0m 23ms/step - loss: 942.0089 - mae: 23.3917 - mse: 942.0089 - val_loss: 1526.9048 - val_mae: 29.7164 - val_mse: 1526.9048\n",
      "Epoch 100/150\n",
      "\u001b[1m4/4\u001b[0m \u001b[32m━━━━━━━━━━━━━━━━━━━━\u001b[0m\u001b[37m\u001b[0m \u001b[1m0s\u001b[0m 23ms/step - loss: 861.1870 - mae: 22.0923 - mse: 861.1870 - val_loss: 1530.0922 - val_mae: 29.4211 - val_mse: 1530.0922\n",
      "Epoch 101/150\n",
      "\u001b[1m4/4\u001b[0m \u001b[32m━━━━━━━━━━━━━━━━━━━━\u001b[0m\u001b[37m\u001b[0m \u001b[1m0s\u001b[0m 27ms/step - loss: 793.0175 - mae: 21.5159 - mse: 793.0175 - val_loss: 1532.9006 - val_mae: 29.3224 - val_mse: 1532.9006\n",
      "Epoch 102/150\n",
      "\u001b[1m4/4\u001b[0m \u001b[32m━━━━━━━━━━━━━━━━━━━━\u001b[0m\u001b[37m\u001b[0m \u001b[1m0s\u001b[0m 23ms/step - loss: 803.0159 - mae: 20.9593 - mse: 803.0159 - val_loss: 1571.7289 - val_mae: 29.5315 - val_mse: 1571.7289\n",
      "Epoch 103/150\n",
      "\u001b[1m4/4\u001b[0m \u001b[32m━━━━━━━━━━━━━━━━━━━━\u001b[0m\u001b[37m\u001b[0m \u001b[1m0s\u001b[0m 24ms/step - loss: 872.9269 - mae: 21.3686 - mse: 872.9269 - val_loss: 1543.0211 - val_mae: 29.9443 - val_mse: 1543.0211\n",
      "Epoch 104/150\n",
      "\u001b[1m4/4\u001b[0m \u001b[32m━━━━━━━━━━━━━━━━━━━━\u001b[0m\u001b[37m\u001b[0m \u001b[1m0s\u001b[0m 26ms/step - loss: 865.9417 - mae: 22.0850 - mse: 865.9417 - val_loss: 1511.9683 - val_mae: 30.5569 - val_mse: 1511.9683\n",
      "Epoch 105/150\n",
      "\u001b[1m4/4\u001b[0m \u001b[32m━━━━━━━━━━━━━━━━━━━━\u001b[0m\u001b[37m\u001b[0m \u001b[1m0s\u001b[0m 24ms/step - loss: 862.3266 - mae: 22.9983 - mse: 862.3266 - val_loss: 1540.6136 - val_mae: 29.9111 - val_mse: 1540.6136\n",
      "Epoch 106/150\n",
      "\u001b[1m4/4\u001b[0m \u001b[32m━━━━━━━━━━━━━━━━━━━━\u001b[0m\u001b[37m\u001b[0m \u001b[1m0s\u001b[0m 29ms/step - loss: 905.4185 - mae: 22.4563 - mse: 905.4185 - val_loss: 1562.4183 - val_mae: 29.6900 - val_mse: 1562.4183\n",
      "Epoch 107/150\n",
      "\u001b[1m4/4\u001b[0m \u001b[32m━━━━━━━━━━━━━━━━━━━━\u001b[0m\u001b[37m\u001b[0m \u001b[1m0s\u001b[0m 29ms/step - loss: 864.9943 - mae: 22.3114 - mse: 864.9943 - val_loss: 1588.2147 - val_mae: 29.5580 - val_mse: 1588.2147\n",
      "Epoch 108/150\n",
      "\u001b[1m4/4\u001b[0m \u001b[32m━━━━━━━━━━━━━━━━━━━━\u001b[0m\u001b[37m\u001b[0m \u001b[1m0s\u001b[0m 26ms/step - loss: 980.5852 - mae: 23.5520 - mse: 980.5852 - val_loss: 1573.5863 - val_mae: 29.6019 - val_mse: 1573.5863\n",
      "Epoch 109/150\n",
      "\u001b[1m4/4\u001b[0m \u001b[32m━━━━━━━━━━━━━━━━━━━━\u001b[0m\u001b[37m\u001b[0m \u001b[1m0s\u001b[0m 23ms/step - loss: 874.0040 - mae: 22.8177 - mse: 874.0040 - val_loss: 1545.6033 - val_mae: 29.7420 - val_mse: 1545.6033\n",
      "Epoch 110/150\n",
      "\u001b[1m4/4\u001b[0m \u001b[32m━━━━━━━━━━━━━━━━━━━━\u001b[0m\u001b[37m\u001b[0m \u001b[1m0s\u001b[0m 23ms/step - loss: 877.6844 - mae: 22.2215 - mse: 877.6844 - val_loss: 1516.1083 - val_mae: 30.5650 - val_mse: 1516.1083\n",
      "Epoch 111/150\n",
      "\u001b[1m4/4\u001b[0m \u001b[32m━━━━━━━━━━━━━━━━━━━━\u001b[0m\u001b[37m\u001b[0m \u001b[1m0s\u001b[0m 26ms/step - loss: 800.9795 - mae: 20.9183 - mse: 800.9795 - val_loss: 1512.5168 - val_mae: 30.3849 - val_mse: 1512.5168\n",
      "Epoch 112/150\n",
      "\u001b[1m4/4\u001b[0m \u001b[32m━━━━━━━━━━━━━━━━━━━━\u001b[0m\u001b[37m\u001b[0m \u001b[1m0s\u001b[0m 25ms/step - loss: 822.2087 - mae: 21.7295 - mse: 822.2087 - val_loss: 1527.7953 - val_mae: 29.4945 - val_mse: 1527.7953\n",
      "Epoch 113/150\n",
      "\u001b[1m4/4\u001b[0m \u001b[32m━━━━━━━━━━━━━━━━━━━━\u001b[0m\u001b[37m\u001b[0m \u001b[1m0s\u001b[0m 22ms/step - loss: 951.5240 - mae: 23.7300 - mse: 951.5240 - val_loss: 1565.2535 - val_mae: 29.3739 - val_mse: 1565.2535\n",
      "Epoch 114/150\n",
      "\u001b[1m4/4\u001b[0m \u001b[32m━━━━━━━━━━━━━━━━━━━━\u001b[0m\u001b[37m\u001b[0m \u001b[1m0s\u001b[0m 24ms/step - loss: 883.4370 - mae: 22.2775 - mse: 883.4370 - val_loss: 1548.8878 - val_mae: 29.4849 - val_mse: 1548.8878\n",
      "Epoch 115/150\n",
      "\u001b[1m4/4\u001b[0m \u001b[32m━━━━━━━━━━━━━━━━━━━━\u001b[0m\u001b[37m\u001b[0m \u001b[1m0s\u001b[0m 25ms/step - loss: 762.2490 - mae: 20.8001 - mse: 762.2490 - val_loss: 1549.7238 - val_mae: 29.6301 - val_mse: 1549.7238\n",
      "Epoch 116/150\n",
      "\u001b[1m4/4\u001b[0m \u001b[32m━━━━━━━━━━━━━━━━━━━━\u001b[0m\u001b[37m\u001b[0m \u001b[1m0s\u001b[0m 26ms/step - loss: 1017.0094 - mae: 24.5636 - mse: 1017.0094 - val_loss: 1559.7749 - val_mae: 29.6157 - val_mse: 1559.7749\n",
      "Epoch 117/150\n",
      "\u001b[1m4/4\u001b[0m \u001b[32m━━━━━━━━━━━━━━━━━━━━\u001b[0m\u001b[37m\u001b[0m \u001b[1m0s\u001b[0m 25ms/step - loss: 741.0170 - mae: 20.4236 - mse: 741.0170 - val_loss: 1555.8575 - val_mae: 29.7009 - val_mse: 1555.8575\n",
      "Epoch 118/150\n",
      "\u001b[1m4/4\u001b[0m \u001b[32m━━━━━━━━━━━━━━━━━━━━\u001b[0m\u001b[37m\u001b[0m \u001b[1m0s\u001b[0m 25ms/step - loss: 853.7493 - mae: 22.1216 - mse: 853.7493 - val_loss: 1540.9368 - val_mae: 29.7635 - val_mse: 1540.9368\n",
      "Epoch 119/150\n",
      "\u001b[1m4/4\u001b[0m \u001b[32m━━━━━━━━━━━━━━━━━━━━\u001b[0m\u001b[37m\u001b[0m \u001b[1m0s\u001b[0m 26ms/step - loss: 805.7888 - mae: 20.7550 - mse: 805.7888 - val_loss: 1528.5240 - val_mae: 30.7200 - val_mse: 1528.5240\n",
      "Epoch 120/150\n",
      "\u001b[1m4/4\u001b[0m \u001b[32m━━━━━━━━━━━━━━━━━━━━\u001b[0m\u001b[37m\u001b[0m \u001b[1m0s\u001b[0m 27ms/step - loss: 792.6562 - mae: 21.5505 - mse: 792.6562 - val_loss: 1525.7731 - val_mae: 30.4895 - val_mse: 1525.7731\n",
      "Epoch 121/150\n",
      "\u001b[1m4/4\u001b[0m \u001b[32m━━━━━━━━━━━━━━━━━━━━\u001b[0m\u001b[37m\u001b[0m \u001b[1m0s\u001b[0m 26ms/step - loss: 944.6398 - mae: 23.0066 - mse: 944.6398 - val_loss: 1561.6499 - val_mae: 30.0476 - val_mse: 1561.6499\n",
      "Epoch 122/150\n",
      "\u001b[1m4/4\u001b[0m \u001b[32m━━━━━━━━━━━━━━━━━━━━\u001b[0m\u001b[37m\u001b[0m \u001b[1m0s\u001b[0m 26ms/step - loss: 972.2768 - mae: 24.2290 - mse: 972.2768 - val_loss: 1568.6455 - val_mae: 29.7097 - val_mse: 1568.6455\n",
      "Epoch 123/150\n",
      "\u001b[1m4/4\u001b[0m \u001b[32m━━━━━━━━━━━━━━━━━━━━\u001b[0m\u001b[37m\u001b[0m \u001b[1m0s\u001b[0m 24ms/step - loss: 957.6163 - mae: 23.1662 - mse: 957.6163 - val_loss: 1542.7195 - val_mae: 29.7707 - val_mse: 1542.7195\n",
      "Epoch 124/150\n",
      "\u001b[1m4/4\u001b[0m \u001b[32m━━━━━━━━━━━━━━━━━━━━\u001b[0m\u001b[37m\u001b[0m \u001b[1m0s\u001b[0m 23ms/step - loss: 857.1437 - mae: 22.1831 - mse: 857.1437 - val_loss: 1529.4208 - val_mae: 29.7645 - val_mse: 1529.4208\n",
      "Epoch 125/150\n",
      "\u001b[1m4/4\u001b[0m \u001b[32m━━━━━━━━━━━━━━━━━━━━\u001b[0m\u001b[37m\u001b[0m \u001b[1m0s\u001b[0m 23ms/step - loss: 864.2582 - mae: 22.8473 - mse: 864.2582 - val_loss: 1551.2551 - val_mae: 29.7622 - val_mse: 1551.2551\n",
      "Epoch 126/150\n",
      "\u001b[1m4/4\u001b[0m \u001b[32m━━━━━━━━━━━━━━━━━━━━\u001b[0m\u001b[37m\u001b[0m \u001b[1m0s\u001b[0m 21ms/step - loss: 933.4826 - mae: 23.9451 - mse: 933.4826 - val_loss: 1567.0980 - val_mae: 29.7981 - val_mse: 1567.0980\n",
      "Epoch 127/150\n",
      "\u001b[1m4/4\u001b[0m \u001b[32m━━━━━━━━━━━━━━━━━━━━\u001b[0m\u001b[37m\u001b[0m \u001b[1m0s\u001b[0m 20ms/step - loss: 817.8574 - mae: 21.3150 - mse: 817.8573 - val_loss: 1574.4745 - val_mae: 29.7640 - val_mse: 1574.4745\n",
      "Epoch 128/150\n",
      "\u001b[1m4/4\u001b[0m \u001b[32m━━━━━━━━━━━━━━━━━━━━\u001b[0m\u001b[37m\u001b[0m \u001b[1m0s\u001b[0m 19ms/step - loss: 846.0128 - mae: 21.7332 - mse: 846.0127 - val_loss: 1563.9932 - val_mae: 29.9733 - val_mse: 1563.9932\n",
      "Epoch 129/150\n",
      "\u001b[1m4/4\u001b[0m \u001b[32m━━━━━━━━━━━━━━━━━━━━\u001b[0m\u001b[37m\u001b[0m \u001b[1m0s\u001b[0m 21ms/step - loss: 991.7023 - mae: 24.1172 - mse: 991.7023 - val_loss: 1560.8823 - val_mae: 29.7674 - val_mse: 1560.8823\n",
      "Epoch 130/150\n",
      "\u001b[1m4/4\u001b[0m \u001b[32m━━━━━━━━━━━━━━━━━━━━\u001b[0m\u001b[37m\u001b[0m \u001b[1m0s\u001b[0m 21ms/step - loss: 925.4835 - mae: 23.0018 - mse: 925.4836 - val_loss: 1531.8618 - val_mae: 29.8267 - val_mse: 1531.8618\n",
      "Epoch 131/150\n",
      "\u001b[1m4/4\u001b[0m \u001b[32m━━━━━━━━━━━━━━━━━━━━\u001b[0m\u001b[37m\u001b[0m \u001b[1m0s\u001b[0m 21ms/step - loss: 868.8765 - mae: 22.2093 - mse: 868.8765 - val_loss: 1533.4603 - val_mae: 29.6660 - val_mse: 1533.4603\n",
      "Epoch 132/150\n",
      "\u001b[1m4/4\u001b[0m \u001b[32m━━━━━━━━━━━━━━━━━━━━\u001b[0m\u001b[37m\u001b[0m \u001b[1m0s\u001b[0m 21ms/step - loss: 708.2755 - mae: 20.1451 - mse: 708.2755 - val_loss: 1569.8235 - val_mae: 29.5639 - val_mse: 1569.8235\n",
      "Epoch 133/150\n",
      "\u001b[1m4/4\u001b[0m \u001b[32m━━━━━━━━━━━━━━━━━━━━\u001b[0m\u001b[37m\u001b[0m \u001b[1m0s\u001b[0m 21ms/step - loss: 966.1483 - mae: 23.8970 - mse: 966.1483 - val_loss: 1596.9491 - val_mae: 29.8231 - val_mse: 1596.9491\n",
      "Epoch 134/150\n",
      "\u001b[1m4/4\u001b[0m \u001b[32m━━━━━━━━━━━━━━━━━━━━\u001b[0m\u001b[37m\u001b[0m \u001b[1m0s\u001b[0m 21ms/step - loss: 889.3343 - mae: 22.4322 - mse: 889.3344 - val_loss: 1610.5341 - val_mae: 29.8074 - val_mse: 1610.5341\n",
      "Epoch 135/150\n",
      "\u001b[1m4/4\u001b[0m \u001b[32m━━━━━━━━━━━━━━━━━━━━\u001b[0m\u001b[37m\u001b[0m \u001b[1m0s\u001b[0m 21ms/step - loss: 989.9540 - mae: 24.0672 - mse: 989.9540 - val_loss: 1578.0028 - val_mae: 29.8904 - val_mse: 1578.0028\n",
      "Epoch 136/150\n",
      "\u001b[1m4/4\u001b[0m \u001b[32m━━━━━━━━━━━━━━━━━━━━\u001b[0m\u001b[37m\u001b[0m \u001b[1m0s\u001b[0m 23ms/step - loss: 781.6353 - mae: 21.4969 - mse: 781.6353 - val_loss: 1527.3168 - val_mae: 30.2221 - val_mse: 1527.3168\n",
      "Epoch 137/150\n",
      "\u001b[1m4/4\u001b[0m \u001b[32m━━━━━━━━━━━━━━━━━━━━\u001b[0m\u001b[37m\u001b[0m \u001b[1m0s\u001b[0m 22ms/step - loss: 923.7054 - mae: 23.0314 - mse: 923.7054 - val_loss: 1521.1418 - val_mae: 29.8151 - val_mse: 1521.1418\n",
      "Epoch 138/150\n",
      "\u001b[1m4/4\u001b[0m \u001b[32m━━━━━━━━━━━━━━━━━━━━\u001b[0m\u001b[37m\u001b[0m \u001b[1m0s\u001b[0m 21ms/step - loss: 857.5225 - mae: 22.9508 - mse: 857.5225 - val_loss: 1537.9719 - val_mae: 30.3452 - val_mse: 1537.9719\n",
      "Epoch 139/150\n",
      "\u001b[1m4/4\u001b[0m \u001b[32m━━━━━━━━━━━━━━━━━━━━\u001b[0m\u001b[37m\u001b[0m \u001b[1m0s\u001b[0m 20ms/step - loss: 870.7120 - mae: 22.5635 - mse: 870.7120 - val_loss: 1602.2256 - val_mae: 30.0625 - val_mse: 1602.2256\n",
      "Epoch 140/150\n",
      "\u001b[1m4/4\u001b[0m \u001b[32m━━━━━━━━━━━━━━━━━━━━\u001b[0m\u001b[37m\u001b[0m \u001b[1m0s\u001b[0m 24ms/step - loss: 790.2178 - mae: 21.8307 - mse: 790.2178 - val_loss: 1588.4816 - val_mae: 30.3219 - val_mse: 1588.4816\n",
      "Epoch 141/150\n",
      "\u001b[1m4/4\u001b[0m \u001b[32m━━━━━━━━━━━━━━━━━━━━\u001b[0m\u001b[37m\u001b[0m \u001b[1m0s\u001b[0m 19ms/step - loss: 855.1735 - mae: 22.6896 - mse: 855.1735 - val_loss: 1523.1993 - val_mae: 30.4682 - val_mse: 1523.1993\n",
      "Epoch 142/150\n",
      "\u001b[1m4/4\u001b[0m \u001b[32m━━━━━━━━━━━━━━━━━━━━\u001b[0m\u001b[37m\u001b[0m \u001b[1m0s\u001b[0m 23ms/step - loss: 845.3207 - mae: 22.3687 - mse: 845.3207 - val_loss: 1542.0366 - val_mae: 30.1127 - val_mse: 1542.0366\n",
      "Epoch 143/150\n",
      "\u001b[1m4/4\u001b[0m \u001b[32m━━━━━━━━━━━━━━━━━━━━\u001b[0m\u001b[37m\u001b[0m \u001b[1m0s\u001b[0m 22ms/step - loss: 773.8786 - mae: 21.1215 - mse: 773.8786 - val_loss: 1569.2556 - val_mae: 29.6215 - val_mse: 1569.2556\n",
      "Epoch 144/150\n",
      "\u001b[1m4/4\u001b[0m \u001b[32m━━━━━━━━━━━━━━━━━━━━\u001b[0m\u001b[37m\u001b[0m \u001b[1m0s\u001b[0m 24ms/step - loss: 852.2259 - mae: 21.8102 - mse: 852.2259 - val_loss: 1548.3625 - val_mae: 29.9628 - val_mse: 1548.3625\n",
      "Epoch 145/150\n",
      "\u001b[1m4/4\u001b[0m \u001b[32m━━━━━━━━━━━━━━━━━━━━\u001b[0m\u001b[37m\u001b[0m \u001b[1m0s\u001b[0m 20ms/step - loss: 830.3530 - mae: 21.8256 - mse: 830.3530 - val_loss: 1546.4242 - val_mae: 30.2429 - val_mse: 1546.4242\n",
      "Epoch 146/150\n",
      "\u001b[1m4/4\u001b[0m \u001b[32m━━━━━━━━━━━━━━━━━━━━\u001b[0m\u001b[37m\u001b[0m \u001b[1m0s\u001b[0m 20ms/step - loss: 805.9478 - mae: 22.0371 - mse: 805.9478 - val_loss: 1550.2529 - val_mae: 29.8677 - val_mse: 1550.2529\n",
      "Epoch 147/150\n",
      "\u001b[1m4/4\u001b[0m \u001b[32m━━━━━━━━━━━━━━━━━━━━\u001b[0m\u001b[37m\u001b[0m \u001b[1m0s\u001b[0m 20ms/step - loss: 760.1591 - mae: 20.8183 - mse: 760.1591 - val_loss: 1571.5428 - val_mae: 29.8716 - val_mse: 1571.5428\n",
      "Epoch 148/150\n",
      "\u001b[1m4/4\u001b[0m \u001b[32m━━━━━━━━━━━━━━━━━━━━\u001b[0m\u001b[37m\u001b[0m \u001b[1m0s\u001b[0m 23ms/step - loss: 873.2249 - mae: 22.7136 - mse: 873.2249 - val_loss: 1598.0001 - val_mae: 29.6937 - val_mse: 1598.0001\n",
      "Epoch 149/150\n",
      "\u001b[1m4/4\u001b[0m \u001b[32m━━━━━━━━━━━━━━━━━━━━\u001b[0m\u001b[37m\u001b[0m \u001b[1m0s\u001b[0m 18ms/step - loss: 832.7194 - mae: 21.9947 - mse: 832.7194 - val_loss: 1543.9052 - val_mae: 29.9566 - val_mse: 1543.9052\n",
      "Epoch 150/150\n",
      "\u001b[1m4/4\u001b[0m \u001b[32m━━━━━━━━━━━━━━━━━━━━\u001b[0m\u001b[37m\u001b[0m \u001b[1m0s\u001b[0m 20ms/step - loss: 724.1453 - mae: 20.2987 - mse: 724.1453 - val_loss: 1536.4967 - val_mae: 30.6342 - val_mse: 1536.4967\n"
     ]
    },
    {
     "data": {
      "text/plain": [
       "<keras.src.callbacks.history.History at 0x24a75111790>"
      ]
     },
     "execution_count": 56,
     "metadata": {},
     "output_type": "execute_result"
    }
   ],
   "source": [
    "model.fit(norm_train_data,train_label, validation_data = (norm_val_data, val_data_label),epochs=150, batch_size=20)"
   ]
  },
  {
   "cell_type": "code",
   "execution_count": 57,
   "metadata": {},
   "outputs": [
    {
     "data": {
      "image/png": "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",
      "text/plain": [
       "<Figure size 640x480 with 1 Axes>"
      ]
     },
     "metadata": {},
     "output_type": "display_data"
    },
    {
     "data": {
      "image/png": "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",
      "text/plain": [
       "<Figure size 640x480 with 1 Axes>"
      ]
     },
     "metadata": {},
     "output_type": "display_data"
    }
   ],
   "source": [
    "# Loss\n",
    "plt.plot(history.history['loss'], label='train_loss')\n",
    "plt.plot(history.history['val_loss'], label='val_loss')\n",
    "plt.title('Model Loss')\n",
    "plt.xlabel('Epoch')\n",
    "plt.ylabel('Loss')\n",
    "plt.legend()\n",
    "plt.show()\n",
    "\n",
    "# Metrics\n",
    "plt.plot(history.history['mae'], label='train_mae')\n",
    "plt.plot(history.history['val_mae'], label='val_mae')\n",
    "plt.title('Model Metrics')\n",
    "plt.xlabel('Epoch')\n",
    "plt.ylabel('MAE')\n",
    "plt.legend()\n",
    "plt.show()"
   ]
  },
  {
   "cell_type": "code",
   "execution_count": null,
   "metadata": {},
   "outputs": [],
   "source": []
  }
 ],
 "metadata": {
  "colab": {
   "provenance": [],
   "toc_visible": true
  },
  "kernelspec": {
   "display_name": "Python 3 (ipykernel)",
   "language": "python",
   "name": "python3"
  },
  "language_info": {
   "codemirror_mode": {
    "name": "ipython",
    "version": 3
   },
   "file_extension": ".py",
   "mimetype": "text/x-python",
   "name": "python",
   "nbconvert_exporter": "python",
   "pygments_lexer": "ipython3",
   "version": "3.11.7"
  }
 },
 "nbformat": 4,
 "nbformat_minor": 4
}
=======
  "nbformat": 4,
  "nbformat_minor": 0,
  "metadata": {
    "colab": {
      "provenance": [],
      "toc_visible": true,
      "mount_file_id": "1Tdp04ENEg3ZM2J1EzXFav_rpuR7zAIIR",
      "authorship_tag": "ABX9TyO/UbdmSvr3IZrsGd23Jn+Y",
      "include_colab_link": true
    },
    "kernelspec": {
      "name": "python3",
      "display_name": "Python 3"
    },
    "language_info": {
      "name": "python"
    }
  },
  "cells": [
    {
      "cell_type": "markdown",
      "metadata": {
        "id": "view-in-github",
        "colab_type": "text"
      },
      "source": [
        "<a href=\"https://colab.research.google.com/github/elugabriel/Energy-distribution-prediction/blob/main/Energy_prediction.ipynb\" target=\"_parent\"><img src=\"https://colab.research.google.com/assets/colab-badge.svg\" alt=\"Open In Colab\"/></a>"
      ]
    },
    {
      "cell_type": "markdown",
      "source": [
        "## Import Basic Libraries"
      ],
      "metadata": {
        "id": "HnpJe1wamJz1"
      }
    },
    {
      "cell_type": "code",
      "execution_count": 1,
      "metadata": {
        "id": "1C7ZY9Y0lJ0a"
      },
      "outputs": [],
      "source": [
        "import pandas as pd"
      ]
    },
    {
      "cell_type": "code",
      "source": [
        "import tensorflow as tf\n",
        "from tensorflow import keras"
      ],
      "metadata": {
        "id": "T5B59TdTlVdX"
      },
      "execution_count": 2,
      "outputs": []
    },
    {
      "cell_type": "code",
      "source": [
        "from sklearn.preprocessing import StandardScaler\n",
        "from sklearn.preprocessing import OneHotEncoder\n",
        "from sklearn.compose import ColumnTransformer\n",
        "from keras.models import Sequential\n",
        "from keras.layers import Dense"
      ],
      "metadata": {
        "id": "4ypQ-tM9lRZG"
      },
      "execution_count": 3,
      "outputs": []
    },
    {
      "cell_type": "code",
      "source": [
        "from tensorflow.keras.models import Sequential"
      ],
      "metadata": {
        "id": "FPFph4WryRIZ"
      },
      "execution_count": 4,
      "outputs": []
    },
    {
      "cell_type": "code",
      "source": [
        "from tensorflow.keras.layers import Activation, Dense, BatchNormalization, Dropout"
      ],
      "metadata": {
        "id": "0znHaTgAyl6q"
      },
      "execution_count": 5,
      "outputs": []
    },
    {
      "cell_type": "code",
      "source": [
        "import matplotlib.pyplot as plt\n",
        "import seaborn as sns"
      ],
      "metadata": {
        "id": "sTHuI2a18HOX"
      },
      "execution_count": 6,
      "outputs": []
    },
    {
      "cell_type": "code",
      "source": [
        "from sklearn.model_selection import train_test_split\n",
        "from sklearn.preprocessing import StandardScaler\n",
        "from sklearn.preprocessing import OneHotEncoder\n",
        "from sklearn.compose import ColumnTransformer"
      ],
      "metadata": {
        "id": "UlXWpnKMHeT2"
      },
      "execution_count": 7,
      "outputs": []
    },
    {
      "cell_type": "code",
      "source": [
        "!pwd"
      ],
      "metadata": {
        "colab": {
          "base_uri": "https://localhost:8080/"
        },
        "id": "GqpogAfJlvL1",
        "outputId": "184fbe90-06d0-40e4-c383-ad45033b5875"
      },
      "execution_count": 8,
      "outputs": [
        {
          "output_type": "stream",
          "name": "stdout",
          "text": [
            "/content\n"
          ]
        }
      ]
    },
    {
      "cell_type": "code",
      "source": [
        "data = pd.read_excel(\"/content/drive/MyDrive/Energy/abuja-weather-data.xlsx\")"
      ],
      "metadata": {
        "id": "jJoV5lgEpGMu"
      },
      "execution_count": 9,
      "outputs": []
    },
    {
      "cell_type": "code",
      "source": [
        "data.head()"
      ],
      "metadata": {
        "colab": {
          "base_uri": "https://localhost:8080/",
          "height": 348
        },
        "id": "XGqX7vkHpPJT",
        "outputId": "2ebb3187-b68b-47bb-8137-c53ca5193256"
      },
      "execution_count": 10,
      "outputs": [
        {
          "output_type": "execute_result",
          "data": {
            "text/plain": [
              "     temp  temp_min  temp_max  pressure  humidity  sea_level  ground_level  \\\n",
              "0  313.34    313.34    313.34      1006        28       1006           985   \n",
              "1  313.60    313.60    313.60      1006        30       1006          1001   \n",
              "2  313.61    313.61    313.61      1005        29       1005           998   \n",
              "3  312.30    312.30    312.30      1006        28       1006           971   \n",
              "4  313.58    313.58    313.58      1006        29       1006           997   \n",
              "\n",
              "   wind_speed  wind_degree             sunrise              sunset  cloud  \\\n",
              "0        0.64          183 2024-02-21 05:50:33 2024-02-21 17:45:20     41   \n",
              "1        1.35          213 2024-02-21 05:49:15 2024-02-21 17:44:09     31   \n",
              "2        1.37          214 2024-02-21 05:49:29 2024-02-21 17:44:14     34   \n",
              "3        0.67          197 2024-02-21 05:50:07 2024-02-21 17:44:44     36   \n",
              "4        1.28          211 2024-02-21 05:49:35 2024-02-21 17:44:23     33   \n",
              "\n",
              "  description region  Energy Consumption (GWh)  \n",
              "0      Clouds  Abuja                     246.0  \n",
              "1      Clouds  Abuja                     250.0  \n",
              "2      Clouds  Abuja                     244.0  \n",
              "3      Clouds  Abuja                     236.0  \n",
              "4      Clouds  Abuja                     212.0  "
            ],
            "text/html": [
              "\n",
              "  <div id=\"df-73bab181-375f-4ba2-b75e-262b0f7ceba3\" class=\"colab-df-container\">\n",
              "    <div>\n",
              "<style scoped>\n",
              "    .dataframe tbody tr th:only-of-type {\n",
              "        vertical-align: middle;\n",
              "    }\n",
              "\n",
              "    .dataframe tbody tr th {\n",
              "        vertical-align: top;\n",
              "    }\n",
              "\n",
              "    .dataframe thead th {\n",
              "        text-align: right;\n",
              "    }\n",
              "</style>\n",
              "<table border=\"1\" class=\"dataframe\">\n",
              "  <thead>\n",
              "    <tr style=\"text-align: right;\">\n",
              "      <th></th>\n",
              "      <th>temp</th>\n",
              "      <th>temp_min</th>\n",
              "      <th>temp_max</th>\n",
              "      <th>pressure</th>\n",
              "      <th>humidity</th>\n",
              "      <th>sea_level</th>\n",
              "      <th>ground_level</th>\n",
              "      <th>wind_speed</th>\n",
              "      <th>wind_degree</th>\n",
              "      <th>sunrise</th>\n",
              "      <th>sunset</th>\n",
              "      <th>cloud</th>\n",
              "      <th>description</th>\n",
              "      <th>region</th>\n",
              "      <th>Energy Consumption (GWh)</th>\n",
              "    </tr>\n",
              "  </thead>\n",
              "  <tbody>\n",
              "    <tr>\n",
              "      <th>0</th>\n",
              "      <td>313.34</td>\n",
              "      <td>313.34</td>\n",
              "      <td>313.34</td>\n",
              "      <td>1006</td>\n",
              "      <td>28</td>\n",
              "      <td>1006</td>\n",
              "      <td>985</td>\n",
              "      <td>0.64</td>\n",
              "      <td>183</td>\n",
              "      <td>2024-02-21 05:50:33</td>\n",
              "      <td>2024-02-21 17:45:20</td>\n",
              "      <td>41</td>\n",
              "      <td>Clouds</td>\n",
              "      <td>Abuja</td>\n",
              "      <td>246.0</td>\n",
              "    </tr>\n",
              "    <tr>\n",
              "      <th>1</th>\n",
              "      <td>313.60</td>\n",
              "      <td>313.60</td>\n",
              "      <td>313.60</td>\n",
              "      <td>1006</td>\n",
              "      <td>30</td>\n",
              "      <td>1006</td>\n",
              "      <td>1001</td>\n",
              "      <td>1.35</td>\n",
              "      <td>213</td>\n",
              "      <td>2024-02-21 05:49:15</td>\n",
              "      <td>2024-02-21 17:44:09</td>\n",
              "      <td>31</td>\n",
              "      <td>Clouds</td>\n",
              "      <td>Abuja</td>\n",
              "      <td>250.0</td>\n",
              "    </tr>\n",
              "    <tr>\n",
              "      <th>2</th>\n",
              "      <td>313.61</td>\n",
              "      <td>313.61</td>\n",
              "      <td>313.61</td>\n",
              "      <td>1005</td>\n",
              "      <td>29</td>\n",
              "      <td>1005</td>\n",
              "      <td>998</td>\n",
              "      <td>1.37</td>\n",
              "      <td>214</td>\n",
              "      <td>2024-02-21 05:49:29</td>\n",
              "      <td>2024-02-21 17:44:14</td>\n",
              "      <td>34</td>\n",
              "      <td>Clouds</td>\n",
              "      <td>Abuja</td>\n",
              "      <td>244.0</td>\n",
              "    </tr>\n",
              "    <tr>\n",
              "      <th>3</th>\n",
              "      <td>312.30</td>\n",
              "      <td>312.30</td>\n",
              "      <td>312.30</td>\n",
              "      <td>1006</td>\n",
              "      <td>28</td>\n",
              "      <td>1006</td>\n",
              "      <td>971</td>\n",
              "      <td>0.67</td>\n",
              "      <td>197</td>\n",
              "      <td>2024-02-21 05:50:07</td>\n",
              "      <td>2024-02-21 17:44:44</td>\n",
              "      <td>36</td>\n",
              "      <td>Clouds</td>\n",
              "      <td>Abuja</td>\n",
              "      <td>236.0</td>\n",
              "    </tr>\n",
              "    <tr>\n",
              "      <th>4</th>\n",
              "      <td>313.58</td>\n",
              "      <td>313.58</td>\n",
              "      <td>313.58</td>\n",
              "      <td>1006</td>\n",
              "      <td>29</td>\n",
              "      <td>1006</td>\n",
              "      <td>997</td>\n",
              "      <td>1.28</td>\n",
              "      <td>211</td>\n",
              "      <td>2024-02-21 05:49:35</td>\n",
              "      <td>2024-02-21 17:44:23</td>\n",
              "      <td>33</td>\n",
              "      <td>Clouds</td>\n",
              "      <td>Abuja</td>\n",
              "      <td>212.0</td>\n",
              "    </tr>\n",
              "  </tbody>\n",
              "</table>\n",
              "</div>\n",
              "    <div class=\"colab-df-buttons\">\n",
              "\n",
              "  <div class=\"colab-df-container\">\n",
              "    <button class=\"colab-df-convert\" onclick=\"convertToInteractive('df-73bab181-375f-4ba2-b75e-262b0f7ceba3')\"\n",
              "            title=\"Convert this dataframe to an interactive table.\"\n",
              "            style=\"display:none;\">\n",
              "\n",
              "  <svg xmlns=\"http://www.w3.org/2000/svg\" height=\"24px\" viewBox=\"0 -960 960 960\">\n",
              "    <path d=\"M120-120v-720h720v720H120Zm60-500h600v-160H180v160Zm220 220h160v-160H400v160Zm0 220h160v-160H400v160ZM180-400h160v-160H180v160Zm440 0h160v-160H620v160ZM180-180h160v-160H180v160Zm440 0h160v-160H620v160Z\"/>\n",
              "  </svg>\n",
              "    </button>\n",
              "\n",
              "  <style>\n",
              "    .colab-df-container {\n",
              "      display:flex;\n",
              "      gap: 12px;\n",
              "    }\n",
              "\n",
              "    .colab-df-convert {\n",
              "      background-color: #E8F0FE;\n",
              "      border: none;\n",
              "      border-radius: 50%;\n",
              "      cursor: pointer;\n",
              "      display: none;\n",
              "      fill: #1967D2;\n",
              "      height: 32px;\n",
              "      padding: 0 0 0 0;\n",
              "      width: 32px;\n",
              "    }\n",
              "\n",
              "    .colab-df-convert:hover {\n",
              "      background-color: #E2EBFA;\n",
              "      box-shadow: 0px 1px 2px rgba(60, 64, 67, 0.3), 0px 1px 3px 1px rgba(60, 64, 67, 0.15);\n",
              "      fill: #174EA6;\n",
              "    }\n",
              "\n",
              "    .colab-df-buttons div {\n",
              "      margin-bottom: 4px;\n",
              "    }\n",
              "\n",
              "    [theme=dark] .colab-df-convert {\n",
              "      background-color: #3B4455;\n",
              "      fill: #D2E3FC;\n",
              "    }\n",
              "\n",
              "    [theme=dark] .colab-df-convert:hover {\n",
              "      background-color: #434B5C;\n",
              "      box-shadow: 0px 1px 3px 1px rgba(0, 0, 0, 0.15);\n",
              "      filter: drop-shadow(0px 1px 2px rgba(0, 0, 0, 0.3));\n",
              "      fill: #FFFFFF;\n",
              "    }\n",
              "  </style>\n",
              "\n",
              "    <script>\n",
              "      const buttonEl =\n",
              "        document.querySelector('#df-73bab181-375f-4ba2-b75e-262b0f7ceba3 button.colab-df-convert');\n",
              "      buttonEl.style.display =\n",
              "        google.colab.kernel.accessAllowed ? 'block' : 'none';\n",
              "\n",
              "      async function convertToInteractive(key) {\n",
              "        const element = document.querySelector('#df-73bab181-375f-4ba2-b75e-262b0f7ceba3');\n",
              "        const dataTable =\n",
              "          await google.colab.kernel.invokeFunction('convertToInteractive',\n",
              "                                                    [key], {});\n",
              "        if (!dataTable) return;\n",
              "\n",
              "        const docLinkHtml = 'Like what you see? Visit the ' +\n",
              "          '<a target=\"_blank\" href=https://colab.research.google.com/notebooks/data_table.ipynb>data table notebook</a>'\n",
              "          + ' to learn more about interactive tables.';\n",
              "        element.innerHTML = '';\n",
              "        dataTable['output_type'] = 'display_data';\n",
              "        await google.colab.output.renderOutput(dataTable, element);\n",
              "        const docLink = document.createElement('div');\n",
              "        docLink.innerHTML = docLinkHtml;\n",
              "        element.appendChild(docLink);\n",
              "      }\n",
              "    </script>\n",
              "  </div>\n",
              "\n",
              "\n",
              "<div id=\"df-6f3749da-8dad-4963-b417-8f90fb5c26cc\">\n",
              "  <button class=\"colab-df-quickchart\" onclick=\"quickchart('df-6f3749da-8dad-4963-b417-8f90fb5c26cc')\"\n",
              "            title=\"Suggest charts\"\n",
              "            style=\"display:none;\">\n",
              "\n",
              "<svg xmlns=\"http://www.w3.org/2000/svg\" height=\"24px\"viewBox=\"0 0 24 24\"\n",
              "     width=\"24px\">\n",
              "    <g>\n",
              "        <path d=\"M19 3H5c-1.1 0-2 .9-2 2v14c0 1.1.9 2 2 2h14c1.1 0 2-.9 2-2V5c0-1.1-.9-2-2-2zM9 17H7v-7h2v7zm4 0h-2V7h2v10zm4 0h-2v-4h2v4z\"/>\n",
              "    </g>\n",
              "</svg>\n",
              "  </button>\n",
              "\n",
              "<style>\n",
              "  .colab-df-quickchart {\n",
              "      --bg-color: #E8F0FE;\n",
              "      --fill-color: #1967D2;\n",
              "      --hover-bg-color: #E2EBFA;\n",
              "      --hover-fill-color: #174EA6;\n",
              "      --disabled-fill-color: #AAA;\n",
              "      --disabled-bg-color: #DDD;\n",
              "  }\n",
              "\n",
              "  [theme=dark] .colab-df-quickchart {\n",
              "      --bg-color: #3B4455;\n",
              "      --fill-color: #D2E3FC;\n",
              "      --hover-bg-color: #434B5C;\n",
              "      --hover-fill-color: #FFFFFF;\n",
              "      --disabled-bg-color: #3B4455;\n",
              "      --disabled-fill-color: #666;\n",
              "  }\n",
              "\n",
              "  .colab-df-quickchart {\n",
              "    background-color: var(--bg-color);\n",
              "    border: none;\n",
              "    border-radius: 50%;\n",
              "    cursor: pointer;\n",
              "    display: none;\n",
              "    fill: var(--fill-color);\n",
              "    height: 32px;\n",
              "    padding: 0;\n",
              "    width: 32px;\n",
              "  }\n",
              "\n",
              "  .colab-df-quickchart:hover {\n",
              "    background-color: var(--hover-bg-color);\n",
              "    box-shadow: 0 1px 2px rgba(60, 64, 67, 0.3), 0 1px 3px 1px rgba(60, 64, 67, 0.15);\n",
              "    fill: var(--button-hover-fill-color);\n",
              "  }\n",
              "\n",
              "  .colab-df-quickchart-complete:disabled,\n",
              "  .colab-df-quickchart-complete:disabled:hover {\n",
              "    background-color: var(--disabled-bg-color);\n",
              "    fill: var(--disabled-fill-color);\n",
              "    box-shadow: none;\n",
              "  }\n",
              "\n",
              "  .colab-df-spinner {\n",
              "    border: 2px solid var(--fill-color);\n",
              "    border-color: transparent;\n",
              "    border-bottom-color: var(--fill-color);\n",
              "    animation:\n",
              "      spin 1s steps(1) infinite;\n",
              "  }\n",
              "\n",
              "  @keyframes spin {\n",
              "    0% {\n",
              "      border-color: transparent;\n",
              "      border-bottom-color: var(--fill-color);\n",
              "      border-left-color: var(--fill-color);\n",
              "    }\n",
              "    20% {\n",
              "      border-color: transparent;\n",
              "      border-left-color: var(--fill-color);\n",
              "      border-top-color: var(--fill-color);\n",
              "    }\n",
              "    30% {\n",
              "      border-color: transparent;\n",
              "      border-left-color: var(--fill-color);\n",
              "      border-top-color: var(--fill-color);\n",
              "      border-right-color: var(--fill-color);\n",
              "    }\n",
              "    40% {\n",
              "      border-color: transparent;\n",
              "      border-right-color: var(--fill-color);\n",
              "      border-top-color: var(--fill-color);\n",
              "    }\n",
              "    60% {\n",
              "      border-color: transparent;\n",
              "      border-right-color: var(--fill-color);\n",
              "    }\n",
              "    80% {\n",
              "      border-color: transparent;\n",
              "      border-right-color: var(--fill-color);\n",
              "      border-bottom-color: var(--fill-color);\n",
              "    }\n",
              "    90% {\n",
              "      border-color: transparent;\n",
              "      border-bottom-color: var(--fill-color);\n",
              "    }\n",
              "  }\n",
              "</style>\n",
              "\n",
              "  <script>\n",
              "    async function quickchart(key) {\n",
              "      const quickchartButtonEl =\n",
              "        document.querySelector('#' + key + ' button');\n",
              "      quickchartButtonEl.disabled = true;  // To prevent multiple clicks.\n",
              "      quickchartButtonEl.classList.add('colab-df-spinner');\n",
              "      try {\n",
              "        const charts = await google.colab.kernel.invokeFunction(\n",
              "            'suggestCharts', [key], {});\n",
              "      } catch (error) {\n",
              "        console.error('Error during call to suggestCharts:', error);\n",
              "      }\n",
              "      quickchartButtonEl.classList.remove('colab-df-spinner');\n",
              "      quickchartButtonEl.classList.add('colab-df-quickchart-complete');\n",
              "    }\n",
              "    (() => {\n",
              "      let quickchartButtonEl =\n",
              "        document.querySelector('#df-6f3749da-8dad-4963-b417-8f90fb5c26cc button');\n",
              "      quickchartButtonEl.style.display =\n",
              "        google.colab.kernel.accessAllowed ? 'block' : 'none';\n",
              "    })();\n",
              "  </script>\n",
              "</div>\n",
              "\n",
              "    </div>\n",
              "  </div>\n"
            ],
            "application/vnd.google.colaboratory.intrinsic+json": {
              "type": "dataframe",
              "variable_name": "data",
              "summary": "{\n  \"name\": \"data\",\n  \"rows\": 123,\n  \"fields\": [\n    {\n      \"column\": \"temp\",\n      \"properties\": {\n        \"dtype\": \"number\",\n        \"std\": 4.043879339111099,\n        \"min\": 298.91,\n        \"max\": 313.8,\n        \"num_unique_values\": 110,\n        \"samples\": [\n          305.81,\n          313.63,\n          313.58\n        ],\n        \"semantic_type\": \"\",\n        \"description\": \"\"\n      }\n    },\n    {\n      \"column\": \"temp_min\",\n      \"properties\": {\n        \"dtype\": \"number\",\n        \"std\": 4.043879339111099,\n        \"min\": 298.91,\n        \"max\": 313.8,\n        \"num_unique_values\": 110,\n        \"samples\": [\n          305.81,\n          313.63,\n          313.58\n        ],\n        \"semantic_type\": \"\",\n        \"description\": \"\"\n      }\n    },\n    {\n      \"column\": \"temp_max\",\n      \"properties\": {\n        \"dtype\": \"number\",\n        \"std\": 4.043879339111099,\n        \"min\": 298.91,\n        \"max\": 313.8,\n        \"num_unique_values\": 110,\n        \"samples\": [\n          305.81,\n          313.63,\n          313.58\n        ],\n        \"semantic_type\": \"\",\n        \"description\": \"\"\n      }\n    },\n    {\n      \"column\": \"pressure\",\n      \"properties\": {\n        \"dtype\": \"number\",\n        \"std\": 1,\n        \"min\": 1005,\n        \"max\": 1012,\n        \"num_unique_values\": 7,\n        \"samples\": [\n          1006,\n          1005,\n          1012\n        ],\n        \"semantic_type\": \"\",\n        \"description\": \"\"\n      }\n    },\n    {\n      \"column\": \"humidity\",\n      \"properties\": {\n        \"dtype\": \"number\",\n        \"std\": 13,\n        \"min\": 19,\n        \"max\": 61,\n        \"num_unique_values\": 23,\n        \"samples\": [\n          19,\n          34,\n          28\n        ],\n        \"semantic_type\": \"\",\n        \"description\": \"\"\n      }\n    },\n    {\n      \"column\": \"sea_level\",\n      \"properties\": {\n        \"dtype\": \"number\",\n        \"std\": 1,\n        \"min\": 1005,\n        \"max\": 1012,\n        \"num_unique_values\": 7,\n        \"samples\": [\n          1006,\n          1005,\n          1012\n        ],\n        \"semantic_type\": \"\",\n        \"description\": \"\"\n      }\n    },\n    {\n      \"column\": \"ground_level\",\n      \"properties\": {\n        \"dtype\": \"number\",\n        \"std\": 8,\n        \"min\": 971,\n        \"max\": 1007,\n        \"num_unique_values\": 28,\n        \"samples\": [\n          1004,\n          977,\n          989\n        ],\n        \"semantic_type\": \"\",\n        \"description\": \"\"\n      }\n    },\n    {\n      \"column\": \"wind_speed\",\n      \"properties\": {\n        \"dtype\": \"number\",\n        \"std\": 0.5363053644666917,\n        \"min\": 0.44,\n        \"max\": 3.33,\n        \"num_unique_values\": 84,\n        \"samples\": [\n          0.87,\n          0.64,\n          0.56\n        ],\n        \"semantic_type\": \"\",\n        \"description\": \"\"\n      }\n    },\n    {\n      \"column\": \"wind_degree\",\n      \"properties\": {\n        \"dtype\": \"number\",\n        \"std\": 83,\n        \"min\": 3,\n        \"max\": 343,\n        \"num_unique_values\": 80,\n        \"samples\": [\n          94,\n          183,\n          167\n        ],\n        \"semantic_type\": \"\",\n        \"description\": \"\"\n      }\n    },\n    {\n      \"column\": \"sunrise\",\n      \"properties\": {\n        \"dtype\": \"date\",\n        \"min\": \"2024-02-21 05:49:15\",\n        \"max\": \"2024-02-27 05:48:42\",\n        \"num_unique_values\": 109,\n        \"samples\": [\n          \"2024-02-26 05:47:34\",\n          \"2024-02-21 05:49:23\",\n          \"2024-02-21 05:49:35\"\n        ],\n        \"semantic_type\": \"\",\n        \"description\": \"\"\n      }\n    },\n    {\n      \"column\": \"sunset\",\n      \"properties\": {\n        \"dtype\": \"date\",\n        \"min\": \"2024-02-21 17:44:01\",\n        \"max\": \"2024-02-27 17:45:53\",\n        \"num_unique_values\": 111,\n        \"samples\": [\n          \"2024-02-26 17:44:51\",\n          \"2024-02-21 17:44:11\",\n          \"2024-02-21 17:44:23\"\n        ],\n        \"semantic_type\": \"\",\n        \"description\": \"\"\n      }\n    },\n    {\n      \"column\": \"cloud\",\n      \"properties\": {\n        \"dtype\": \"number\",\n        \"std\": 33,\n        \"min\": 6,\n        \"max\": 100,\n        \"num_unique_values\": 35,\n        \"samples\": [\n          8,\n          91,\n          18\n        ],\n        \"semantic_type\": \"\",\n        \"description\": \"\"\n      }\n    },\n    {\n      \"column\": \"description\",\n      \"properties\": {\n        \"dtype\": \"category\",\n        \"num_unique_values\": 3,\n        \"samples\": [\n          \"Clouds\",\n          \"Rain\",\n          \"Clear\"\n        ],\n        \"semantic_type\": \"\",\n        \"description\": \"\"\n      }\n    },\n    {\n      \"column\": \"region\",\n      \"properties\": {\n        \"dtype\": \"category\",\n        \"num_unique_values\": 1,\n        \"samples\": [\n          \"Abuja\"\n        ],\n        \"semantic_type\": \"\",\n        \"description\": \"\"\n      }\n    },\n    {\n      \"column\": \"Energy Consumption (GWh)\",\n      \"properties\": {\n        \"dtype\": \"number\",\n        \"std\": 36.96755514339596,\n        \"min\": 130.0,\n        \"max\": 317.0,\n        \"num_unique_values\": 86,\n        \"samples\": [\n          304.0\n        ],\n        \"semantic_type\": \"\",\n        \"description\": \"\"\n      }\n    }\n  ]\n}"
            }
          },
          "metadata": {},
          "execution_count": 10
        }
      ]
    },
    {
      "cell_type": "markdown",
      "source": [
        "# Data Preprocessing"
      ],
      "metadata": {
        "id": "xSFsXAu8mVG8"
      }
    },
    {
      "cell_type": "code",
      "source": [
        "data.info()"
      ],
      "metadata": {
        "colab": {
          "base_uri": "https://localhost:8080/"
        },
        "id": "STkr_C8jpqoJ",
        "outputId": "917505e9-d73d-40d5-ad3c-df446fb1f0f8"
      },
      "execution_count": 11,
      "outputs": [
        {
          "output_type": "stream",
          "name": "stdout",
          "text": [
            "<class 'pandas.core.frame.DataFrame'>\n",
            "RangeIndex: 123 entries, 0 to 122\n",
            "Data columns (total 15 columns):\n",
            " #   Column                    Non-Null Count  Dtype         \n",
            "---  ------                    --------------  -----         \n",
            " 0   temp                      123 non-null    float64       \n",
            " 1   temp_min                  123 non-null    float64       \n",
            " 2   temp_max                  123 non-null    float64       \n",
            " 3   pressure                  123 non-null    int64         \n",
            " 4   humidity                  123 non-null    int64         \n",
            " 5   sea_level                 123 non-null    int64         \n",
            " 6   ground_level              123 non-null    int64         \n",
            " 7   wind_speed                123 non-null    float64       \n",
            " 8   wind_degree               123 non-null    int64         \n",
            " 9   sunrise                   123 non-null    datetime64[ns]\n",
            " 10  sunset                    123 non-null    datetime64[ns]\n",
            " 11  cloud                     123 non-null    int64         \n",
            " 12  description               123 non-null    object        \n",
            " 13  region                    123 non-null    object        \n",
            " 14  Energy Consumption (GWh)  123 non-null    float64       \n",
            "dtypes: datetime64[ns](2), float64(5), int64(6), object(2)\n",
            "memory usage: 14.5+ KB\n"
          ]
        }
      ]
    },
    {
      "cell_type": "code",
      "source": [
        "data['total_sunshine_hours'] = (data['sunset'] - data['sunrise']).dt.total_seconds() / 3600\n"
      ],
      "metadata": {
        "id": "fErEpUhDsWFs"
      },
      "execution_count": 12,
      "outputs": []
    },
    {
      "cell_type": "code",
      "source": [
        "data.head()"
      ],
      "metadata": {
        "colab": {
          "base_uri": "https://localhost:8080/",
          "height": 348
        },
        "id": "gsyS3IPJMyms",
        "outputId": "07872277-2cb7-4f11-f94d-2044b847a852"
      },
      "execution_count": 14,
      "outputs": [
        {
          "output_type": "execute_result",
          "data": {
            "text/plain": [
              "     temp  temp_min  temp_max  pressure  humidity  sea_level  ground_level  \\\n",
              "0  313.34    313.34    313.34      1006        28       1006           985   \n",
              "1  313.60    313.60    313.60      1006        30       1006          1001   \n",
              "2  313.61    313.61    313.61      1005        29       1005           998   \n",
              "3  312.30    312.30    312.30      1006        28       1006           971   \n",
              "4  313.58    313.58    313.58      1006        29       1006           997   \n",
              "\n",
              "   wind_speed  wind_degree             sunrise              sunset  cloud  \\\n",
              "0        0.64          183 2024-02-21 05:50:33 2024-02-21 17:45:20     41   \n",
              "1        1.35          213 2024-02-21 05:49:15 2024-02-21 17:44:09     31   \n",
              "2        1.37          214 2024-02-21 05:49:29 2024-02-21 17:44:14     34   \n",
              "3        0.67          197 2024-02-21 05:50:07 2024-02-21 17:44:44     36   \n",
              "4        1.28          211 2024-02-21 05:49:35 2024-02-21 17:44:23     33   \n",
              "\n",
              "  description region  Energy Consumption (GWh)  total_sunshine_hours  \n",
              "0      Clouds  Abuja                     246.0             11.913056  \n",
              "1      Clouds  Abuja                     250.0             11.915000  \n",
              "2      Clouds  Abuja                     244.0             11.912500  \n",
              "3      Clouds  Abuja                     236.0             11.910278  \n",
              "4      Clouds  Abuja                     212.0             11.913333  "
            ],
            "text/html": [
              "\n",
              "  <div id=\"df-8f7c1652-0d5c-47d5-b9fa-c2946a36caf3\" class=\"colab-df-container\">\n",
              "    <div>\n",
              "<style scoped>\n",
              "    .dataframe tbody tr th:only-of-type {\n",
              "        vertical-align: middle;\n",
              "    }\n",
              "\n",
              "    .dataframe tbody tr th {\n",
              "        vertical-align: top;\n",
              "    }\n",
              "\n",
              "    .dataframe thead th {\n",
              "        text-align: right;\n",
              "    }\n",
              "</style>\n",
              "<table border=\"1\" class=\"dataframe\">\n",
              "  <thead>\n",
              "    <tr style=\"text-align: right;\">\n",
              "      <th></th>\n",
              "      <th>temp</th>\n",
              "      <th>temp_min</th>\n",
              "      <th>temp_max</th>\n",
              "      <th>pressure</th>\n",
              "      <th>humidity</th>\n",
              "      <th>sea_level</th>\n",
              "      <th>ground_level</th>\n",
              "      <th>wind_speed</th>\n",
              "      <th>wind_degree</th>\n",
              "      <th>sunrise</th>\n",
              "      <th>sunset</th>\n",
              "      <th>cloud</th>\n",
              "      <th>description</th>\n",
              "      <th>region</th>\n",
              "      <th>Energy Consumption (GWh)</th>\n",
              "      <th>total_sunshine_hours</th>\n",
              "    </tr>\n",
              "  </thead>\n",
              "  <tbody>\n",
              "    <tr>\n",
              "      <th>0</th>\n",
              "      <td>313.34</td>\n",
              "      <td>313.34</td>\n",
              "      <td>313.34</td>\n",
              "      <td>1006</td>\n",
              "      <td>28</td>\n",
              "      <td>1006</td>\n",
              "      <td>985</td>\n",
              "      <td>0.64</td>\n",
              "      <td>183</td>\n",
              "      <td>2024-02-21 05:50:33</td>\n",
              "      <td>2024-02-21 17:45:20</td>\n",
              "      <td>41</td>\n",
              "      <td>Clouds</td>\n",
              "      <td>Abuja</td>\n",
              "      <td>246.0</td>\n",
              "      <td>11.913056</td>\n",
              "    </tr>\n",
              "    <tr>\n",
              "      <th>1</th>\n",
              "      <td>313.60</td>\n",
              "      <td>313.60</td>\n",
              "      <td>313.60</td>\n",
              "      <td>1006</td>\n",
              "      <td>30</td>\n",
              "      <td>1006</td>\n",
              "      <td>1001</td>\n",
              "      <td>1.35</td>\n",
              "      <td>213</td>\n",
              "      <td>2024-02-21 05:49:15</td>\n",
              "      <td>2024-02-21 17:44:09</td>\n",
              "      <td>31</td>\n",
              "      <td>Clouds</td>\n",
              "      <td>Abuja</td>\n",
              "      <td>250.0</td>\n",
              "      <td>11.915000</td>\n",
              "    </tr>\n",
              "    <tr>\n",
              "      <th>2</th>\n",
              "      <td>313.61</td>\n",
              "      <td>313.61</td>\n",
              "      <td>313.61</td>\n",
              "      <td>1005</td>\n",
              "      <td>29</td>\n",
              "      <td>1005</td>\n",
              "      <td>998</td>\n",
              "      <td>1.37</td>\n",
              "      <td>214</td>\n",
              "      <td>2024-02-21 05:49:29</td>\n",
              "      <td>2024-02-21 17:44:14</td>\n",
              "      <td>34</td>\n",
              "      <td>Clouds</td>\n",
              "      <td>Abuja</td>\n",
              "      <td>244.0</td>\n",
              "      <td>11.912500</td>\n",
              "    </tr>\n",
              "    <tr>\n",
              "      <th>3</th>\n",
              "      <td>312.30</td>\n",
              "      <td>312.30</td>\n",
              "      <td>312.30</td>\n",
              "      <td>1006</td>\n",
              "      <td>28</td>\n",
              "      <td>1006</td>\n",
              "      <td>971</td>\n",
              "      <td>0.67</td>\n",
              "      <td>197</td>\n",
              "      <td>2024-02-21 05:50:07</td>\n",
              "      <td>2024-02-21 17:44:44</td>\n",
              "      <td>36</td>\n",
              "      <td>Clouds</td>\n",
              "      <td>Abuja</td>\n",
              "      <td>236.0</td>\n",
              "      <td>11.910278</td>\n",
              "    </tr>\n",
              "    <tr>\n",
              "      <th>4</th>\n",
              "      <td>313.58</td>\n",
              "      <td>313.58</td>\n",
              "      <td>313.58</td>\n",
              "      <td>1006</td>\n",
              "      <td>29</td>\n",
              "      <td>1006</td>\n",
              "      <td>997</td>\n",
              "      <td>1.28</td>\n",
              "      <td>211</td>\n",
              "      <td>2024-02-21 05:49:35</td>\n",
              "      <td>2024-02-21 17:44:23</td>\n",
              "      <td>33</td>\n",
              "      <td>Clouds</td>\n",
              "      <td>Abuja</td>\n",
              "      <td>212.0</td>\n",
              "      <td>11.913333</td>\n",
              "    </tr>\n",
              "  </tbody>\n",
              "</table>\n",
              "</div>\n",
              "    <div class=\"colab-df-buttons\">\n",
              "\n",
              "  <div class=\"colab-df-container\">\n",
              "    <button class=\"colab-df-convert\" onclick=\"convertToInteractive('df-8f7c1652-0d5c-47d5-b9fa-c2946a36caf3')\"\n",
              "            title=\"Convert this dataframe to an interactive table.\"\n",
              "            style=\"display:none;\">\n",
              "\n",
              "  <svg xmlns=\"http://www.w3.org/2000/svg\" height=\"24px\" viewBox=\"0 -960 960 960\">\n",
              "    <path d=\"M120-120v-720h720v720H120Zm60-500h600v-160H180v160Zm220 220h160v-160H400v160Zm0 220h160v-160H400v160ZM180-400h160v-160H180v160Zm440 0h160v-160H620v160ZM180-180h160v-160H180v160Zm440 0h160v-160H620v160Z\"/>\n",
              "  </svg>\n",
              "    </button>\n",
              "\n",
              "  <style>\n",
              "    .colab-df-container {\n",
              "      display:flex;\n",
              "      gap: 12px;\n",
              "    }\n",
              "\n",
              "    .colab-df-convert {\n",
              "      background-color: #E8F0FE;\n",
              "      border: none;\n",
              "      border-radius: 50%;\n",
              "      cursor: pointer;\n",
              "      display: none;\n",
              "      fill: #1967D2;\n",
              "      height: 32px;\n",
              "      padding: 0 0 0 0;\n",
              "      width: 32px;\n",
              "    }\n",
              "\n",
              "    .colab-df-convert:hover {\n",
              "      background-color: #E2EBFA;\n",
              "      box-shadow: 0px 1px 2px rgba(60, 64, 67, 0.3), 0px 1px 3px 1px rgba(60, 64, 67, 0.15);\n",
              "      fill: #174EA6;\n",
              "    }\n",
              "\n",
              "    .colab-df-buttons div {\n",
              "      margin-bottom: 4px;\n",
              "    }\n",
              "\n",
              "    [theme=dark] .colab-df-convert {\n",
              "      background-color: #3B4455;\n",
              "      fill: #D2E3FC;\n",
              "    }\n",
              "\n",
              "    [theme=dark] .colab-df-convert:hover {\n",
              "      background-color: #434B5C;\n",
              "      box-shadow: 0px 1px 3px 1px rgba(0, 0, 0, 0.15);\n",
              "      filter: drop-shadow(0px 1px 2px rgba(0, 0, 0, 0.3));\n",
              "      fill: #FFFFFF;\n",
              "    }\n",
              "  </style>\n",
              "\n",
              "    <script>\n",
              "      const buttonEl =\n",
              "        document.querySelector('#df-8f7c1652-0d5c-47d5-b9fa-c2946a36caf3 button.colab-df-convert');\n",
              "      buttonEl.style.display =\n",
              "        google.colab.kernel.accessAllowed ? 'block' : 'none';\n",
              "\n",
              "      async function convertToInteractive(key) {\n",
              "        const element = document.querySelector('#df-8f7c1652-0d5c-47d5-b9fa-c2946a36caf3');\n",
              "        const dataTable =\n",
              "          await google.colab.kernel.invokeFunction('convertToInteractive',\n",
              "                                                    [key], {});\n",
              "        if (!dataTable) return;\n",
              "\n",
              "        const docLinkHtml = 'Like what you see? Visit the ' +\n",
              "          '<a target=\"_blank\" href=https://colab.research.google.com/notebooks/data_table.ipynb>data table notebook</a>'\n",
              "          + ' to learn more about interactive tables.';\n",
              "        element.innerHTML = '';\n",
              "        dataTable['output_type'] = 'display_data';\n",
              "        await google.colab.output.renderOutput(dataTable, element);\n",
              "        const docLink = document.createElement('div');\n",
              "        docLink.innerHTML = docLinkHtml;\n",
              "        element.appendChild(docLink);\n",
              "      }\n",
              "    </script>\n",
              "  </div>\n",
              "\n",
              "\n",
              "<div id=\"df-622d72e7-b699-497d-89fb-e5a9733d93c6\">\n",
              "  <button class=\"colab-df-quickchart\" onclick=\"quickchart('df-622d72e7-b699-497d-89fb-e5a9733d93c6')\"\n",
              "            title=\"Suggest charts\"\n",
              "            style=\"display:none;\">\n",
              "\n",
              "<svg xmlns=\"http://www.w3.org/2000/svg\" height=\"24px\"viewBox=\"0 0 24 24\"\n",
              "     width=\"24px\">\n",
              "    <g>\n",
              "        <path d=\"M19 3H5c-1.1 0-2 .9-2 2v14c0 1.1.9 2 2 2h14c1.1 0 2-.9 2-2V5c0-1.1-.9-2-2-2zM9 17H7v-7h2v7zm4 0h-2V7h2v10zm4 0h-2v-4h2v4z\"/>\n",
              "    </g>\n",
              "</svg>\n",
              "  </button>\n",
              "\n",
              "<style>\n",
              "  .colab-df-quickchart {\n",
              "      --bg-color: #E8F0FE;\n",
              "      --fill-color: #1967D2;\n",
              "      --hover-bg-color: #E2EBFA;\n",
              "      --hover-fill-color: #174EA6;\n",
              "      --disabled-fill-color: #AAA;\n",
              "      --disabled-bg-color: #DDD;\n",
              "  }\n",
              "\n",
              "  [theme=dark] .colab-df-quickchart {\n",
              "      --bg-color: #3B4455;\n",
              "      --fill-color: #D2E3FC;\n",
              "      --hover-bg-color: #434B5C;\n",
              "      --hover-fill-color: #FFFFFF;\n",
              "      --disabled-bg-color: #3B4455;\n",
              "      --disabled-fill-color: #666;\n",
              "  }\n",
              "\n",
              "  .colab-df-quickchart {\n",
              "    background-color: var(--bg-color);\n",
              "    border: none;\n",
              "    border-radius: 50%;\n",
              "    cursor: pointer;\n",
              "    display: none;\n",
              "    fill: var(--fill-color);\n",
              "    height: 32px;\n",
              "    padding: 0;\n",
              "    width: 32px;\n",
              "  }\n",
              "\n",
              "  .colab-df-quickchart:hover {\n",
              "    background-color: var(--hover-bg-color);\n",
              "    box-shadow: 0 1px 2px rgba(60, 64, 67, 0.3), 0 1px 3px 1px rgba(60, 64, 67, 0.15);\n",
              "    fill: var(--button-hover-fill-color);\n",
              "  }\n",
              "\n",
              "  .colab-df-quickchart-complete:disabled,\n",
              "  .colab-df-quickchart-complete:disabled:hover {\n",
              "    background-color: var(--disabled-bg-color);\n",
              "    fill: var(--disabled-fill-color);\n",
              "    box-shadow: none;\n",
              "  }\n",
              "\n",
              "  .colab-df-spinner {\n",
              "    border: 2px solid var(--fill-color);\n",
              "    border-color: transparent;\n",
              "    border-bottom-color: var(--fill-color);\n",
              "    animation:\n",
              "      spin 1s steps(1) infinite;\n",
              "  }\n",
              "\n",
              "  @keyframes spin {\n",
              "    0% {\n",
              "      border-color: transparent;\n",
              "      border-bottom-color: var(--fill-color);\n",
              "      border-left-color: var(--fill-color);\n",
              "    }\n",
              "    20% {\n",
              "      border-color: transparent;\n",
              "      border-left-color: var(--fill-color);\n",
              "      border-top-color: var(--fill-color);\n",
              "    }\n",
              "    30% {\n",
              "      border-color: transparent;\n",
              "      border-left-color: var(--fill-color);\n",
              "      border-top-color: var(--fill-color);\n",
              "      border-right-color: var(--fill-color);\n",
              "    }\n",
              "    40% {\n",
              "      border-color: transparent;\n",
              "      border-right-color: var(--fill-color);\n",
              "      border-top-color: var(--fill-color);\n",
              "    }\n",
              "    60% {\n",
              "      border-color: transparent;\n",
              "      border-right-color: var(--fill-color);\n",
              "    }\n",
              "    80% {\n",
              "      border-color: transparent;\n",
              "      border-right-color: var(--fill-color);\n",
              "      border-bottom-color: var(--fill-color);\n",
              "    }\n",
              "    90% {\n",
              "      border-color: transparent;\n",
              "      border-bottom-color: var(--fill-color);\n",
              "    }\n",
              "  }\n",
              "</style>\n",
              "\n",
              "  <script>\n",
              "    async function quickchart(key) {\n",
              "      const quickchartButtonEl =\n",
              "        document.querySelector('#' + key + ' button');\n",
              "      quickchartButtonEl.disabled = true;  // To prevent multiple clicks.\n",
              "      quickchartButtonEl.classList.add('colab-df-spinner');\n",
              "      try {\n",
              "        const charts = await google.colab.kernel.invokeFunction(\n",
              "            'suggestCharts', [key], {});\n",
              "      } catch (error) {\n",
              "        console.error('Error during call to suggestCharts:', error);\n",
              "      }\n",
              "      quickchartButtonEl.classList.remove('colab-df-spinner');\n",
              "      quickchartButtonEl.classList.add('colab-df-quickchart-complete');\n",
              "    }\n",
              "    (() => {\n",
              "      let quickchartButtonEl =\n",
              "        document.querySelector('#df-622d72e7-b699-497d-89fb-e5a9733d93c6 button');\n",
              "      quickchartButtonEl.style.display =\n",
              "        google.colab.kernel.accessAllowed ? 'block' : 'none';\n",
              "    })();\n",
              "  </script>\n",
              "</div>\n",
              "\n",
              "    </div>\n",
              "  </div>\n"
            ],
            "application/vnd.google.colaboratory.intrinsic+json": {
              "type": "dataframe",
              "variable_name": "data",
              "summary": "{\n  \"name\": \"data\",\n  \"rows\": 123,\n  \"fields\": [\n    {\n      \"column\": \"temp\",\n      \"properties\": {\n        \"dtype\": \"number\",\n        \"std\": 4.043879339111099,\n        \"min\": 298.91,\n        \"max\": 313.8,\n        \"num_unique_values\": 110,\n        \"samples\": [\n          305.81,\n          313.63,\n          313.58\n        ],\n        \"semantic_type\": \"\",\n        \"description\": \"\"\n      }\n    },\n    {\n      \"column\": \"temp_min\",\n      \"properties\": {\n        \"dtype\": \"number\",\n        \"std\": 4.043879339111099,\n        \"min\": 298.91,\n        \"max\": 313.8,\n        \"num_unique_values\": 110,\n        \"samples\": [\n          305.81,\n          313.63,\n          313.58\n        ],\n        \"semantic_type\": \"\",\n        \"description\": \"\"\n      }\n    },\n    {\n      \"column\": \"temp_max\",\n      \"properties\": {\n        \"dtype\": \"number\",\n        \"std\": 4.043879339111099,\n        \"min\": 298.91,\n        \"max\": 313.8,\n        \"num_unique_values\": 110,\n        \"samples\": [\n          305.81,\n          313.63,\n          313.58\n        ],\n        \"semantic_type\": \"\",\n        \"description\": \"\"\n      }\n    },\n    {\n      \"column\": \"pressure\",\n      \"properties\": {\n        \"dtype\": \"number\",\n        \"std\": 1,\n        \"min\": 1005,\n        \"max\": 1012,\n        \"num_unique_values\": 7,\n        \"samples\": [\n          1006,\n          1005,\n          1012\n        ],\n        \"semantic_type\": \"\",\n        \"description\": \"\"\n      }\n    },\n    {\n      \"column\": \"humidity\",\n      \"properties\": {\n        \"dtype\": \"number\",\n        \"std\": 13,\n        \"min\": 19,\n        \"max\": 61,\n        \"num_unique_values\": 23,\n        \"samples\": [\n          19,\n          34,\n          28\n        ],\n        \"semantic_type\": \"\",\n        \"description\": \"\"\n      }\n    },\n    {\n      \"column\": \"sea_level\",\n      \"properties\": {\n        \"dtype\": \"number\",\n        \"std\": 1,\n        \"min\": 1005,\n        \"max\": 1012,\n        \"num_unique_values\": 7,\n        \"samples\": [\n          1006,\n          1005,\n          1012\n        ],\n        \"semantic_type\": \"\",\n        \"description\": \"\"\n      }\n    },\n    {\n      \"column\": \"ground_level\",\n      \"properties\": {\n        \"dtype\": \"number\",\n        \"std\": 8,\n        \"min\": 971,\n        \"max\": 1007,\n        \"num_unique_values\": 28,\n        \"samples\": [\n          1004,\n          977,\n          989\n        ],\n        \"semantic_type\": \"\",\n        \"description\": \"\"\n      }\n    },\n    {\n      \"column\": \"wind_speed\",\n      \"properties\": {\n        \"dtype\": \"number\",\n        \"std\": 0.5363053644666917,\n        \"min\": 0.44,\n        \"max\": 3.33,\n        \"num_unique_values\": 84,\n        \"samples\": [\n          0.87,\n          0.64,\n          0.56\n        ],\n        \"semantic_type\": \"\",\n        \"description\": \"\"\n      }\n    },\n    {\n      \"column\": \"wind_degree\",\n      \"properties\": {\n        \"dtype\": \"number\",\n        \"std\": 83,\n        \"min\": 3,\n        \"max\": 343,\n        \"num_unique_values\": 80,\n        \"samples\": [\n          94,\n          183,\n          167\n        ],\n        \"semantic_type\": \"\",\n        \"description\": \"\"\n      }\n    },\n    {\n      \"column\": \"sunrise\",\n      \"properties\": {\n        \"dtype\": \"date\",\n        \"min\": \"2024-02-21 05:49:15\",\n        \"max\": \"2024-02-27 05:48:42\",\n        \"num_unique_values\": 109,\n        \"samples\": [\n          \"2024-02-26 05:47:34\",\n          \"2024-02-21 05:49:23\",\n          \"2024-02-21 05:49:35\"\n        ],\n        \"semantic_type\": \"\",\n        \"description\": \"\"\n      }\n    },\n    {\n      \"column\": \"sunset\",\n      \"properties\": {\n        \"dtype\": \"date\",\n        \"min\": \"2024-02-21 17:44:01\",\n        \"max\": \"2024-02-27 17:45:53\",\n        \"num_unique_values\": 111,\n        \"samples\": [\n          \"2024-02-26 17:44:51\",\n          \"2024-02-21 17:44:11\",\n          \"2024-02-21 17:44:23\"\n        ],\n        \"semantic_type\": \"\",\n        \"description\": \"\"\n      }\n    },\n    {\n      \"column\": \"cloud\",\n      \"properties\": {\n        \"dtype\": \"number\",\n        \"std\": 33,\n        \"min\": 6,\n        \"max\": 100,\n        \"num_unique_values\": 35,\n        \"samples\": [\n          8,\n          91,\n          18\n        ],\n        \"semantic_type\": \"\",\n        \"description\": \"\"\n      }\n    },\n    {\n      \"column\": \"description\",\n      \"properties\": {\n        \"dtype\": \"category\",\n        \"num_unique_values\": 3,\n        \"samples\": [\n          \"Clouds\",\n          \"Rain\",\n          \"Clear\"\n        ],\n        \"semantic_type\": \"\",\n        \"description\": \"\"\n      }\n    },\n    {\n      \"column\": \"region\",\n      \"properties\": {\n        \"dtype\": \"category\",\n        \"num_unique_values\": 1,\n        \"samples\": [\n          \"Abuja\"\n        ],\n        \"semantic_type\": \"\",\n        \"description\": \"\"\n      }\n    },\n    {\n      \"column\": \"Energy Consumption (GWh)\",\n      \"properties\": {\n        \"dtype\": \"number\",\n        \"std\": 36.96755514339596,\n        \"min\": 130.0,\n        \"max\": 317.0,\n        \"num_unique_values\": 86,\n        \"samples\": [\n          304.0\n        ],\n        \"semantic_type\": \"\",\n        \"description\": \"\"\n      }\n    },\n    {\n      \"column\": \"total_sunshine_hours\",\n      \"properties\": {\n        \"dtype\": \"number\",\n        \"std\": 0.0139124132526334,\n        \"min\": 11.910277777777777,\n        \"max\": 11.955833333333333,\n        \"num_unique_values\": 81,\n        \"samples\": [\n          11.925833333333333\n        ],\n        \"semantic_type\": \"\",\n        \"description\": \"\"\n      }\n    }\n  ]\n}"
            }
          },
          "metadata": {},
          "execution_count": 14
        }
      ]
    },
    {
      "cell_type": "code",
      "source": [
        "data = data.drop([\"sunrise\", \"sunset\", \"total_sunshine\"], axis=1)"
      ],
      "metadata": {
        "colab": {
          "base_uri": "https://localhost:8080/",
          "height": 287
        },
        "id": "ff2T6jZUtM9M",
        "outputId": "b3b67b94-e3cb-4504-e8fe-31c5993e2d69"
      },
      "execution_count": 13,
      "outputs": [
        {
          "output_type": "error",
          "ename": "KeyError",
          "evalue": "\"['total_sunshine'] not found in axis\"",
          "traceback": [
            "\u001b[0;31m---------------------------------------------------------------------------\u001b[0m",
            "\u001b[0;31mKeyError\u001b[0m                                  Traceback (most recent call last)",
            "\u001b[0;32m<ipython-input-13-9a29ae642b98>\u001b[0m in \u001b[0;36m<cell line: 1>\u001b[0;34m()\u001b[0m\n\u001b[0;32m----> 1\u001b[0;31m \u001b[0mdata\u001b[0m \u001b[0;34m=\u001b[0m \u001b[0mdata\u001b[0m\u001b[0;34m.\u001b[0m\u001b[0mdrop\u001b[0m\u001b[0;34m(\u001b[0m\u001b[0;34m[\u001b[0m\u001b[0;34m\"sunrise\"\u001b[0m\u001b[0;34m,\u001b[0m \u001b[0;34m\"sunset\"\u001b[0m\u001b[0;34m,\u001b[0m \u001b[0;34m\"total_sunshine\"\u001b[0m\u001b[0;34m]\u001b[0m\u001b[0;34m,\u001b[0m \u001b[0maxis\u001b[0m\u001b[0;34m=\u001b[0m\u001b[0;36m1\u001b[0m\u001b[0;34m)\u001b[0m\u001b[0;34m\u001b[0m\u001b[0;34m\u001b[0m\u001b[0m\n\u001b[0m",
            "\u001b[0;32m/usr/local/lib/python3.10/dist-packages/pandas/core/frame.py\u001b[0m in \u001b[0;36mdrop\u001b[0;34m(self, labels, axis, index, columns, level, inplace, errors)\u001b[0m\n\u001b[1;32m   5256\u001b[0m                 \u001b[0mweight\u001b[0m  \u001b[0;36m1.0\u001b[0m     \u001b[0;36m0.8\u001b[0m\u001b[0;34m\u001b[0m\u001b[0;34m\u001b[0m\u001b[0m\n\u001b[1;32m   5257\u001b[0m         \"\"\"\n\u001b[0;32m-> 5258\u001b[0;31m         return super().drop(\n\u001b[0m\u001b[1;32m   5259\u001b[0m             \u001b[0mlabels\u001b[0m\u001b[0;34m=\u001b[0m\u001b[0mlabels\u001b[0m\u001b[0;34m,\u001b[0m\u001b[0;34m\u001b[0m\u001b[0;34m\u001b[0m\u001b[0m\n\u001b[1;32m   5260\u001b[0m             \u001b[0maxis\u001b[0m\u001b[0;34m=\u001b[0m\u001b[0maxis\u001b[0m\u001b[0;34m,\u001b[0m\u001b[0;34m\u001b[0m\u001b[0;34m\u001b[0m\u001b[0m\n",
            "\u001b[0;32m/usr/local/lib/python3.10/dist-packages/pandas/core/generic.py\u001b[0m in \u001b[0;36mdrop\u001b[0;34m(self, labels, axis, index, columns, level, inplace, errors)\u001b[0m\n\u001b[1;32m   4547\u001b[0m         \u001b[0;32mfor\u001b[0m \u001b[0maxis\u001b[0m\u001b[0;34m,\u001b[0m \u001b[0mlabels\u001b[0m \u001b[0;32min\u001b[0m \u001b[0maxes\u001b[0m\u001b[0;34m.\u001b[0m\u001b[0mitems\u001b[0m\u001b[0;34m(\u001b[0m\u001b[0;34m)\u001b[0m\u001b[0;34m:\u001b[0m\u001b[0;34m\u001b[0m\u001b[0;34m\u001b[0m\u001b[0m\n\u001b[1;32m   4548\u001b[0m             \u001b[0;32mif\u001b[0m \u001b[0mlabels\u001b[0m \u001b[0;32mis\u001b[0m \u001b[0;32mnot\u001b[0m \u001b[0;32mNone\u001b[0m\u001b[0;34m:\u001b[0m\u001b[0;34m\u001b[0m\u001b[0;34m\u001b[0m\u001b[0m\n\u001b[0;32m-> 4549\u001b[0;31m                 \u001b[0mobj\u001b[0m \u001b[0;34m=\u001b[0m \u001b[0mobj\u001b[0m\u001b[0;34m.\u001b[0m\u001b[0m_drop_axis\u001b[0m\u001b[0;34m(\u001b[0m\u001b[0mlabels\u001b[0m\u001b[0;34m,\u001b[0m \u001b[0maxis\u001b[0m\u001b[0;34m,\u001b[0m \u001b[0mlevel\u001b[0m\u001b[0;34m=\u001b[0m\u001b[0mlevel\u001b[0m\u001b[0;34m,\u001b[0m \u001b[0merrors\u001b[0m\u001b[0;34m=\u001b[0m\u001b[0merrors\u001b[0m\u001b[0;34m)\u001b[0m\u001b[0;34m\u001b[0m\u001b[0;34m\u001b[0m\u001b[0m\n\u001b[0m\u001b[1;32m   4550\u001b[0m \u001b[0;34m\u001b[0m\u001b[0m\n\u001b[1;32m   4551\u001b[0m         \u001b[0;32mif\u001b[0m \u001b[0minplace\u001b[0m\u001b[0;34m:\u001b[0m\u001b[0;34m\u001b[0m\u001b[0;34m\u001b[0m\u001b[0m\n",
            "\u001b[0;32m/usr/local/lib/python3.10/dist-packages/pandas/core/generic.py\u001b[0m in \u001b[0;36m_drop_axis\u001b[0;34m(self, labels, axis, level, errors, only_slice)\u001b[0m\n\u001b[1;32m   4589\u001b[0m                 \u001b[0mnew_axis\u001b[0m \u001b[0;34m=\u001b[0m \u001b[0maxis\u001b[0m\u001b[0;34m.\u001b[0m\u001b[0mdrop\u001b[0m\u001b[0;34m(\u001b[0m\u001b[0mlabels\u001b[0m\u001b[0;34m,\u001b[0m \u001b[0mlevel\u001b[0m\u001b[0;34m=\u001b[0m\u001b[0mlevel\u001b[0m\u001b[0;34m,\u001b[0m \u001b[0merrors\u001b[0m\u001b[0;34m=\u001b[0m\u001b[0merrors\u001b[0m\u001b[0;34m)\u001b[0m\u001b[0;34m\u001b[0m\u001b[0;34m\u001b[0m\u001b[0m\n\u001b[1;32m   4590\u001b[0m             \u001b[0;32melse\u001b[0m\u001b[0;34m:\u001b[0m\u001b[0;34m\u001b[0m\u001b[0;34m\u001b[0m\u001b[0m\n\u001b[0;32m-> 4591\u001b[0;31m                 \u001b[0mnew_axis\u001b[0m \u001b[0;34m=\u001b[0m \u001b[0maxis\u001b[0m\u001b[0;34m.\u001b[0m\u001b[0mdrop\u001b[0m\u001b[0;34m(\u001b[0m\u001b[0mlabels\u001b[0m\u001b[0;34m,\u001b[0m \u001b[0merrors\u001b[0m\u001b[0;34m=\u001b[0m\u001b[0merrors\u001b[0m\u001b[0;34m)\u001b[0m\u001b[0;34m\u001b[0m\u001b[0;34m\u001b[0m\u001b[0m\n\u001b[0m\u001b[1;32m   4592\u001b[0m             \u001b[0mindexer\u001b[0m \u001b[0;34m=\u001b[0m \u001b[0maxis\u001b[0m\u001b[0;34m.\u001b[0m\u001b[0mget_indexer\u001b[0m\u001b[0;34m(\u001b[0m\u001b[0mnew_axis\u001b[0m\u001b[0;34m)\u001b[0m\u001b[0;34m\u001b[0m\u001b[0;34m\u001b[0m\u001b[0m\n\u001b[1;32m   4593\u001b[0m \u001b[0;34m\u001b[0m\u001b[0m\n",
            "\u001b[0;32m/usr/local/lib/python3.10/dist-packages/pandas/core/indexes/base.py\u001b[0m in \u001b[0;36mdrop\u001b[0;34m(self, labels, errors)\u001b[0m\n\u001b[1;32m   6697\u001b[0m         \u001b[0;32mif\u001b[0m \u001b[0mmask\u001b[0m\u001b[0;34m.\u001b[0m\u001b[0many\u001b[0m\u001b[0;34m(\u001b[0m\u001b[0;34m)\u001b[0m\u001b[0;34m:\u001b[0m\u001b[0;34m\u001b[0m\u001b[0;34m\u001b[0m\u001b[0m\n\u001b[1;32m   6698\u001b[0m             \u001b[0;32mif\u001b[0m \u001b[0merrors\u001b[0m \u001b[0;34m!=\u001b[0m \u001b[0;34m\"ignore\"\u001b[0m\u001b[0;34m:\u001b[0m\u001b[0;34m\u001b[0m\u001b[0;34m\u001b[0m\u001b[0m\n\u001b[0;32m-> 6699\u001b[0;31m                 \u001b[0;32mraise\u001b[0m \u001b[0mKeyError\u001b[0m\u001b[0;34m(\u001b[0m\u001b[0;34mf\"{list(labels[mask])} not found in axis\"\u001b[0m\u001b[0;34m)\u001b[0m\u001b[0;34m\u001b[0m\u001b[0;34m\u001b[0m\u001b[0m\n\u001b[0m\u001b[1;32m   6700\u001b[0m             \u001b[0mindexer\u001b[0m \u001b[0;34m=\u001b[0m \u001b[0mindexer\u001b[0m\u001b[0;34m[\u001b[0m\u001b[0;34m~\u001b[0m\u001b[0mmask\u001b[0m\u001b[0;34m]\u001b[0m\u001b[0;34m\u001b[0m\u001b[0;34m\u001b[0m\u001b[0m\n\u001b[1;32m   6701\u001b[0m         \u001b[0;32mreturn\u001b[0m \u001b[0mself\u001b[0m\u001b[0;34m.\u001b[0m\u001b[0mdelete\u001b[0m\u001b[0;34m(\u001b[0m\u001b[0mindexer\u001b[0m\u001b[0;34m)\u001b[0m\u001b[0;34m\u001b[0m\u001b[0;34m\u001b[0m\u001b[0m\n",
            "\u001b[0;31mKeyError\u001b[0m: \"['total_sunshine'] not found in axis\""
          ]
        }
      ]
    },
    {
      "cell_type": "code",
      "source": [
        "data.head()"
      ],
      "metadata": {
        "id": "t9mnHiozwpJl"
      },
      "execution_count": null,
      "outputs": []
    },
    {
      "cell_type": "code",
      "source": [
        "data.describe()"
      ],
      "metadata": {
        "id": "stinpZtLr7CD"
      },
      "execution_count": null,
      "outputs": []
    },
    {
      "cell_type": "code",
      "source": [
        "data.isnull().sum()"
      ],
      "metadata": {
        "id": "UU59LnWrwwcs"
      },
      "execution_count": null,
      "outputs": []
    },
    {
      "cell_type": "code",
      "source": [
        "data.isna().sum()"
      ],
      "metadata": {
        "id": "BR_zEEo4xFbu"
      },
      "execution_count": null,
      "outputs": []
    },
    {
      "cell_type": "code",
      "source": [
        "data.head()"
      ],
      "metadata": {
        "id": "dttStKrlxKud"
      },
      "execution_count": null,
      "outputs": []
    },
    {
      "cell_type": "markdown",
      "source": [
        "## Data Visualization"
      ],
      "metadata": {
        "id": "v7lq31ZX1WNy"
      }
    },
    {
      "source": [
        "# @title pressure\n",
        "\n",
        "from matplotlib import pyplot as plt\n",
        "data['pressure'].plot(kind='line', figsize=(8, 4), title='pressure')\n",
        "plt.grid()\n",
        "plt.gca().spines[['top', 'right']].set_visible(False)"
      ],
      "cell_type": "code",
      "execution_count": null,
      "outputs": [],
      "metadata": {
        "id": "nefmgewB7qQS"
      }
    },
    {
      "source": [
        "# @title temp_min\n",
        "\n",
        "from matplotlib import pyplot as plt\n",
        "data['temp_min'].plot(kind='line', figsize=(8, 4), title='temp_min')\n",
        "plt.grid()\n",
        "plt.gca().spines[['top', 'right']].set_visible(False)"
      ],
      "cell_type": "code",
      "execution_count": null,
      "outputs": [],
      "metadata": {
        "id": "NN-KjHAU5H0M"
      }
    },
    {
      "source": [
        "# @title description\n",
        "\n",
        "from matplotlib import pyplot as plt\n",
        "import seaborn as sns\n",
        "data.groupby('description').size().plot(kind='barh', color=sns.palettes.mpl_palette('Dark2'))\n",
        "plt.grid()\n",
        "plt.gca().spines[['top', 'right',]].set_visible(False)"
      ],
      "cell_type": "code",
      "execution_count": null,
      "outputs": [],
      "metadata": {
        "id": "P2NDVccl4XUx"
      }
    },
    {
      "source": [
        "# @title pressure\n",
        "\n",
        "from matplotlib import pyplot as plt\n",
        "data['pressure'].plot(kind='hist', bins=20, title='pressure')\n",
        "plt.gca().spines[['top', 'right',]].set_visible(False)"
      ],
      "cell_type": "code",
      "execution_count": null,
      "outputs": [],
      "metadata": {
        "id": "Murddd9U4K5Y"
      }
    },
    {
      "source": [
        "# @title temp_max\n",
        "\n",
        "from matplotlib import pyplot as plt\n",
        "data['temp_max'].plot(kind='hist', bins=20, title='temp_max')\n",
        "plt.gca().spines[['top', 'right',]].set_visible(False)"
      ],
      "cell_type": "code",
      "execution_count": null,
      "outputs": [],
      "metadata": {
        "id": "FASperoA4BsW"
      }
    },
    {
      "source": [
        "# @title temp_min\n",
        "\n",
        "from matplotlib import pyplot as plt\n",
        "data['temp_min'].plot(kind='hist', bins=20, title='temp_min')\n",
        "plt.gca().spines[['top', 'right',]].set_visible(False)"
      ],
      "cell_type": "code",
      "execution_count": null,
      "outputs": [],
      "metadata": {
        "id": "pqNi3y9d3uoG"
      }
    },
    {
      "cell_type": "code",
      "source": [
        "from matplotlib import pyplot as plt\n",
        "data['temp_max'].plot(kind='hist', bins=20, title='Energy Consumption (GWh)')\n",
        "plt.gca().spines[['top', 'right',]].set_visible(False)"
      ],
      "metadata": {
        "id": "L1Qc1n3-_Gc9"
      },
      "execution_count": null,
      "outputs": []
    },
    {
      "cell_type": "code",
      "source": [
        "# @title temp_min\n",
        "\n",
        "from matplotlib import pyplot as plt\n",
        "data['temp_min'].plot(kind='hist', bins=20, title='total_sunshine_hours')\n",
        "plt.gca().spines[['top', 'right',]].set_visible(False)"
      ],
      "metadata": {
        "id": "PHj994yZAFKb"
      },
      "execution_count": null,
      "outputs": []
    },
    {
      "cell_type": "markdown",
      "source": [
        "# Data Manipulation"
      ],
      "metadata": {
        "id": "yFoDInb8AosV"
      }
    },
    {
      "cell_type": "code",
      "source": [
        " data.head()"
      ],
      "metadata": {
        "id": "toUPTFa7BX3a"
      },
      "execution_count": null,
      "outputs": []
    },
    {
      "cell_type": "code",
      "source": [
        "data_encoded = pd.get_dummies(data[\"description\"])"
      ],
      "metadata": {
        "id": "K75-nJtpGxUc"
      },
      "execution_count": null,
      "outputs": []
    },
    {
      "cell_type": "code",
      "source": [
        "# Convert to DataFrame\n",
        "data_encoded = pd.DataFrame(data_encoded, columns=ct.get_feature_names_out())"
      ],
      "metadata": {
        "id": "h7aOpGhQH-Mx"
      },
      "execution_count": null,
      "outputs": []
    },
    {
      "cell_type": "code",
      "source": [
        "data_encoded.head()"
      ],
      "metadata": {
        "id": "QyKlnfV_JdeQ"
      },
      "execution_count": null,
      "outputs": []
    },
    {
      "cell_type": "code",
      "source": [
        "# Normalize numerical features\n",
        "scaler = StandardScaler()\n",
        "numerical_cols = [\"temp\", \"temp_min\", \"temp_max\", \"pressure\", \"humidity\", \"sea_level\",\n",
        "                  \"ground_level\", \"wind_speed\", \"wind_degree\"]\n",
        "data_encoded[numerical_cols] = scaler.fit_transform(data_encoded[numerical_cols])\n"
      ],
      "metadata": {
        "id": "z9QOPz_BFtpu"
      },
      "execution_count": null,
      "outputs": []
    }
  ]
}
>>>>>>> cc912e29c36f9730b414690a77fbc790df4a2661
