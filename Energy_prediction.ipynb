{
 "cells": [
  {
   "cell_type": "markdown",
   "metadata": {
    "id": "HnpJe1wamJz1"
   },
   "source": [
    "## Import Basic Libraries"
   ]
  },
  {
   "cell_type": "code",
   "execution_count": 1,
   "metadata": {
    "id": "1C7ZY9Y0lJ0a"
   },
   "outputs": [],
   "source": [
    "import pandas as pd"
   ]
  },
  {
   "cell_type": "code",
   "execution_count": 2,
   "metadata": {
    "id": "T5B59TdTlVdX"
   },
   "outputs": [],
   "source": [
    "import tensorflow as tf\n",
    "from tensorflow import keras"
   ]
  },
  {
   "cell_type": "code",
   "execution_count": 3,
   "metadata": {
    "id": "4ypQ-tM9lRZG"
   },
   "outputs": [],
   "source": [
    "from sklearn.preprocessing import StandardScaler\n",
    "from sklearn.preprocessing import OneHotEncoder\n",
    "from sklearn.compose import ColumnTransformer\n",
    "from keras.models import Sequential\n",
    "from keras.layers import Dense"
   ]
  },
  {
   "cell_type": "code",
   "execution_count": 4,
   "metadata": {
    "id": "FPFph4WryRIZ"
   },
   "outputs": [],
   "source": [
    "from tensorflow.keras.models import Sequential"
   ]
  },
  {
   "cell_type": "code",
   "execution_count": 5,
   "metadata": {
    "id": "0znHaTgAyl6q"
   },
   "outputs": [],
   "source": [
    "from tensorflow.keras.layers import Activation, Dense, BatchNormalization, Dropout"
   ]
  },
  {
   "cell_type": "code",
   "execution_count": 6,
   "metadata": {
    "id": "sTHuI2a18HOX"
   },
   "outputs": [],
   "source": [
    "import matplotlib.pyplot as plt\n",
    "import seaborn as sns"
   ]
  },
  {
   "cell_type": "code",
   "execution_count": 7,
   "metadata": {
    "id": "UlXWpnKMHeT2"
   },
   "outputs": [],
   "source": [
    "from sklearn.model_selection import train_test_split\n",
    "from sklearn.preprocessing import StandardScaler\n",
    "from sklearn.preprocessing import OneHotEncoder\n",
    "from sklearn.compose import ColumnTransformer"
   ]
  },
  {
   "cell_type": "code",
   "execution_count": 8,
   "metadata": {
    "id": "jJoV5lgEpGMu"
   },
   "outputs": [],
   "source": [
    "data = pd.read_excel(\"abuja-weather-data.xlsx\")"
   ]
  },
  {
   "cell_type": "code",
   "execution_count": 9,
   "metadata": {
    "colab": {
     "base_uri": "https://localhost:8080/",
     "height": 348
    },
    "id": "XGqX7vkHpPJT",
    "outputId": "2ebb3187-b68b-47bb-8137-c53ca5193256"
   },
   "outputs": [
    {
     "data": {
      "text/html": [
       "<div>\n",
       "<style scoped>\n",
       "    .dataframe tbody tr th:only-of-type {\n",
       "        vertical-align: middle;\n",
       "    }\n",
       "\n",
       "    .dataframe tbody tr th {\n",
       "        vertical-align: top;\n",
       "    }\n",
       "\n",
       "    .dataframe thead th {\n",
       "        text-align: right;\n",
       "    }\n",
       "</style>\n",
       "<table border=\"1\" class=\"dataframe\">\n",
       "  <thead>\n",
       "    <tr style=\"text-align: right;\">\n",
       "      <th></th>\n",
       "      <th>temp</th>\n",
       "      <th>temp_min</th>\n",
       "      <th>temp_max</th>\n",
       "      <th>pressure</th>\n",
       "      <th>humidity</th>\n",
       "      <th>sea_level</th>\n",
       "      <th>ground_level</th>\n",
       "      <th>wind_speed</th>\n",
       "      <th>wind_degree</th>\n",
       "      <th>sunrise</th>\n",
       "      <th>sunset</th>\n",
       "      <th>cloud</th>\n",
       "      <th>description</th>\n",
       "      <th>region</th>\n",
       "      <th>Energy Consumption (GWh)</th>\n",
       "    </tr>\n",
       "  </thead>\n",
       "  <tbody>\n",
       "    <tr>\n",
       "      <th>0</th>\n",
       "      <td>313.34</td>\n",
       "      <td>313.34</td>\n",
       "      <td>313.34</td>\n",
       "      <td>1006</td>\n",
       "      <td>28</td>\n",
       "      <td>1006</td>\n",
       "      <td>985</td>\n",
       "      <td>0.64</td>\n",
       "      <td>183</td>\n",
       "      <td>2024-02-21 05:50:33</td>\n",
       "      <td>2024-02-21 17:45:20</td>\n",
       "      <td>41</td>\n",
       "      <td>Clouds</td>\n",
       "      <td>Abuja</td>\n",
       "      <td>246.0</td>\n",
       "    </tr>\n",
       "    <tr>\n",
       "      <th>1</th>\n",
       "      <td>313.60</td>\n",
       "      <td>313.60</td>\n",
       "      <td>313.60</td>\n",
       "      <td>1006</td>\n",
       "      <td>30</td>\n",
       "      <td>1006</td>\n",
       "      <td>1001</td>\n",
       "      <td>1.35</td>\n",
       "      <td>213</td>\n",
       "      <td>2024-02-21 05:49:15</td>\n",
       "      <td>2024-02-21 17:44:09</td>\n",
       "      <td>31</td>\n",
       "      <td>Clouds</td>\n",
       "      <td>Abuja</td>\n",
       "      <td>250.0</td>\n",
       "    </tr>\n",
       "    <tr>\n",
       "      <th>2</th>\n",
       "      <td>313.61</td>\n",
       "      <td>313.61</td>\n",
       "      <td>313.61</td>\n",
       "      <td>1005</td>\n",
       "      <td>29</td>\n",
       "      <td>1005</td>\n",
       "      <td>998</td>\n",
       "      <td>1.37</td>\n",
       "      <td>214</td>\n",
       "      <td>2024-02-21 05:49:29</td>\n",
       "      <td>2024-02-21 17:44:14</td>\n",
       "      <td>34</td>\n",
       "      <td>Clouds</td>\n",
       "      <td>Abuja</td>\n",
       "      <td>244.0</td>\n",
       "    </tr>\n",
       "    <tr>\n",
       "      <th>3</th>\n",
       "      <td>312.30</td>\n",
       "      <td>312.30</td>\n",
       "      <td>312.30</td>\n",
       "      <td>1006</td>\n",
       "      <td>28</td>\n",
       "      <td>1006</td>\n",
       "      <td>971</td>\n",
       "      <td>0.67</td>\n",
       "      <td>197</td>\n",
       "      <td>2024-02-21 05:50:07</td>\n",
       "      <td>2024-02-21 17:44:44</td>\n",
       "      <td>36</td>\n",
       "      <td>Clouds</td>\n",
       "      <td>Abuja</td>\n",
       "      <td>236.0</td>\n",
       "    </tr>\n",
       "    <tr>\n",
       "      <th>4</th>\n",
       "      <td>313.58</td>\n",
       "      <td>313.58</td>\n",
       "      <td>313.58</td>\n",
       "      <td>1006</td>\n",
       "      <td>29</td>\n",
       "      <td>1006</td>\n",
       "      <td>997</td>\n",
       "      <td>1.28</td>\n",
       "      <td>211</td>\n",
       "      <td>2024-02-21 05:49:35</td>\n",
       "      <td>2024-02-21 17:44:23</td>\n",
       "      <td>33</td>\n",
       "      <td>Clouds</td>\n",
       "      <td>Abuja</td>\n",
       "      <td>212.0</td>\n",
       "    </tr>\n",
       "  </tbody>\n",
       "</table>\n",
       "</div>"
      ],
      "text/plain": [
       "     temp  temp_min  temp_max  pressure  humidity  sea_level  ground_level  \\\n",
       "0  313.34    313.34    313.34      1006        28       1006           985   \n",
       "1  313.60    313.60    313.60      1006        30       1006          1001   \n",
       "2  313.61    313.61    313.61      1005        29       1005           998   \n",
       "3  312.30    312.30    312.30      1006        28       1006           971   \n",
       "4  313.58    313.58    313.58      1006        29       1006           997   \n",
       "\n",
       "   wind_speed  wind_degree             sunrise              sunset  cloud  \\\n",
       "0        0.64          183 2024-02-21 05:50:33 2024-02-21 17:45:20     41   \n",
       "1        1.35          213 2024-02-21 05:49:15 2024-02-21 17:44:09     31   \n",
       "2        1.37          214 2024-02-21 05:49:29 2024-02-21 17:44:14     34   \n",
       "3        0.67          197 2024-02-21 05:50:07 2024-02-21 17:44:44     36   \n",
       "4        1.28          211 2024-02-21 05:49:35 2024-02-21 17:44:23     33   \n",
       "\n",
       "  description region  Energy Consumption (GWh)  \n",
       "0      Clouds  Abuja                     246.0  \n",
       "1      Clouds  Abuja                     250.0  \n",
       "2      Clouds  Abuja                     244.0  \n",
       "3      Clouds  Abuja                     236.0  \n",
       "4      Clouds  Abuja                     212.0  "
      ]
     },
     "execution_count": 9,
     "metadata": {},
     "output_type": "execute_result"
    }
   ],
   "source": [
    "data.head()"
   ]
  },
  {
   "cell_type": "markdown",
   "metadata": {
    "id": "xSFsXAu8mVG8"
   },
   "source": [
    "# Data Preprocessing"
   ]
  },
  {
   "cell_type": "code",
   "execution_count": 10,
   "metadata": {
    "colab": {
     "base_uri": "https://localhost:8080/"
    },
    "id": "STkr_C8jpqoJ",
    "outputId": "917505e9-d73d-40d5-ad3c-df446fb1f0f8"
   },
   "outputs": [
    {
     "name": "stdout",
     "output_type": "stream",
     "text": [
      "<class 'pandas.core.frame.DataFrame'>\n",
      "RangeIndex: 123 entries, 0 to 122\n",
      "Data columns (total 15 columns):\n",
      " #   Column                    Non-Null Count  Dtype         \n",
      "---  ------                    --------------  -----         \n",
      " 0   temp                      123 non-null    float64       \n",
      " 1   temp_min                  123 non-null    float64       \n",
      " 2   temp_max                  123 non-null    float64       \n",
      " 3   pressure                  123 non-null    int64         \n",
      " 4   humidity                  123 non-null    int64         \n",
      " 5   sea_level                 123 non-null    int64         \n",
      " 6   ground_level              123 non-null    int64         \n",
      " 7   wind_speed                123 non-null    float64       \n",
      " 8   wind_degree               123 non-null    int64         \n",
      " 9   sunrise                   123 non-null    datetime64[ns]\n",
      " 10  sunset                    123 non-null    datetime64[ns]\n",
      " 11  cloud                     123 non-null    int64         \n",
      " 12  description               123 non-null    object        \n",
      " 13  region                    123 non-null    object        \n",
      " 14  Energy Consumption (GWh)  123 non-null    float64       \n",
      "dtypes: datetime64[ns](2), float64(5), int64(6), object(2)\n",
      "memory usage: 14.5+ KB\n"
     ]
    }
   ],
   "source": [
    "data.info()"
   ]
  },
  {
   "cell_type": "code",
   "execution_count": 11,
   "metadata": {
    "id": "fErEpUhDsWFs"
   },
   "outputs": [],
   "source": [
    "data['total_sunshine_hours'] = (data['sunset'] - data['sunrise']).dt.total_seconds() / 3600\n"
   ]
  },
  {
   "cell_type": "code",
   "execution_count": 12,
   "metadata": {
    "colab": {
     "base_uri": "https://localhost:8080/",
     "height": 348
    },
    "id": "gsyS3IPJMyms",
    "outputId": "07872277-2cb7-4f11-f94d-2044b847a852"
   },
   "outputs": [
    {
     "data": {
      "text/html": [
       "<div>\n",
       "<style scoped>\n",
       "    .dataframe tbody tr th:only-of-type {\n",
       "        vertical-align: middle;\n",
       "    }\n",
       "\n",
       "    .dataframe tbody tr th {\n",
       "        vertical-align: top;\n",
       "    }\n",
       "\n",
       "    .dataframe thead th {\n",
       "        text-align: right;\n",
       "    }\n",
       "</style>\n",
       "<table border=\"1\" class=\"dataframe\">\n",
       "  <thead>\n",
       "    <tr style=\"text-align: right;\">\n",
       "      <th></th>\n",
       "      <th>temp</th>\n",
       "      <th>temp_min</th>\n",
       "      <th>temp_max</th>\n",
       "      <th>pressure</th>\n",
       "      <th>humidity</th>\n",
       "      <th>sea_level</th>\n",
       "      <th>ground_level</th>\n",
       "      <th>wind_speed</th>\n",
       "      <th>wind_degree</th>\n",
       "      <th>sunrise</th>\n",
       "      <th>sunset</th>\n",
       "      <th>cloud</th>\n",
       "      <th>description</th>\n",
       "      <th>region</th>\n",
       "      <th>Energy Consumption (GWh)</th>\n",
       "      <th>total_sunshine_hours</th>\n",
       "    </tr>\n",
       "  </thead>\n",
       "  <tbody>\n",
       "    <tr>\n",
       "      <th>0</th>\n",
       "      <td>313.34</td>\n",
       "      <td>313.34</td>\n",
       "      <td>313.34</td>\n",
       "      <td>1006</td>\n",
       "      <td>28</td>\n",
       "      <td>1006</td>\n",
       "      <td>985</td>\n",
       "      <td>0.64</td>\n",
       "      <td>183</td>\n",
       "      <td>2024-02-21 05:50:33</td>\n",
       "      <td>2024-02-21 17:45:20</td>\n",
       "      <td>41</td>\n",
       "      <td>Clouds</td>\n",
       "      <td>Abuja</td>\n",
       "      <td>246.0</td>\n",
       "      <td>11.913056</td>\n",
       "    </tr>\n",
       "    <tr>\n",
       "      <th>1</th>\n",
       "      <td>313.60</td>\n",
       "      <td>313.60</td>\n",
       "      <td>313.60</td>\n",
       "      <td>1006</td>\n",
       "      <td>30</td>\n",
       "      <td>1006</td>\n",
       "      <td>1001</td>\n",
       "      <td>1.35</td>\n",
       "      <td>213</td>\n",
       "      <td>2024-02-21 05:49:15</td>\n",
       "      <td>2024-02-21 17:44:09</td>\n",
       "      <td>31</td>\n",
       "      <td>Clouds</td>\n",
       "      <td>Abuja</td>\n",
       "      <td>250.0</td>\n",
       "      <td>11.915000</td>\n",
       "    </tr>\n",
       "    <tr>\n",
       "      <th>2</th>\n",
       "      <td>313.61</td>\n",
       "      <td>313.61</td>\n",
       "      <td>313.61</td>\n",
       "      <td>1005</td>\n",
       "      <td>29</td>\n",
       "      <td>1005</td>\n",
       "      <td>998</td>\n",
       "      <td>1.37</td>\n",
       "      <td>214</td>\n",
       "      <td>2024-02-21 05:49:29</td>\n",
       "      <td>2024-02-21 17:44:14</td>\n",
       "      <td>34</td>\n",
       "      <td>Clouds</td>\n",
       "      <td>Abuja</td>\n",
       "      <td>244.0</td>\n",
       "      <td>11.912500</td>\n",
       "    </tr>\n",
       "    <tr>\n",
       "      <th>3</th>\n",
       "      <td>312.30</td>\n",
       "      <td>312.30</td>\n",
       "      <td>312.30</td>\n",
       "      <td>1006</td>\n",
       "      <td>28</td>\n",
       "      <td>1006</td>\n",
       "      <td>971</td>\n",
       "      <td>0.67</td>\n",
       "      <td>197</td>\n",
       "      <td>2024-02-21 05:50:07</td>\n",
       "      <td>2024-02-21 17:44:44</td>\n",
       "      <td>36</td>\n",
       "      <td>Clouds</td>\n",
       "      <td>Abuja</td>\n",
       "      <td>236.0</td>\n",
       "      <td>11.910278</td>\n",
       "    </tr>\n",
       "    <tr>\n",
       "      <th>4</th>\n",
       "      <td>313.58</td>\n",
       "      <td>313.58</td>\n",
       "      <td>313.58</td>\n",
       "      <td>1006</td>\n",
       "      <td>29</td>\n",
       "      <td>1006</td>\n",
       "      <td>997</td>\n",
       "      <td>1.28</td>\n",
       "      <td>211</td>\n",
       "      <td>2024-02-21 05:49:35</td>\n",
       "      <td>2024-02-21 17:44:23</td>\n",
       "      <td>33</td>\n",
       "      <td>Clouds</td>\n",
       "      <td>Abuja</td>\n",
       "      <td>212.0</td>\n",
       "      <td>11.913333</td>\n",
       "    </tr>\n",
       "  </tbody>\n",
       "</table>\n",
       "</div>"
      ],
      "text/plain": [
       "     temp  temp_min  temp_max  pressure  humidity  sea_level  ground_level  \\\n",
       "0  313.34    313.34    313.34      1006        28       1006           985   \n",
       "1  313.60    313.60    313.60      1006        30       1006          1001   \n",
       "2  313.61    313.61    313.61      1005        29       1005           998   \n",
       "3  312.30    312.30    312.30      1006        28       1006           971   \n",
       "4  313.58    313.58    313.58      1006        29       1006           997   \n",
       "\n",
       "   wind_speed  wind_degree             sunrise              sunset  cloud  \\\n",
       "0        0.64          183 2024-02-21 05:50:33 2024-02-21 17:45:20     41   \n",
       "1        1.35          213 2024-02-21 05:49:15 2024-02-21 17:44:09     31   \n",
       "2        1.37          214 2024-02-21 05:49:29 2024-02-21 17:44:14     34   \n",
       "3        0.67          197 2024-02-21 05:50:07 2024-02-21 17:44:44     36   \n",
       "4        1.28          211 2024-02-21 05:49:35 2024-02-21 17:44:23     33   \n",
       "\n",
       "  description region  Energy Consumption (GWh)  total_sunshine_hours  \n",
       "0      Clouds  Abuja                     246.0             11.913056  \n",
       "1      Clouds  Abuja                     250.0             11.915000  \n",
       "2      Clouds  Abuja                     244.0             11.912500  \n",
       "3      Clouds  Abuja                     236.0             11.910278  \n",
       "4      Clouds  Abuja                     212.0             11.913333  "
      ]
     },
     "execution_count": 12,
     "metadata": {},
     "output_type": "execute_result"
    }
   ],
   "source": [
    "data.head()"
   ]
  },
  {
   "cell_type": "code",
   "execution_count": 13,
   "metadata": {
    "colab": {
     "base_uri": "https://localhost:8080/",
     "height": 287
    },
    "id": "ff2T6jZUtM9M",
    "outputId": "b3b67b94-e3cb-4504-e8fe-31c5993e2d69"
   },
   "outputs": [],
   "source": [
    "data = data.drop([\"sunrise\", \"sunset\", \"temp\", \"region\"], axis=1)"
   ]
  },
  {
   "cell_type": "code",
   "execution_count": 14,
   "metadata": {
    "id": "t9mnHiozwpJl"
   },
   "outputs": [
    {
     "data": {
      "text/html": [
       "<div>\n",
       "<style scoped>\n",
       "    .dataframe tbody tr th:only-of-type {\n",
       "        vertical-align: middle;\n",
       "    }\n",
       "\n",
       "    .dataframe tbody tr th {\n",
       "        vertical-align: top;\n",
       "    }\n",
       "\n",
       "    .dataframe thead th {\n",
       "        text-align: right;\n",
       "    }\n",
       "</style>\n",
       "<table border=\"1\" class=\"dataframe\">\n",
       "  <thead>\n",
       "    <tr style=\"text-align: right;\">\n",
       "      <th></th>\n",
       "      <th>temp_min</th>\n",
       "      <th>temp_max</th>\n",
       "      <th>pressure</th>\n",
       "      <th>humidity</th>\n",
       "      <th>sea_level</th>\n",
       "      <th>ground_level</th>\n",
       "      <th>wind_speed</th>\n",
       "      <th>wind_degree</th>\n",
       "      <th>cloud</th>\n",
       "      <th>description</th>\n",
       "      <th>Energy Consumption (GWh)</th>\n",
       "      <th>total_sunshine_hours</th>\n",
       "    </tr>\n",
       "  </thead>\n",
       "  <tbody>\n",
       "    <tr>\n",
       "      <th>0</th>\n",
       "      <td>313.34</td>\n",
       "      <td>313.34</td>\n",
       "      <td>1006</td>\n",
       "      <td>28</td>\n",
       "      <td>1006</td>\n",
       "      <td>985</td>\n",
       "      <td>0.64</td>\n",
       "      <td>183</td>\n",
       "      <td>41</td>\n",
       "      <td>Clouds</td>\n",
       "      <td>246.0</td>\n",
       "      <td>11.913056</td>\n",
       "    </tr>\n",
       "    <tr>\n",
       "      <th>1</th>\n",
       "      <td>313.60</td>\n",
       "      <td>313.60</td>\n",
       "      <td>1006</td>\n",
       "      <td>30</td>\n",
       "      <td>1006</td>\n",
       "      <td>1001</td>\n",
       "      <td>1.35</td>\n",
       "      <td>213</td>\n",
       "      <td>31</td>\n",
       "      <td>Clouds</td>\n",
       "      <td>250.0</td>\n",
       "      <td>11.915000</td>\n",
       "    </tr>\n",
       "    <tr>\n",
       "      <th>2</th>\n",
       "      <td>313.61</td>\n",
       "      <td>313.61</td>\n",
       "      <td>1005</td>\n",
       "      <td>29</td>\n",
       "      <td>1005</td>\n",
       "      <td>998</td>\n",
       "      <td>1.37</td>\n",
       "      <td>214</td>\n",
       "      <td>34</td>\n",
       "      <td>Clouds</td>\n",
       "      <td>244.0</td>\n",
       "      <td>11.912500</td>\n",
       "    </tr>\n",
       "    <tr>\n",
       "      <th>3</th>\n",
       "      <td>312.30</td>\n",
       "      <td>312.30</td>\n",
       "      <td>1006</td>\n",
       "      <td>28</td>\n",
       "      <td>1006</td>\n",
       "      <td>971</td>\n",
       "      <td>0.67</td>\n",
       "      <td>197</td>\n",
       "      <td>36</td>\n",
       "      <td>Clouds</td>\n",
       "      <td>236.0</td>\n",
       "      <td>11.910278</td>\n",
       "    </tr>\n",
       "    <tr>\n",
       "      <th>4</th>\n",
       "      <td>313.58</td>\n",
       "      <td>313.58</td>\n",
       "      <td>1006</td>\n",
       "      <td>29</td>\n",
       "      <td>1006</td>\n",
       "      <td>997</td>\n",
       "      <td>1.28</td>\n",
       "      <td>211</td>\n",
       "      <td>33</td>\n",
       "      <td>Clouds</td>\n",
       "      <td>212.0</td>\n",
       "      <td>11.913333</td>\n",
       "    </tr>\n",
       "  </tbody>\n",
       "</table>\n",
       "</div>"
      ],
      "text/plain": [
       "   temp_min  temp_max  pressure  humidity  sea_level  ground_level  \\\n",
       "0    313.34    313.34      1006        28       1006           985   \n",
       "1    313.60    313.60      1006        30       1006          1001   \n",
       "2    313.61    313.61      1005        29       1005           998   \n",
       "3    312.30    312.30      1006        28       1006           971   \n",
       "4    313.58    313.58      1006        29       1006           997   \n",
       "\n",
       "   wind_speed  wind_degree  cloud description  Energy Consumption (GWh)  \\\n",
       "0        0.64          183     41      Clouds                     246.0   \n",
       "1        1.35          213     31      Clouds                     250.0   \n",
       "2        1.37          214     34      Clouds                     244.0   \n",
       "3        0.67          197     36      Clouds                     236.0   \n",
       "4        1.28          211     33      Clouds                     212.0   \n",
       "\n",
       "   total_sunshine_hours  \n",
       "0             11.913056  \n",
       "1             11.915000  \n",
       "2             11.912500  \n",
       "3             11.910278  \n",
       "4             11.913333  "
      ]
     },
     "execution_count": 14,
     "metadata": {},
     "output_type": "execute_result"
    }
   ],
   "source": [
    "data.head()"
   ]
  },
  {
   "cell_type": "code",
   "execution_count": 15,
   "metadata": {
    "id": "stinpZtLr7CD"
   },
   "outputs": [
    {
     "data": {
      "text/html": [
       "<div>\n",
       "<style scoped>\n",
       "    .dataframe tbody tr th:only-of-type {\n",
       "        vertical-align: middle;\n",
       "    }\n",
       "\n",
       "    .dataframe tbody tr th {\n",
       "        vertical-align: top;\n",
       "    }\n",
       "\n",
       "    .dataframe thead th {\n",
       "        text-align: right;\n",
       "    }\n",
       "</style>\n",
       "<table border=\"1\" class=\"dataframe\">\n",
       "  <thead>\n",
       "    <tr style=\"text-align: right;\">\n",
       "      <th></th>\n",
       "      <th>temp_min</th>\n",
       "      <th>temp_max</th>\n",
       "      <th>pressure</th>\n",
       "      <th>humidity</th>\n",
       "      <th>sea_level</th>\n",
       "      <th>ground_level</th>\n",
       "      <th>wind_speed</th>\n",
       "      <th>wind_degree</th>\n",
       "      <th>cloud</th>\n",
       "      <th>Energy Consumption (GWh)</th>\n",
       "      <th>total_sunshine_hours</th>\n",
       "    </tr>\n",
       "  </thead>\n",
       "  <tbody>\n",
       "    <tr>\n",
       "      <th>count</th>\n",
       "      <td>123.000000</td>\n",
       "      <td>123.000000</td>\n",
       "      <td>123.000000</td>\n",
       "      <td>123.000000</td>\n",
       "      <td>123.000000</td>\n",
       "      <td>123.000000</td>\n",
       "      <td>123.000000</td>\n",
       "      <td>123.000000</td>\n",
       "      <td>123.000000</td>\n",
       "      <td>123.000000</td>\n",
       "      <td>123.000000</td>\n",
       "    </tr>\n",
       "    <tr>\n",
       "      <th>mean</th>\n",
       "      <td>305.116667</td>\n",
       "      <td>305.116667</td>\n",
       "      <td>1009.495935</td>\n",
       "      <td>38.308943</td>\n",
       "      <td>1009.495935</td>\n",
       "      <td>998.634146</td>\n",
       "      <td>1.369431</td>\n",
       "      <td>180.699187</td>\n",
       "      <td>75.406504</td>\n",
       "      <td>227.677236</td>\n",
       "      <td>11.933284</td>\n",
       "    </tr>\n",
       "    <tr>\n",
       "      <th>std</th>\n",
       "      <td>4.043879</td>\n",
       "      <td>4.043879</td>\n",
       "      <td>1.947567</td>\n",
       "      <td>13.336828</td>\n",
       "      <td>1.947567</td>\n",
       "      <td>8.848699</td>\n",
       "      <td>0.536305</td>\n",
       "      <td>83.564242</td>\n",
       "      <td>33.328430</td>\n",
       "      <td>36.967555</td>\n",
       "      <td>0.013912</td>\n",
       "    </tr>\n",
       "    <tr>\n",
       "      <th>min</th>\n",
       "      <td>298.910000</td>\n",
       "      <td>298.910000</td>\n",
       "      <td>1005.000000</td>\n",
       "      <td>19.000000</td>\n",
       "      <td>1005.000000</td>\n",
       "      <td>971.000000</td>\n",
       "      <td>0.440000</td>\n",
       "      <td>3.000000</td>\n",
       "      <td>6.000000</td>\n",
       "      <td>130.000000</td>\n",
       "      <td>11.910278</td>\n",
       "    </tr>\n",
       "    <tr>\n",
       "      <th>25%</th>\n",
       "      <td>302.345000</td>\n",
       "      <td>302.345000</td>\n",
       "      <td>1008.000000</td>\n",
       "      <td>30.000000</td>\n",
       "      <td>1008.000000</td>\n",
       "      <td>993.500000</td>\n",
       "      <td>1.025000</td>\n",
       "      <td>140.500000</td>\n",
       "      <td>38.500000</td>\n",
       "      <td>209.000000</td>\n",
       "      <td>11.921111</td>\n",
       "    </tr>\n",
       "    <tr>\n",
       "      <th>50%</th>\n",
       "      <td>304.820000</td>\n",
       "      <td>304.820000</td>\n",
       "      <td>1010.000000</td>\n",
       "      <td>32.000000</td>\n",
       "      <td>1010.000000</td>\n",
       "      <td>1002.000000</td>\n",
       "      <td>1.250000</td>\n",
       "      <td>191.000000</td>\n",
       "      <td>94.000000</td>\n",
       "      <td>229.000000</td>\n",
       "      <td>11.932500</td>\n",
       "    </tr>\n",
       "    <tr>\n",
       "      <th>75%</th>\n",
       "      <td>305.980000</td>\n",
       "      <td>305.980000</td>\n",
       "      <td>1011.000000</td>\n",
       "      <td>54.500000</td>\n",
       "      <td>1011.000000</td>\n",
       "      <td>1005.000000</td>\n",
       "      <td>1.765000</td>\n",
       "      <td>211.000000</td>\n",
       "      <td>99.500000</td>\n",
       "      <td>251.000000</td>\n",
       "      <td>11.946250</td>\n",
       "    </tr>\n",
       "    <tr>\n",
       "      <th>max</th>\n",
       "      <td>313.800000</td>\n",
       "      <td>313.800000</td>\n",
       "      <td>1012.000000</td>\n",
       "      <td>61.000000</td>\n",
       "      <td>1012.000000</td>\n",
       "      <td>1007.000000</td>\n",
       "      <td>3.330000</td>\n",
       "      <td>343.000000</td>\n",
       "      <td>100.000000</td>\n",
       "      <td>317.000000</td>\n",
       "      <td>11.955833</td>\n",
       "    </tr>\n",
       "  </tbody>\n",
       "</table>\n",
       "</div>"
      ],
      "text/plain": [
       "         temp_min    temp_max     pressure    humidity    sea_level  \\\n",
       "count  123.000000  123.000000   123.000000  123.000000   123.000000   \n",
       "mean   305.116667  305.116667  1009.495935   38.308943  1009.495935   \n",
       "std      4.043879    4.043879     1.947567   13.336828     1.947567   \n",
       "min    298.910000  298.910000  1005.000000   19.000000  1005.000000   \n",
       "25%    302.345000  302.345000  1008.000000   30.000000  1008.000000   \n",
       "50%    304.820000  304.820000  1010.000000   32.000000  1010.000000   \n",
       "75%    305.980000  305.980000  1011.000000   54.500000  1011.000000   \n",
       "max    313.800000  313.800000  1012.000000   61.000000  1012.000000   \n",
       "\n",
       "       ground_level  wind_speed  wind_degree       cloud  \\\n",
       "count    123.000000  123.000000   123.000000  123.000000   \n",
       "mean     998.634146    1.369431   180.699187   75.406504   \n",
       "std        8.848699    0.536305    83.564242   33.328430   \n",
       "min      971.000000    0.440000     3.000000    6.000000   \n",
       "25%      993.500000    1.025000   140.500000   38.500000   \n",
       "50%     1002.000000    1.250000   191.000000   94.000000   \n",
       "75%     1005.000000    1.765000   211.000000   99.500000   \n",
       "max     1007.000000    3.330000   343.000000  100.000000   \n",
       "\n",
       "       Energy Consumption (GWh)  total_sunshine_hours  \n",
       "count                123.000000            123.000000  \n",
       "mean                 227.677236             11.933284  \n",
       "std                   36.967555              0.013912  \n",
       "min                  130.000000             11.910278  \n",
       "25%                  209.000000             11.921111  \n",
       "50%                  229.000000             11.932500  \n",
       "75%                  251.000000             11.946250  \n",
       "max                  317.000000             11.955833  "
      ]
     },
     "execution_count": 15,
     "metadata": {},
     "output_type": "execute_result"
    }
   ],
   "source": [
    "data.describe()"
   ]
  },
  {
   "cell_type": "code",
   "execution_count": 16,
   "metadata": {
    "id": "UU59LnWrwwcs"
   },
   "outputs": [
    {
     "data": {
      "text/plain": [
       "temp_min                    0\n",
       "temp_max                    0\n",
       "pressure                    0\n",
       "humidity                    0\n",
       "sea_level                   0\n",
       "ground_level                0\n",
       "wind_speed                  0\n",
       "wind_degree                 0\n",
       "cloud                       0\n",
       "description                 0\n",
       "Energy Consumption (GWh)    0\n",
       "total_sunshine_hours        0\n",
       "dtype: int64"
      ]
     },
     "execution_count": 16,
     "metadata": {},
     "output_type": "execute_result"
    }
   ],
   "source": [
    "data.isnull().sum()"
   ]
  },
  {
   "cell_type": "code",
   "execution_count": 17,
   "metadata": {
    "id": "BR_zEEo4xFbu"
   },
   "outputs": [
    {
     "data": {
      "text/plain": [
       "temp_min                    0\n",
       "temp_max                    0\n",
       "pressure                    0\n",
       "humidity                    0\n",
       "sea_level                   0\n",
       "ground_level                0\n",
       "wind_speed                  0\n",
       "wind_degree                 0\n",
       "cloud                       0\n",
       "description                 0\n",
       "Energy Consumption (GWh)    0\n",
       "total_sunshine_hours        0\n",
       "dtype: int64"
      ]
     },
     "execution_count": 17,
     "metadata": {},
     "output_type": "execute_result"
    }
   ],
   "source": [
    "data.isna().sum()"
   ]
  },
  {
   "cell_type": "code",
   "execution_count": 18,
   "metadata": {
    "id": "dttStKrlxKud"
   },
   "outputs": [
    {
     "data": {
      "text/html": [
       "<div>\n",
       "<style scoped>\n",
       "    .dataframe tbody tr th:only-of-type {\n",
       "        vertical-align: middle;\n",
       "    }\n",
       "\n",
       "    .dataframe tbody tr th {\n",
       "        vertical-align: top;\n",
       "    }\n",
       "\n",
       "    .dataframe thead th {\n",
       "        text-align: right;\n",
       "    }\n",
       "</style>\n",
       "<table border=\"1\" class=\"dataframe\">\n",
       "  <thead>\n",
       "    <tr style=\"text-align: right;\">\n",
       "      <th></th>\n",
       "      <th>temp_min</th>\n",
       "      <th>temp_max</th>\n",
       "      <th>pressure</th>\n",
       "      <th>humidity</th>\n",
       "      <th>sea_level</th>\n",
       "      <th>ground_level</th>\n",
       "      <th>wind_speed</th>\n",
       "      <th>wind_degree</th>\n",
       "      <th>cloud</th>\n",
       "      <th>description</th>\n",
       "      <th>Energy Consumption (GWh)</th>\n",
       "      <th>total_sunshine_hours</th>\n",
       "    </tr>\n",
       "  </thead>\n",
       "  <tbody>\n",
       "    <tr>\n",
       "      <th>0</th>\n",
       "      <td>313.34</td>\n",
       "      <td>313.34</td>\n",
       "      <td>1006</td>\n",
       "      <td>28</td>\n",
       "      <td>1006</td>\n",
       "      <td>985</td>\n",
       "      <td>0.64</td>\n",
       "      <td>183</td>\n",
       "      <td>41</td>\n",
       "      <td>Clouds</td>\n",
       "      <td>246.0</td>\n",
       "      <td>11.913056</td>\n",
       "    </tr>\n",
       "    <tr>\n",
       "      <th>1</th>\n",
       "      <td>313.60</td>\n",
       "      <td>313.60</td>\n",
       "      <td>1006</td>\n",
       "      <td>30</td>\n",
       "      <td>1006</td>\n",
       "      <td>1001</td>\n",
       "      <td>1.35</td>\n",
       "      <td>213</td>\n",
       "      <td>31</td>\n",
       "      <td>Clouds</td>\n",
       "      <td>250.0</td>\n",
       "      <td>11.915000</td>\n",
       "    </tr>\n",
       "    <tr>\n",
       "      <th>2</th>\n",
       "      <td>313.61</td>\n",
       "      <td>313.61</td>\n",
       "      <td>1005</td>\n",
       "      <td>29</td>\n",
       "      <td>1005</td>\n",
       "      <td>998</td>\n",
       "      <td>1.37</td>\n",
       "      <td>214</td>\n",
       "      <td>34</td>\n",
       "      <td>Clouds</td>\n",
       "      <td>244.0</td>\n",
       "      <td>11.912500</td>\n",
       "    </tr>\n",
       "    <tr>\n",
       "      <th>3</th>\n",
       "      <td>312.30</td>\n",
       "      <td>312.30</td>\n",
       "      <td>1006</td>\n",
       "      <td>28</td>\n",
       "      <td>1006</td>\n",
       "      <td>971</td>\n",
       "      <td>0.67</td>\n",
       "      <td>197</td>\n",
       "      <td>36</td>\n",
       "      <td>Clouds</td>\n",
       "      <td>236.0</td>\n",
       "      <td>11.910278</td>\n",
       "    </tr>\n",
       "    <tr>\n",
       "      <th>4</th>\n",
       "      <td>313.58</td>\n",
       "      <td>313.58</td>\n",
       "      <td>1006</td>\n",
       "      <td>29</td>\n",
       "      <td>1006</td>\n",
       "      <td>997</td>\n",
       "      <td>1.28</td>\n",
       "      <td>211</td>\n",
       "      <td>33</td>\n",
       "      <td>Clouds</td>\n",
       "      <td>212.0</td>\n",
       "      <td>11.913333</td>\n",
       "    </tr>\n",
       "  </tbody>\n",
       "</table>\n",
       "</div>"
      ],
      "text/plain": [
       "   temp_min  temp_max  pressure  humidity  sea_level  ground_level  \\\n",
       "0    313.34    313.34      1006        28       1006           985   \n",
       "1    313.60    313.60      1006        30       1006          1001   \n",
       "2    313.61    313.61      1005        29       1005           998   \n",
       "3    312.30    312.30      1006        28       1006           971   \n",
       "4    313.58    313.58      1006        29       1006           997   \n",
       "\n",
       "   wind_speed  wind_degree  cloud description  Energy Consumption (GWh)  \\\n",
       "0        0.64          183     41      Clouds                     246.0   \n",
       "1        1.35          213     31      Clouds                     250.0   \n",
       "2        1.37          214     34      Clouds                     244.0   \n",
       "3        0.67          197     36      Clouds                     236.0   \n",
       "4        1.28          211     33      Clouds                     212.0   \n",
       "\n",
       "   total_sunshine_hours  \n",
       "0             11.913056  \n",
       "1             11.915000  \n",
       "2             11.912500  \n",
       "3             11.910278  \n",
       "4             11.913333  "
      ]
     },
     "execution_count": 18,
     "metadata": {},
     "output_type": "execute_result"
    }
   ],
   "source": [
    "data.head()"
   ]
  },
  {
   "cell_type": "markdown",
   "metadata": {
    "id": "v7lq31ZX1WNy"
   },
   "source": [
    "## Data Visualization"
   ]
  },
  {
   "cell_type": "code",
   "execution_count": 19,
   "metadata": {
    "id": "nefmgewB7qQS"
   },
   "outputs": [
    {
     "data": {
      "image/png": "[encoded data removed]",
      "text/plain": [
       "<Figure size 800x400 with 1 Axes>"
      ]
     },
     "metadata": {},
     "output_type": "display_data"
    }
   ],
   "source": [
    "# @title pressure\n",
    "\n",
    "from matplotlib import pyplot as plt\n",
    "data['pressure'].plot(kind='line', figsize=(8, 4), title='pressure')\n",
    "plt.grid()\n",
    "plt.gca().spines[['top', 'right']].set_visible(False)"
   ]
  },
  {
   "cell_type": "code",
   "execution_count": 20,
   "metadata": {
    "id": "NN-KjHAU5H0M"
   },
   "outputs": [
    {
     "data": {
      "image/png": "[encoded data removed]",
      "text/plain": [
       "<Figure size 800x400 with 1 Axes>"
      ]
     },
     "metadata": {},
     "output_type": "display_data"
    }
   ],
   "source": [
    "# @title temp_min\n",
    "\n",
    "from matplotlib import pyplot as plt\n",
    "data['temp_min'].plot(kind='line', figsize=(8, 4), title='temp_min')\n",
    "plt.grid()\n",
    "plt.gca().spines[['top', 'right']].set_visible(False)"
   ]
  },
  {
   "cell_type": "code",
   "execution_count": 21,
   "metadata": {
    "id": "P2NDVccl4XUx"
   },
   "outputs": [
    {
     "data": {
      "image/png": "[encoded data removed]",
      "text/plain": [
       "<Figure size 640x480 with 1 Axes>"
      ]
     },
     "metadata": {},
     "output_type": "display_data"
    }
   ],
   "source": [
    "# @title description\n",
    "\n",
    "from matplotlib import pyplot as plt\n",
    "import seaborn as sns\n",
    "data.groupby('description').size().plot(kind='barh', color=sns.palettes.mpl_palette('Dark2'))\n",
    "plt.grid()\n",
    "plt.gca().spines[['top', 'right',]].set_visible(False)"
   ]
  },
  {
   "cell_type": "code",
   "execution_count": 22,
   "metadata": {
    "id": "Murddd9U4K5Y"
   },
   "outputs": [
    {
     "data": {
      "image/png": "[encoded data removed]",
      "text/plain": [
       "<Figure size 640x480 with 1 Axes>"
      ]
     },
     "metadata": {},
     "output_type": "display_data"
    }
   ],
   "source": [
    "# @title pressure\n",
    "\n",
    "from matplotlib import pyplot as plt\n",
    "data['pressure'].plot(kind='hist', bins=20, title='pressure')\n",
    "plt.gca().spines[['top', 'right',]].set_visible(False)"
   ]
  },
  {
   "cell_type": "code",
   "execution_count": 23,
   "metadata": {
    "id": "FASperoA4BsW"
   },
   "outputs": [
    {
     "data": {
      "image/png": "[encoded data removed]",
      "text/plain": [
       "<Figure size 640x480 with 1 Axes>"
      ]
     },
     "metadata": {},
     "output_type": "display_data"
    }
   ],
   "source": [
    "# @title temp_max\n",
    "\n",
    "from matplotlib import pyplot as plt\n",
    "data['temp_max'].plot(kind='hist', bins=20, title='temp_max')\n",
    "plt.gca().spines[['top', 'right',]].set_visible(False)"
   ]
  },
  {
   "cell_type": "code",
   "execution_count": 24,
   "metadata": {
    "id": "pqNi3y9d3uoG"
   },
   "outputs": [
    {
     "data": {
      "image/png": "[encoded data removed]",
      "text/plain": [
       "<Figure size 640x480 with 1 Axes>"
      ]
     },
     "metadata": {},
     "output_type": "display_data"
    }
   ],
   "source": [
    "# @title temp_min\n",
    "\n",
    "from matplotlib import pyplot as plt\n",
    "data['temp_min'].plot(kind='hist', bins=20, title='temp_min')\n",
    "plt.gca().spines[['top', 'right',]].set_visible(False)"
   ]
  },
  {
   "cell_type": "code",
   "execution_count": 25,
   "metadata": {
    "id": "L1Qc1n3-_Gc9"
   },
   "outputs": [
    {
     "data": {
      "image/png": "[encoded data removed]",
      "text/plain": [
       "<Figure size 640x480 with 1 Axes>"
      ]
     },
     "metadata": {},
     "output_type": "display_data"
    }
   ],
   "source": [
    "from matplotlib import pyplot as plt\n",
    "data['temp_max'].plot(kind='hist', bins=20, title='Energy Consumption (GWh)')\n",
    "plt.gca().spines[['top', 'right',]].set_visible(False)"
   ]
  },
  {
   "cell_type": "code",
   "execution_count": 26,
   "metadata": {
    "id": "PHj994yZAFKb"
   },
   "outputs": [
    {
     "data": {
      "image/png": "[encoded data removed]",
      "text/plain": [
       "<Figure size 640x480 with 1 Axes>"
      ]
     },
     "metadata": {},
     "output_type": "display_data"
    }
   ],
   "source": [
    "# @title temp_min\n",
    "\n",
    "from matplotlib import pyplot as plt\n",
    "data['temp_min'].plot(kind='hist', bins=20, title='total_sunshine_hours')\n",
    "plt.gca().spines[['top', 'right',]].set_visible(False)"
   ]
  },
  {
   "cell_type": "markdown",
   "metadata": {
    "id": "yFoDInb8AosV"
   },
   "source": [
    "# Data Manipulation"
   ]
  },
  {
   "cell_type": "code",
   "execution_count": 27,
   "metadata": {
    "id": "toUPTFa7BX3a"
   },
   "outputs": [
    {
     "data": {
      "text/html": [
       "<div>\n",
       "<style scoped>\n",
       "    .dataframe tbody tr th:only-of-type {\n",
       "        vertical-align: middle;\n",
       "    }\n",
       "\n",
       "    .dataframe tbody tr th {\n",
       "        vertical-align: top;\n",
       "    }\n",
       "\n",
       "    .dataframe thead th {\n",
       "        text-align: right;\n",
       "    }\n",
       "</style>\n",
       "<table border=\"1\" class=\"dataframe\">\n",
       "  <thead>\n",
       "    <tr style=\"text-align: right;\">\n",
       "      <th></th>\n",
       "      <th>temp_min</th>\n",
       "      <th>temp_max</th>\n",
       "      <th>pressure</th>\n",
       "      <th>humidity</th>\n",
       "      <th>sea_level</th>\n",
       "      <th>ground_level</th>\n",
       "      <th>wind_speed</th>\n",
       "      <th>wind_degree</th>\n",
       "      <th>cloud</th>\n",
       "      <th>description</th>\n",
       "      <th>Energy Consumption (GWh)</th>\n",
       "      <th>total_sunshine_hours</th>\n",
       "    </tr>\n",
       "  </thead>\n",
       "  <tbody>\n",
       "    <tr>\n",
       "      <th>0</th>\n",
       "      <td>313.34</td>\n",
       "      <td>313.34</td>\n",
       "      <td>1006</td>\n",
       "      <td>28</td>\n",
       "      <td>1006</td>\n",
       "      <td>985</td>\n",
       "      <td>0.64</td>\n",
       "      <td>183</td>\n",
       "      <td>41</td>\n",
       "      <td>Clouds</td>\n",
       "      <td>246.0</td>\n",
       "      <td>11.913056</td>\n",
       "    </tr>\n",
       "    <tr>\n",
       "      <th>1</th>\n",
       "      <td>313.60</td>\n",
       "      <td>313.60</td>\n",
       "      <td>1006</td>\n",
       "      <td>30</td>\n",
       "      <td>1006</td>\n",
       "      <td>1001</td>\n",
       "      <td>1.35</td>\n",
       "      <td>213</td>\n",
       "      <td>31</td>\n",
       "      <td>Clouds</td>\n",
       "      <td>250.0</td>\n",
       "      <td>11.915000</td>\n",
       "    </tr>\n",
       "    <tr>\n",
       "      <th>2</th>\n",
       "      <td>313.61</td>\n",
       "      <td>313.61</td>\n",
       "      <td>1005</td>\n",
       "      <td>29</td>\n",
       "      <td>1005</td>\n",
       "      <td>998</td>\n",
       "      <td>1.37</td>\n",
       "      <td>214</td>\n",
       "      <td>34</td>\n",
       "      <td>Clouds</td>\n",
       "      <td>244.0</td>\n",
       "      <td>11.912500</td>\n",
       "    </tr>\n",
       "    <tr>\n",
       "      <th>3</th>\n",
       "      <td>312.30</td>\n",
       "      <td>312.30</td>\n",
       "      <td>1006</td>\n",
       "      <td>28</td>\n",
       "      <td>1006</td>\n",
       "      <td>971</td>\n",
       "      <td>0.67</td>\n",
       "      <td>197</td>\n",
       "      <td>36</td>\n",
       "      <td>Clouds</td>\n",
       "      <td>236.0</td>\n",
       "      <td>11.910278</td>\n",
       "    </tr>\n",
       "    <tr>\n",
       "      <th>4</th>\n",
       "      <td>313.58</td>\n",
       "      <td>313.58</td>\n",
       "      <td>1006</td>\n",
       "      <td>29</td>\n",
       "      <td>1006</td>\n",
       "      <td>997</td>\n",
       "      <td>1.28</td>\n",
       "      <td>211</td>\n",
       "      <td>33</td>\n",
       "      <td>Clouds</td>\n",
       "      <td>212.0</td>\n",
       "      <td>11.913333</td>\n",
       "    </tr>\n",
       "  </tbody>\n",
       "</table>\n",
       "</div>"
      ],
      "text/plain": [
       "   temp_min  temp_max  pressure  humidity  sea_level  ground_level  \\\n",
       "0    313.34    313.34      1006        28       1006           985   \n",
       "1    313.60    313.60      1006        30       1006          1001   \n",
       "2    313.61    313.61      1005        29       1005           998   \n",
       "3    312.30    312.30      1006        28       1006           971   \n",
       "4    313.58    313.58      1006        29       1006           997   \n",
       "\n",
       "   wind_speed  wind_degree  cloud description  Energy Consumption (GWh)  \\\n",
       "0        0.64          183     41      Clouds                     246.0   \n",
       "1        1.35          213     31      Clouds                     250.0   \n",
       "2        1.37          214     34      Clouds                     244.0   \n",
       "3        0.67          197     36      Clouds                     236.0   \n",
       "4        1.28          211     33      Clouds                     212.0   \n",
       "\n",
       "   total_sunshine_hours  \n",
       "0             11.913056  \n",
       "1             11.915000  \n",
       "2             11.912500  \n",
       "3             11.910278  \n",
       "4             11.913333  "
      ]
     },
     "execution_count": 27,
     "metadata": {},
     "output_type": "execute_result"
    }
   ],
   "source": [
    " data.head()"
   ]
  },
  {
   "cell_type": "code",
   "execution_count": 28,
   "metadata": {},
   "outputs": [
    {
     "data": {
      "text/plain": [
       "array(['Clouds', 'Rain', 'Clear'], dtype=object)"
      ]
     },
     "execution_count": 28,
     "metadata": {},
     "output_type": "execute_result"
    }
   ],
   "source": [
    "data.description.unique()"
   ]
  },
  {
   "cell_type": "code",
   "execution_count": 31,
   "metadata": {
    "id": "K75-nJtpGxUc"
   },
   "outputs": [],
   "source": [
    "one_hot_encoded_data = pd.get_dummies(data, columns=['description']).astype(float)"
   ]
  },
  {
   "cell_type": "code",
   "execution_count": 32,
   "metadata": {
    "id": "h7aOpGhQH-Mx"
   },
   "outputs": [
    {
     "data": {
      "text/html": [
       "<div>\n",
       "<style scoped>\n",
       "    .dataframe tbody tr th:only-of-type {\n",
       "        vertical-align: middle;\n",
       "    }\n",
       "\n",
       "    .dataframe tbody tr th {\n",
       "        vertical-align: top;\n",
       "    }\n",
       "\n",
       "    .dataframe thead th {\n",
       "        text-align: right;\n",
       "    }\n",
       "</style>\n",
       "<table border=\"1\" class=\"dataframe\">\n",
       "  <thead>\n",
       "    <tr style=\"text-align: right;\">\n",
       "      <th></th>\n",
       "      <th>temp_min</th>\n",
       "      <th>temp_max</th>\n",
       "      <th>pressure</th>\n",
       "      <th>humidity</th>\n",
       "      <th>sea_level</th>\n",
       "      <th>ground_level</th>\n",
       "      <th>wind_speed</th>\n",
       "      <th>wind_degree</th>\n",
       "      <th>cloud</th>\n",
       "      <th>Energy Consumption (GWh)</th>\n",
       "      <th>total_sunshine_hours</th>\n",
       "      <th>description_Clear</th>\n",
       "      <th>description_Clouds</th>\n",
       "      <th>description_Rain</th>\n",
       "    </tr>\n",
       "  </thead>\n",
       "  <tbody>\n",
       "    <tr>\n",
       "      <th>0</th>\n",
       "      <td>313.34</td>\n",
       "      <td>313.34</td>\n",
       "      <td>1006.0</td>\n",
       "      <td>28.0</td>\n",
       "      <td>1006.0</td>\n",
       "      <td>985.0</td>\n",
       "      <td>0.64</td>\n",
       "      <td>183.0</td>\n",
       "      <td>41.0</td>\n",
       "      <td>246.0</td>\n",
       "      <td>11.913056</td>\n",
       "      <td>0.0</td>\n",
       "      <td>1.0</td>\n",
       "      <td>0.0</td>\n",
       "    </tr>\n",
       "    <tr>\n",
       "      <th>1</th>\n",
       "      <td>313.60</td>\n",
       "      <td>313.60</td>\n",
       "      <td>1006.0</td>\n",
       "      <td>30.0</td>\n",
       "      <td>1006.0</td>\n",
       "      <td>1001.0</td>\n",
       "      <td>1.35</td>\n",
       "      <td>213.0</td>\n",
       "      <td>31.0</td>\n",
       "      <td>250.0</td>\n",
       "      <td>11.915000</td>\n",
       "      <td>0.0</td>\n",
       "      <td>1.0</td>\n",
       "      <td>0.0</td>\n",
       "    </tr>\n",
       "    <tr>\n",
       "      <th>2</th>\n",
       "      <td>313.61</td>\n",
       "      <td>313.61</td>\n",
       "      <td>1005.0</td>\n",
       "      <td>29.0</td>\n",
       "      <td>1005.0</td>\n",
       "      <td>998.0</td>\n",
       "      <td>1.37</td>\n",
       "      <td>214.0</td>\n",
       "      <td>34.0</td>\n",
       "      <td>244.0</td>\n",
       "      <td>11.912500</td>\n",
       "      <td>0.0</td>\n",
       "      <td>1.0</td>\n",
       "      <td>0.0</td>\n",
       "    </tr>\n",
       "    <tr>\n",
       "      <th>3</th>\n",
       "      <td>312.30</td>\n",
       "      <td>312.30</td>\n",
       "      <td>1006.0</td>\n",
       "      <td>28.0</td>\n",
       "      <td>1006.0</td>\n",
       "      <td>971.0</td>\n",
       "      <td>0.67</td>\n",
       "      <td>197.0</td>\n",
       "      <td>36.0</td>\n",
       "      <td>236.0</td>\n",
       "      <td>11.910278</td>\n",
       "      <td>0.0</td>\n",
       "      <td>1.0</td>\n",
       "      <td>0.0</td>\n",
       "    </tr>\n",
       "    <tr>\n",
       "      <th>4</th>\n",
       "      <td>313.58</td>\n",
       "      <td>313.58</td>\n",
       "      <td>1006.0</td>\n",
       "      <td>29.0</td>\n",
       "      <td>1006.0</td>\n",
       "      <td>997.0</td>\n",
       "      <td>1.28</td>\n",
       "      <td>211.0</td>\n",
       "      <td>33.0</td>\n",
       "      <td>212.0</td>\n",
       "      <td>11.913333</td>\n",
       "      <td>0.0</td>\n",
       "      <td>1.0</td>\n",
       "      <td>0.0</td>\n",
       "    </tr>\n",
       "  </tbody>\n",
       "</table>\n",
       "</div>"
      ],
      "text/plain": [
       "   temp_min  temp_max  pressure  humidity  sea_level  ground_level  \\\n",
       "0    313.34    313.34    1006.0      28.0     1006.0         985.0   \n",
       "1    313.60    313.60    1006.0      30.0     1006.0        1001.0   \n",
       "2    313.61    313.61    1005.0      29.0     1005.0         998.0   \n",
       "3    312.30    312.30    1006.0      28.0     1006.0         971.0   \n",
       "4    313.58    313.58    1006.0      29.0     1006.0         997.0   \n",
       "\n",
       "   wind_speed  wind_degree  cloud  Energy Consumption (GWh)  \\\n",
       "0        0.64        183.0   41.0                     246.0   \n",
       "1        1.35        213.0   31.0                     250.0   \n",
       "2        1.37        214.0   34.0                     244.0   \n",
       "3        0.67        197.0   36.0                     236.0   \n",
       "4        1.28        211.0   33.0                     212.0   \n",
       "\n",
       "   total_sunshine_hours  description_Clear  description_Clouds  \\\n",
       "0             11.913056                0.0                 1.0   \n",
       "1             11.915000                0.0                 1.0   \n",
       "2             11.912500                0.0                 1.0   \n",
       "3             11.910278                0.0                 1.0   \n",
       "4             11.913333                0.0                 1.0   \n",
       "\n",
       "   description_Rain  \n",
       "0               0.0  \n",
       "1               0.0  \n",
       "2               0.0  \n",
       "3               0.0  \n",
       "4               0.0  "
      ]
     },
     "execution_count": 32,
     "metadata": {},
     "output_type": "execute_result"
    }
   ],
   "source": [
    "one_hot_encoded_data.head()\n"
   ]
  },
  {
   "cell_type": "markdown",
   "metadata": {},
   "source": [
    "## Data Spliting"
   ]
  },
  {
   "cell_type": "code",
   "execution_count": null,
   "metadata": {},
   "outputs": [],
   "source": []
  }
 ],
 "metadata": {
  "colab": {
   "provenance": [],
   "toc_visible": true
  },
  "kernelspec": {
   "display_name": "Python 3 (ipykernel)",
   "language": "python",
   "name": "python3"
  },
  "language_info": {
   "codemirror_mode": {
    "name": "ipython",
    "version": 3
   },
   "file_extension": ".py",
   "mimetype": "text/x-python",
   "name": "python",
   "nbconvert_exporter": "python",
   "pygments_lexer": "ipython3",
   "version": "3.11.7"
  }
 },
 "nbformat": 4,
 "nbformat_minor": 4
}
