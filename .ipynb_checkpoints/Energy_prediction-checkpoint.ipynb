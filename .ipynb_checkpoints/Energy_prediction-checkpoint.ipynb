{
  "nbformat": 4,
  "nbformat_minor": 0,
  "metadata": {
    "colab": {
      "provenance": [],
      "toc_visible": true
    },
    "kernelspec": {
      "name": "python3",
      "display_name": "Python 3"
    },
    "language_info": {
      "name": "python"
    }
  },
  "cells": [
    {
      "cell_type": "markdown",
      "source": [
        "## Import Basic Libraries"
      ],
      "metadata": {
        "id": "HnpJe1wamJz1"
      }
    },
    {
      "cell_type": "code",
      "execution_count": null,
      "metadata": {
        "id": "1C7ZY9Y0lJ0a"
      },
      "outputs": [],
      "source": [
        "import pandas as pd"
      ]
    },
    {
      "cell_type": "code",
      "source": [
        "import tensorflow as tf\n",
        "from tensorflow import keras"
      ],
      "metadata": {
        "id": "T5B59TdTlVdX"
      },
      "execution_count": null,
      "outputs": []
    },
    {
      "cell_type": "code",
      "source": [
        "from sklearn.preprocessing import StandardScaler\n",
        "from sklearn.preprocessing import OneHotEncoder\n",
        "from sklearn.compose import ColumnTransformer\n",
        "from keras.models import Sequential\n",
        "from keras.layers import Dense"
      ],
      "metadata": {
        "id": "4ypQ-tM9lRZG"
      },
      "execution_count": null,
      "outputs": []
    },
    {
      "cell_type": "code",
      "source": [
        "from tensorflow.keras.models import Sequential"
      ],
      "metadata": {
        "id": "FPFph4WryRIZ"
      },
      "execution_count": null,
      "outputs": []
    },
    {
      "cell_type": "code",
      "source": [
        "from tensorflow.keras.layers import Activation, Dense, BatchNormalization, Dropout"
      ],
      "metadata": {
        "id": "0znHaTgAyl6q"
      },
      "execution_count": null,
      "outputs": []
    },
    {
      "cell_type": "code",
      "source": [
        "import matplotlib.pyplot as plt\n",
        "import seaborn as sns"
      ],
      "metadata": {
        "id": "sTHuI2a18HOX"
      },
      "execution_count": null,
      "outputs": []
    },
    {
      "cell_type": "code",
      "source": [
        "from sklearn.model_selection import train_test_split\n",
        "from sklearn.preprocessing import StandardScaler\n",
        "from sklearn.preprocessing import OneHotEncoder\n",
        "from sklearn.compose import ColumnTransformer"
      ],
      "metadata": {
        "id": "UlXWpnKMHeT2"
      },
      "execution_count": null,
      "outputs": []
    },
    {
      "cell_type": "code",
      "source": [
        "!pwd"
      ],
      "metadata": {
        "colab": {
          "base_uri": "https://localhost:8080/"
        },
        "id": "GqpogAfJlvL1",
        "outputId": "184fbe90-06d0-40e4-c383-ad45033b5875"
      },
      "execution_count": null,
      "outputs": [
        {
          "output_type": "stream",
          "name": "stdout",
          "text": [
            "/content\n"
          ]
        }
      ]
    },
    {
      "cell_type": "code",
      "source": [
        "data = pd.read_excel(\"/content/drive/MyDrive/Energy/abuja-weather-data.xlsx\")"
      ],
      "metadata": {
        "id": "jJoV5lgEpGMu"
      },
      "execution_count": null,
      "outputs": []
    },
    {
      "cell_type": "code",
      "source": [
        "data.head()"
      ],
      "metadata": {
        "colab": {
          "base_uri": "https://localhost:8080/",
          "height": 348
        },
        "id": "XGqX7vkHpPJT",
        "outputId": "2ebb3187-b68b-47bb-8137-c53ca5193256"
      },
      "execution_count": null,
      "outputs": [
        {
          "output_type": "execute_result",
          "data": {
            "text/plain": [
              "     temp  temp_min  temp_max  pressure  humidity  sea_level  ground_level  \\\n",
              "0  313.34    313.34    313.34      1006        28       1006           985   \n",
              "1  313.60    313.60    313.60      1006        30       1006          1001   \n",
              "2  313.61    313.61    313.61      1005        29       1005           998   \n",
              "3  312.30    312.30    312.30      1006        28       1006           971   \n",
              "4  313.58    313.58    313.58      1006        29       1006           997   \n",
              "\n",
              "   wind_speed  wind_degree             sunrise              sunset  cloud  \\\n",
              "0        0.64          183 2024-02-21 05:50:33 2024-02-21 17:45:20     41   \n",
              "1        1.35          213 2024-02-21 05:49:15 2024-02-21 17:44:09     31   \n",
              "2        1.37          214 2024-02-21 05:49:29 2024-02-21 17:44:14     34   \n",
              "3        0.67          197 2024-02-21 05:50:07 2024-02-21 17:44:44     36   \n",
              "4        1.28          211 2024-02-21 05:49:35 2024-02-21 17:44:23     33   \n",
              "\n",
              "  description region  Energy Consumption (GWh)  \n",
              "0      Clouds  Abuja                     246.0  \n",
              "1      Clouds  Abuja                     250.0  \n",
              "2      Clouds  Abuja                     244.0  \n",
              "3      Clouds  Abuja                     236.0  \n",
              "4      Clouds  Abuja                     212.0  "
            ],
            "text/html": [
              "\n",
              "  <div id=\"df-73bab181-375f-4ba2-b75e-262b0f7ceba3\" class=\"colab-df-container\">\n",
              "    <div>\n",
              "<style scoped>\n",
              "    .dataframe tbody tr th:only-of-type {\n",
              "        vertical-align: middle;\n",
              "    }\n",
              "\n",
              "    .dataframe tbody tr th {\n",
              "        vertical-align: top;\n",
              "    }\n",
              "\n",
              "    .dataframe thead th {\n",
              "        text-align: right;\n",
              "    }\n",
              "</style>\n",
              "<table border=\"1\" class=\"dataframe\">\n",
              "  <thead>\n",
              "    <tr style=\"text-align: right;\">\n",
              "      <th></th>\n",
              "      <th>temp</th>\n",
              "      <th>temp_min</th>\n",
              "      <th>temp_max</th>\n",
              "      <th>pressure</th>\n",
              "      <th>humidity</th>\n",
              "      <th>sea_level</th>\n",
              "      <th>ground_level</th>\n",
              "      <th>wind_speed</th>\n",
              "      <th>wind_degree</th>\n",
              "      <th>sunrise</th>\n",
              "      <th>sunset</th>\n",
              "      <th>cloud</th>\n",
              "      <th>description</th>\n",
              "      <th>region</th>\n",
              "      <th>Energy Consumption (GWh)</th>\n",
              "    </tr>\n",
              "  </thead>\n",
              "  <tbody>\n",
              "    <tr>\n",
              "      <th>0</th>\n",
              "      <td>313.34</td>\n",
              "      <td>313.34</td>\n",
              "      <td>313.34</td>\n",
              "      <td>1006</td>\n",
              "      <td>28</td>\n",
              "      <td>1006</td>\n",
              "      <td>985</td>\n",
              "      <td>0.64</td>\n",
              "      <td>183</td>\n",
              "      <td>2024-02-21 05:50:33</td>\n",
              "      <td>2024-02-21 17:45:20</td>\n",
              "      <td>41</td>\n",
              "      <td>Clouds</td>\n",
              "      <td>Abuja</td>\n",
              "      <td>246.0</td>\n",
              "    </tr>\n",
              "    <tr>\n",
              "      <th>1</th>\n",
              "      <td>313.60</td>\n",
              "      <td>313.60</td>\n",
              "      <td>313.60</td>\n",
              "      <td>1006</td>\n",
              "      <td>30</td>\n",
              "      <td>1006</td>\n",
              "      <td>1001</td>\n",
              "      <td>1.35</td>\n",
              "      <td>213</td>\n",
              "      <td>2024-02-21 05:49:15</td>\n",
              "      <td>2024-02-21 17:44:09</td>\n",
              "      <td>31</td>\n",
              "      <td>Clouds</td>\n",
              "      <td>Abuja</td>\n",
              "      <td>250.0</td>\n",
              "    </tr>\n",
              "    <tr>\n",
              "      <th>2</th>\n",
              "      <td>313.61</td>\n",
              "      <td>313.61</td>\n",
              "      <td>313.61</td>\n",
              "      <td>1005</td>\n",
              "      <td>29</td>\n",
              "      <td>1005</td>\n",
              "      <td>998</td>\n",
              "      <td>1.37</td>\n",
              "      <td>214</td>\n",
              "      <td>2024-02-21 05:49:29</td>\n",
              "      <td>2024-02-21 17:44:14</td>\n",
              "      <td>34</td>\n",
              "      <td>Clouds</td>\n",
              "      <td>Abuja</td>\n",
              "      <td>244.0</td>\n",
              "    </tr>\n",
              "    <tr>\n",
              "      <th>3</th>\n",
              "      <td>312.30</td>\n",
              "      <td>312.30</td>\n",
              "      <td>312.30</td>\n",
              "      <td>1006</td>\n",
              "      <td>28</td>\n",
              "      <td>1006</td>\n",
              "      <td>971</td>\n",
              "      <td>0.67</td>\n",
              "      <td>197</td>\n",
              "      <td>2024-02-21 05:50:07</td>\n",
              "      <td>2024-02-21 17:44:44</td>\n",
              "      <td>36</td>\n",
              "      <td>Clouds</td>\n",
              "      <td>Abuja</td>\n",
              "      <td>236.0</td>\n",
              "    </tr>\n",
              "    <tr>\n",
              "      <th>4</th>\n",
              "      <td>313.58</td>\n",
              "      <td>313.58</td>\n",
              "      <td>313.58</td>\n",
              "      <td>1006</td>\n",
              "      <td>29</td>\n",
              "      <td>1006</td>\n",
              "      <td>997</td>\n",
              "      <td>1.28</td>\n",
              "      <td>211</td>\n",
              "      <td>2024-02-21 05:49:35</td>\n",
              "      <td>2024-02-21 17:44:23</td>\n",
              "      <td>33</td>\n",
              "      <td>Clouds</td>\n",
              "      <td>Abuja</td>\n",
              "      <td>212.0</td>\n",
              "    </tr>\n",
              "  </tbody>\n",
              "</table>\n",
              "</div>\n",
              "    <div class=\"colab-df-buttons\">\n",
              "\n",
              "  <div class=\"colab-df-container\">\n",
              "    <button class=\"colab-df-convert\" onclick=\"convertToInteractive('df-73bab181-375f-4ba2-b75e-262b0f7ceba3')\"\n",
              "            title=\"Convert this dataframe to an interactive table.\"\n",
              "            style=\"display:none;\">\n",
              "\n",
              "  <svg xmlns=\"http://www.w3.org/2000/svg\" height=\"24px\" viewBox=\"0 -960 960 960\">\n",
              "    <path d=\"M120-120v-720h720v720H120Zm60-500h600v-160H180v160Zm220 220h160v-160H400v160Zm0 220h160v-160H400v160ZM180-400h160v-160H180v160Zm440 0h160v-160H620v160ZM180-180h160v-160H180v160Zm440 0h160v-160H620v160Z\"/>\n",
              "  </svg>\n",
              "    </button>\n",
              "\n",
              "  <style>\n",
              "    .colab-df-container {\n",
              "      display:flex;\n",
              "      gap: 12px;\n",
              "    }\n",
              "\n",
              "    .colab-df-convert {\n",
              "      background-color: #E8F0FE;\n",
              "      border: none;\n",
              "      border-radius: 50%;\n",
              "      cursor: pointer;\n",
              "      display: none;\n",
              "      fill: #1967D2;\n",
              "      height: 32px;\n",
              "      padding: 0 0 0 0;\n",
              "      width: 32px;\n",
              "    }\n",
              "\n",
              "    .colab-df-convert:hover {\n",
              "      background-color: #E2EBFA;\n",
              "      box-shadow: 0px 1px 2px rgba(60, 64, 67, 0.3), 0px 1px 3px 1px rgba(60, 64, 67, 0.15);\n",
              "      fill: #174EA6;\n",
              "    }\n",
              "\n",
              "    .colab-df-buttons div {\n",
              "      margin-bottom: 4px;\n",
              "    }\n",
              "\n",
              "    [theme=dark] .colab-df-convert {\n",
              "      background-color: #3B4455;\n",
              "      fill: #D2E3FC;\n",
              "    }\n",
              "\n",
              "    [theme=dark] .colab-df-convert:hover {\n",
              "      background-color: #434B5C;\n",
              "      box-shadow: 0px 1px 3px 1px rgba(0, 0, 0, 0.15);\n",
              "      filter: drop-shadow(0px 1px 2px rgba(0, 0, 0, 0.3));\n",
              "      fill: #FFFFFF;\n",
              "    }\n",
              "  </style>\n",
              "\n",
              "    <script>\n",
              "      const buttonEl =\n",
              "        document.querySelector('#df-73bab181-375f-4ba2-b75e-262b0f7ceba3 button.colab-df-convert');\n",
              "      buttonEl.style.display =\n",
              "        google.colab.kernel.accessAllowed ? 'block' : 'none';\n",
              "\n",
              "      async function convertToInteractive(key) {\n",
              "        const element = document.querySelector('#df-73bab181-375f-4ba2-b75e-262b0f7ceba3');\n",
              "        const dataTable =\n",
              "          await google.colab.kernel.invokeFunction('convertToInteractive',\n",
              "                                                    [key], {});\n",
              "        if (!dataTable) return;\n",
              "\n",
              "        const docLinkHtml = 'Like what you see? Visit the ' +\n",
              "          '<a target=\"_blank\" href=https://colab.research.google.com/notebooks/data_table.ipynb>data table notebook</a>'\n",
              "          + ' to learn more about interactive tables.';\n",
              "        element.innerHTML = '';\n",
              "        dataTable['output_type'] = 'display_data';\n",
              "        await google.colab.output.renderOutput(dataTable, element);\n",
              "        const docLink = document.createElement('div');\n",
              "        docLink.innerHTML = docLinkHtml;\n",
              "        element.appendChild(docLink);\n",
              "      }\n",
              "    </script>\n",
              "  </div>\n",
              "\n",
              "\n",
              "<div id=\"df-6f3749da-8dad-4963-b417-8f90fb5c26cc\">\n",
              "  <button class=\"colab-df-quickchart\" onclick=\"quickchart('df-6f3749da-8dad-4963-b417-8f90fb5c26cc')\"\n",
              "            title=\"Suggest charts\"\n",
              "            style=\"display:none;\">\n",
              "\n",
              "<svg xmlns=\"http://www.w3.org/2000/svg\" height=\"24px\"viewBox=\"0 0 24 24\"\n",
              "     width=\"24px\">\n",
              "    <g>\n",
              "        <path d=\"M19 3H5c-1.1 0-2 .9-2 2v14c0 1.1.9 2 2 2h14c1.1 0 2-.9 2-2V5c0-1.1-.9-2-2-2zM9 17H7v-7h2v7zm4 0h-2V7h2v10zm4 0h-2v-4h2v4z\"/>\n",
              "    </g>\n",
              "</svg>\n",
              "  </button>\n",
              "\n",
              "<style>\n",
              "  .colab-df-quickchart {\n",
              "      --bg-color: #E8F0FE;\n",
              "      --fill-color: #1967D2;\n",
              "      --hover-bg-color: #E2EBFA;\n",
              "      --hover-fill-color: #174EA6;\n",
              "      --disabled-fill-color: #AAA;\n",
              "      --disabled-bg-color: #DDD;\n",
              "  }\n",
              "\n",
              "  [theme=dark] .colab-df-quickchart {\n",
              "      --bg-color: #3B4455;\n",
              "      --fill-color: #D2E3FC;\n",
              "      --hover-bg-color: #434B5C;\n",
              "      --hover-fill-color: #FFFFFF;\n",
              "      --disabled-bg-color: #3B4455;\n",
              "      --disabled-fill-color: #666;\n",
              "  }\n",
              "\n",
              "  .colab-df-quickchart {\n",
              "    background-color: var(--bg-color);\n",
              "    border: none;\n",
              "    border-radius: 50%;\n",
              "    cursor: pointer;\n",
              "    display: none;\n",
              "    fill: var(--fill-color);\n",
              "    height: 32px;\n",
              "    padding: 0;\n",
              "    width: 32px;\n",
              "  }\n",
              "\n",
              "  .colab-df-quickchart:hover {\n",
              "    background-color: var(--hover-bg-color);\n",
              "    box-shadow: 0 1px 2px rgba(60, 64, 67, 0.3), 0 1px 3px 1px rgba(60, 64, 67, 0.15);\n",
              "    fill: var(--button-hover-fill-color);\n",
              "  }\n",
              "\n",
              "  .colab-df-quickchart-complete:disabled,\n",
              "  .colab-df-quickchart-complete:disabled:hover {\n",
              "    background-color: var(--disabled-bg-color);\n",
              "    fill: var(--disabled-fill-color);\n",
              "    box-shadow: none;\n",
              "  }\n",
              "\n",
              "  .colab-df-spinner {\n",
              "    border: 2px solid var(--fill-color);\n",
              "    border-color: transparent;\n",
              "    border-bottom-color: var(--fill-color);\n",
              "    animation:\n",
              "      spin 1s steps(1) infinite;\n",
              "  }\n",
              "\n",
              "  @keyframes spin {\n",
              "    0% {\n",
              "      border-color: transparent;\n",
              "      border-bottom-color: var(--fill-color);\n",
              "      border-left-color: var(--fill-color);\n",
              "    }\n",
              "    20% {\n",
              "      border-color: transparent;\n",
              "      border-left-color: var(--fill-color);\n",
              "      border-top-color: var(--fill-color);\n",
              "    }\n",
              "    30% {\n",
              "      border-color: transparent;\n",
              "      border-left-color: var(--fill-color);\n",
              "      border-top-color: var(--fill-color);\n",
              "      border-right-color: var(--fill-color);\n",
              "    }\n",
              "    40% {\n",
              "      border-color: transparent;\n",
              "      border-right-color: var(--fill-color);\n",
              "      border-top-color: var(--fill-color);\n",
              "    }\n",
              "    60% {\n",
              "      border-color: transparent;\n",
              "      border-right-color: var(--fill-color);\n",
              "    }\n",
              "    80% {\n",
              "      border-color: transparent;\n",
              "      border-right-color: var(--fill-color);\n",
              "      border-bottom-color: var(--fill-color);\n",
              "    }\n",
              "    90% {\n",
              "      border-color: transparent;\n",
              "      border-bottom-color: var(--fill-color);\n",
              "    }\n",
              "  }\n",
              "</style>\n",
              "\n",
              "  <script>\n",
              "    async function quickchart(key) {\n",
              "      const quickchartButtonEl =\n",
              "        document.querySelector('#' + key + ' button');\n",
              "      quickchartButtonEl.disabled = true;  // To prevent multiple clicks.\n",
              "      quickchartButtonEl.classList.add('colab-df-spinner');\n",
              "      try {\n",
              "        const charts = await google.colab.kernel.invokeFunction(\n",
              "            'suggestCharts', [key], {});\n",
              "      } catch (error) {\n",
              "        console.error('Error during call to suggestCharts:', error);\n",
              "      }\n",
              "      quickchartButtonEl.classList.remove('colab-df-spinner');\n",
              "      quickchartButtonEl.classList.add('colab-df-quickchart-complete');\n",
              "    }\n",
              "    (() => {\n",
              "      let quickchartButtonEl =\n",
              "        document.querySelector('#df-6f3749da-8dad-4963-b417-8f90fb5c26cc button');\n",
              "      quickchartButtonEl.style.display =\n",
              "        google.colab.kernel.accessAllowed ? 'block' : 'none';\n",
              "    })();\n",
              "  </script>\n",
              "</div>\n",
              "\n",
              "    </div>\n",
              "  </div>\n"
            ],
            "application/vnd.google.colaboratory.intrinsic+json": {
              "type": "dataframe",
              "variable_name": "data",
              "summary": "{\n  \"name\": \"data\",\n  \"rows\": 123,\n  \"fields\": [\n    {\n      \"column\": \"temp\",\n      \"properties\": {\n        \"dtype\": \"number\",\n        \"std\": 4.043879339111099,\n        \"min\": 298.91,\n        \"max\": 313.8,\n        \"num_unique_values\": 110,\n        \"samples\": [\n          305.81,\n          313.63,\n          313.58\n        ],\n        \"semantic_type\": \"\",\n        \"description\": \"\"\n      }\n    },\n    {\n      \"column\": \"temp_min\",\n      \"properties\": {\n        \"dtype\": \"number\",\n        \"std\": 4.043879339111099,\n        \"min\": 298.91,\n        \"max\": 313.8,\n        \"num_unique_values\": 110,\n        \"samples\": [\n          305.81,\n          313.63,\n          313.58\n        ],\n        \"semantic_type\": \"\",\n        \"description\": \"\"\n      }\n    },\n    {\n      \"column\": \"temp_max\",\n      \"properties\": {\n        \"dtype\": \"number\",\n        \"std\": 4.043879339111099,\n        \"min\": 298.91,\n        \"max\": 313.8,\n        \"num_unique_values\": 110,\n        \"samples\": [\n          305.81,\n          313.63,\n          313.58\n        ],\n        \"semantic_type\": \"\",\n        \"description\": \"\"\n      }\n    },\n    {\n      \"column\": \"pressure\",\n      \"properties\": {\n        \"dtype\": \"number\",\n        \"std\": 1,\n        \"min\": 1005,\n        \"max\": 1012,\n        \"num_unique_values\": 7,\n        \"samples\": [\n          1006,\n          1005,\n          1012\n        ],\n        \"semantic_type\": \"\",\n        \"description\": \"\"\n      }\n    },\n    {\n      \"column\": \"humidity\",\n      \"properties\": {\n        \"dtype\": \"number\",\n        \"std\": 13,\n        \"min\": 19,\n        \"max\": 61,\n        \"num_unique_values\": 23,\n        \"samples\": [\n          19,\n          34,\n          28\n        ],\n        \"semantic_type\": \"\",\n        \"description\": \"\"\n      }\n    },\n    {\n      \"column\": \"sea_level\",\n      \"properties\": {\n        \"dtype\": \"number\",\n        \"std\": 1,\n        \"min\": 1005,\n        \"max\": 1012,\n        \"num_unique_values\": 7,\n        \"samples\": [\n          1006,\n          1005,\n          1012\n        ],\n        \"semantic_type\": \"\",\n        \"description\": \"\"\n      }\n    },\n    {\n      \"column\": \"ground_level\",\n      \"properties\": {\n        \"dtype\": \"number\",\n        \"std\": 8,\n        \"min\": 971,\n        \"max\": 1007,\n        \"num_unique_values\": 28,\n        \"samples\": [\n          1004,\n          977,\n          989\n        ],\n        \"semantic_type\": \"\",\n        \"description\": \"\"\n      }\n    },\n    {\n      \"column\": \"wind_speed\",\n      \"properties\": {\n        \"dtype\": \"number\",\n        \"std\": 0.5363053644666917,\n        \"min\": 0.44,\n        \"max\": 3.33,\n        \"num_unique_values\": 84,\n        \"samples\": [\n          0.87,\n          0.64,\n          0.56\n        ],\n        \"semantic_type\": \"\",\n        \"description\": \"\"\n      }\n    },\n    {\n      \"column\": \"wind_degree\",\n      \"properties\": {\n        \"dtype\": \"number\",\n        \"std\": 83,\n        \"min\": 3,\n        \"max\": 343,\n        \"num_unique_values\": 80,\n        \"samples\": [\n          94,\n          183,\n          167\n        ],\n        \"semantic_type\": \"\",\n        \"description\": \"\"\n      }\n    },\n    {\n      \"column\": \"sunrise\",\n      \"properties\": {\n        \"dtype\": \"date\",\n        \"min\": \"2024-02-21 05:49:15\",\n        \"max\": \"2024-02-27 05:48:42\",\n        \"num_unique_values\": 109,\n        \"samples\": [\n          \"2024-02-26 05:47:34\",\n          \"2024-02-21 05:49:23\",\n          \"2024-02-21 05:49:35\"\n        ],\n        \"semantic_type\": \"\",\n        \"description\": \"\"\n      }\n    },\n    {\n      \"column\": \"sunset\",\n      \"properties\": {\n        \"dtype\": \"date\",\n        \"min\": \"2024-02-21 17:44:01\",\n        \"max\": \"2024-02-27 17:45:53\",\n        \"num_unique_values\": 111,\n        \"samples\": [\n          \"2024-02-26 17:44:51\",\n          \"2024-02-21 17:44:11\",\n          \"2024-02-21 17:44:23\"\n        ],\n        \"semantic_type\": \"\",\n        \"description\": \"\"\n      }\n    },\n    {\n      \"column\": \"cloud\",\n      \"properties\": {\n        \"dtype\": \"number\",\n        \"std\": 33,\n        \"min\": 6,\n        \"max\": 100,\n        \"num_unique_values\": 35,\n        \"samples\": [\n          8,\n          91,\n          18\n        ],\n        \"semantic_type\": \"\",\n        \"description\": \"\"\n      }\n    },\n    {\n      \"column\": \"description\",\n      \"properties\": {\n        \"dtype\": \"category\",\n        \"num_unique_values\": 3,\n        \"samples\": [\n          \"Clouds\",\n          \"Rain\",\n          \"Clear\"\n        ],\n        \"semantic_type\": \"\",\n        \"description\": \"\"\n      }\n    },\n    {\n      \"column\": \"region\",\n      \"properties\": {\n        \"dtype\": \"category\",\n        \"num_unique_values\": 1,\n        \"samples\": [\n          \"Abuja\"\n        ],\n        \"semantic_type\": \"\",\n        \"description\": \"\"\n      }\n    },\n    {\n      \"column\": \"Energy Consumption (GWh)\",\n      \"properties\": {\n        \"dtype\": \"number\",\n        \"std\": 36.96755514339596,\n        \"min\": 130.0,\n        \"max\": 317.0,\n        \"num_unique_values\": 86,\n        \"samples\": [\n          304.0\n        ],\n        \"semantic_type\": \"\",\n        \"description\": \"\"\n      }\n    }\n  ]\n}"
            }
          },
          "metadata": {},
          "execution_count": 10
        }
      ]
    },
    {
      "cell_type": "markdown",
      "source": [
        "# Data Preprocessing"
      ],
      "metadata": {
        "id": "xSFsXAu8mVG8"
      }
    },
    {
      "cell_type": "code",
      "source": [
        "data.info()"
      ],
      "metadata": {
        "colab": {
          "base_uri": "https://localhost:8080/"
        },
        "id": "STkr_C8jpqoJ",
        "outputId": "917505e9-d73d-40d5-ad3c-df446fb1f0f8"
      },
      "execution_count": null,
      "outputs": [
        {
          "output_type": "stream",
          "name": "stdout",
          "text": [
            "<class 'pandas.core.frame.DataFrame'>\n",
            "RangeIndex: 123 entries, 0 to 122\n",
            "Data columns (total 15 columns):\n",
            " #   Column                    Non-Null Count  Dtype         \n",
            "---  ------                    --------------  -----         \n",
            " 0   temp                      123 non-null    float64       \n",
            " 1   temp_min                  123 non-null    float64       \n",
            " 2   temp_max                  123 non-null    float64       \n",
            " 3   pressure                  123 non-null    int64         \n",
            " 4   humidity                  123 non-null    int64         \n",
            " 5   sea_level                 123 non-null    int64         \n",
            " 6   ground_level              123 non-null    int64         \n",
            " 7   wind_speed                123 non-null    float64       \n",
            " 8   wind_degree               123 non-null    int64         \n",
            " 9   sunrise                   123 non-null    datetime64[ns]\n",
            " 10  sunset                    123 non-null    datetime64[ns]\n",
            " 11  cloud                     123 non-null    int64         \n",
            " 12  description               123 non-null    object        \n",
            " 13  region                    123 non-null    object        \n",
            " 14  Energy Consumption (GWh)  123 non-null    float64       \n",
            "dtypes: datetime64[ns](2), float64(5), int64(6), object(2)\n",
            "memory usage: 14.5+ KB\n"
          ]
        }
      ]
    },
    {
      "cell_type": "code",
      "source": [
        "data['total_sunshine_hours'] = (data['sunset'] - data['sunrise']).dt.total_seconds() / 3600\n"
      ],
      "metadata": {
        "id": "fErEpUhDsWFs"
      },
      "execution_count": null,
      "outputs": []
    },
    {
      "cell_type": "code",
      "source": [
        "data.head()"
      ],
      "metadata": {
        "id": "gsyS3IPJMyms",
        "outputId": "07872277-2cb7-4f11-f94d-2044b847a852",
        "colab": {
          "base_uri": "https://localhost:8080/",
          "height": 348
        }
      },
      "execution_count": null,
      "outputs": [
        {
          "output_type": "execute_result",
          "data": {
            "text/plain": [
              "     temp  temp_min  temp_max  pressure  humidity  sea_level  ground_level  \\\n",
              "0  313.34    313.34    313.34      1006        28       1006           985   \n",
              "1  313.60    313.60    313.60      1006        30       1006          1001   \n",
              "2  313.61    313.61    313.61      1005        29       1005           998   \n",
              "3  312.30    312.30    312.30      1006        28       1006           971   \n",
              "4  313.58    313.58    313.58      1006        29       1006           997   \n",
              "\n",
              "   wind_speed  wind_degree             sunrise              sunset  cloud  \\\n",
              "0        0.64          183 2024-02-21 05:50:33 2024-02-21 17:45:20     41   \n",
              "1        1.35          213 2024-02-21 05:49:15 2024-02-21 17:44:09     31   \n",
              "2        1.37          214 2024-02-21 05:49:29 2024-02-21 17:44:14     34   \n",
              "3        0.67          197 2024-02-21 05:50:07 2024-02-21 17:44:44     36   \n",
              "4        1.28          211 2024-02-21 05:49:35 2024-02-21 17:44:23     33   \n",
              "\n",
              "  description region  Energy Consumption (GWh)  total_sunshine_hours  \n",
              "0      Clouds  Abuja                     246.0             11.913056  \n",
              "1      Clouds  Abuja                     250.0             11.915000  \n",
              "2      Clouds  Abuja                     244.0             11.912500  \n",
              "3      Clouds  Abuja                     236.0             11.910278  \n",
              "4      Clouds  Abuja                     212.0             11.913333  "
            ],
            "text/html": [
              "\n",
              "  <div id=\"df-8f7c1652-0d5c-47d5-b9fa-c2946a36caf3\" class=\"colab-df-container\">\n",
              "    <div>\n",
              "<style scoped>\n",
              "    .dataframe tbody tr th:only-of-type {\n",
              "        vertical-align: middle;\n",
              "    }\n",
              "\n",
              "    .dataframe tbody tr th {\n",
              "        vertical-align: top;\n",
              "    }\n",
              "\n",
              "    .dataframe thead th {\n",
              "        text-align: right;\n",
              "    }\n",
              "</style>\n",
              "<table border=\"1\" class=\"dataframe\">\n",
              "  <thead>\n",
              "    <tr style=\"text-align: right;\">\n",
              "      <th></th>\n",
              "      <th>temp</th>\n",
              "      <th>temp_min</th>\n",
              "      <th>temp_max</th>\n",
              "      <th>pressure</th>\n",
              "      <th>humidity</th>\n",
              "      <th>sea_level</th>\n",
              "      <th>ground_level</th>\n",
              "      <th>wind_speed</th>\n",
              "      <th>wind_degree</th>\n",
              "      <th>sunrise</th>\n",
              "      <th>sunset</th>\n",
              "      <th>cloud</th>\n",
              "      <th>description</th>\n",
              "      <th>region</th>\n",
              "      <th>Energy Consumption (GWh)</th>\n",
              "      <th>total_sunshine_hours</th>\n",
              "    </tr>\n",
              "  </thead>\n",
              "  <tbody>\n",
              "    <tr>\n",
              "      <th>0</th>\n",
              "      <td>313.34</td>\n",
              "      <td>313.34</td>\n",
              "      <td>313.34</td>\n",
              "      <td>1006</td>\n",
              "      <td>28</td>\n",
              "      <td>1006</td>\n",
              "      <td>985</td>\n",
              "      <td>0.64</td>\n",
              "      <td>183</td>\n",
              "      <td>2024-02-21 05:50:33</td>\n",
              "      <td>2024-02-21 17:45:20</td>\n",
              "      <td>41</td>\n",
              "      <td>Clouds</td>\n",
              "      <td>Abuja</td>\n",
              "      <td>246.0</td>\n",
              "      <td>11.913056</td>\n",
              "    </tr>\n",
              "    <tr>\n",
              "      <th>1</th>\n",
              "      <td>313.60</td>\n",
              "      <td>313.60</td>\n",
              "      <td>313.60</td>\n",
              "      <td>1006</td>\n",
              "      <td>30</td>\n",
              "      <td>1006</td>\n",
              "      <td>1001</td>\n",
              "      <td>1.35</td>\n",
              "      <td>213</td>\n",
              "      <td>2024-02-21 05:49:15</td>\n",
              "      <td>2024-02-21 17:44:09</td>\n",
              "      <td>31</td>\n",
              "      <td>Clouds</td>\n",
              "      <td>Abuja</td>\n",
              "      <td>250.0</td>\n",
              "      <td>11.915000</td>\n",
              "    </tr>\n",
              "    <tr>\n",
              "      <th>2</th>\n",
              "      <td>313.61</td>\n",
              "      <td>313.61</td>\n",
              "      <td>313.61</td>\n",
              "      <td>1005</td>\n",
              "      <td>29</td>\n",
              "      <td>1005</td>\n",
              "      <td>998</td>\n",
              "      <td>1.37</td>\n",
              "      <td>214</td>\n",
              "      <td>2024-02-21 05:49:29</td>\n",
              "      <td>2024-02-21 17:44:14</td>\n",
              "      <td>34</td>\n",
              "      <td>Clouds</td>\n",
              "      <td>Abuja</td>\n",
              "      <td>244.0</td>\n",
              "      <td>11.912500</td>\n",
              "    </tr>\n",
              "    <tr>\n",
              "      <th>3</th>\n",
              "      <td>312.30</td>\n",
              "      <td>312.30</td>\n",
              "      <td>312.30</td>\n",
              "      <td>1006</td>\n",
              "      <td>28</td>\n",
              "      <td>1006</td>\n",
              "      <td>971</td>\n",
              "      <td>0.67</td>\n",
              "      <td>197</td>\n",
              "      <td>2024-02-21 05:50:07</td>\n",
              "      <td>2024-02-21 17:44:44</td>\n",
              "      <td>36</td>\n",
              "      <td>Clouds</td>\n",
              "      <td>Abuja</td>\n",
              "      <td>236.0</td>\n",
              "      <td>11.910278</td>\n",
              "    </tr>\n",
              "    <tr>\n",
              "      <th>4</th>\n",
              "      <td>313.58</td>\n",
              "      <td>313.58</td>\n",
              "      <td>313.58</td>\n",
              "      <td>1006</td>\n",
              "      <td>29</td>\n",
              "      <td>1006</td>\n",
              "      <td>997</td>\n",
              "      <td>1.28</td>\n",
              "      <td>211</td>\n",
              "      <td>2024-02-21 05:49:35</td>\n",
              "      <td>2024-02-21 17:44:23</td>\n",
              "      <td>33</td>\n",
              "      <td>Clouds</td>\n",
              "      <td>Abuja</td>\n",
              "      <td>212.0</td>\n",
              "      <td>11.913333</td>\n",
              "    </tr>\n",
              "  </tbody>\n",
              "</table>\n",
              "</div>\n",
              "    <div class=\"colab-df-buttons\">\n",
              "\n",
              "  <div class=\"colab-df-container\">\n",
              "    <button class=\"colab-df-convert\" onclick=\"convertToInteractive('df-8f7c1652-0d5c-47d5-b9fa-c2946a36caf3')\"\n",
              "            title=\"Convert this dataframe to an interactive table.\"\n",
              "            style=\"display:none;\">\n",
              "\n",
              "  <svg xmlns=\"http://www.w3.org/2000/svg\" height=\"24px\" viewBox=\"0 -960 960 960\">\n",
              "    <path d=\"M120-120v-720h720v720H120Zm60-500h600v-160H180v160Zm220 220h160v-160H400v160Zm0 220h160v-160H400v160ZM180-400h160v-160H180v160Zm440 0h160v-160H620v160ZM180-180h160v-160H180v160Zm440 0h160v-160H620v160Z\"/>\n",
              "  </svg>\n",
              "    </button>\n",
              "\n",
              "  <style>\n",
              "    .colab-df-container {\n",
              "      display:flex;\n",
              "      gap: 12px;\n",
              "    }\n",
              "\n",
              "    .colab-df-convert {\n",
              "      background-color: #E8F0FE;\n",
              "      border: none;\n",
              "      border-radius: 50%;\n",
              "      cursor: pointer;\n",
              "      display: none;\n",
              "      fill: #1967D2;\n",
              "      height: 32px;\n",
              "      padding: 0 0 0 0;\n",
              "      width: 32px;\n",
              "    }\n",
              "\n",
              "    .colab-df-convert:hover {\n",
              "      background-color: #E2EBFA;\n",
              "      box-shadow: 0px 1px 2px rgba(60, 64, 67, 0.3), 0px 1px 3px 1px rgba(60, 64, 67, 0.15);\n",
              "      fill: #174EA6;\n",
              "    }\n",
              "\n",
              "    .colab-df-buttons div {\n",
              "      margin-bottom: 4px;\n",
              "    }\n",
              "\n",
              "    [theme=dark] .colab-df-convert {\n",
              "      background-color: #3B4455;\n",
              "      fill: #D2E3FC;\n",
              "    }\n",
              "\n",
              "    [theme=dark] .colab-df-convert:hover {\n",
              "      background-color: #434B5C;\n",
              "      box-shadow: 0px 1px 3px 1px rgba(0, 0, 0, 0.15);\n",
              "      filter: drop-shadow(0px 1px 2px rgba(0, 0, 0, 0.3));\n",
              "      fill: #FFFFFF;\n",
              "    }\n",
              "  </style>\n",
              "\n",
              "    <script>\n",
              "      const buttonEl =\n",
              "        document.querySelector('#df-8f7c1652-0d5c-47d5-b9fa-c2946a36caf3 button.colab-df-convert');\n",
              "      buttonEl.style.display =\n",
              "        google.colab.kernel.accessAllowed ? 'block' : 'none';\n",
              "\n",
              "      async function convertToInteractive(key) {\n",
              "        const element = document.querySelector('#df-8f7c1652-0d5c-47d5-b9fa-c2946a36caf3');\n",
              "        const dataTable =\n",
              "          await google.colab.kernel.invokeFunction('convertToInteractive',\n",
              "                                                    [key], {});\n",
              "        if (!dataTable) return;\n",
              "\n",
              "        const docLinkHtml = 'Like what you see? Visit the ' +\n",
              "          '<a target=\"_blank\" href=https://colab.research.google.com/notebooks/data_table.ipynb>data table notebook</a>'\n",
              "          + ' to learn more about interactive tables.';\n",
              "        element.innerHTML = '';\n",
              "        dataTable['output_type'] = 'display_data';\n",
              "        await google.colab.output.renderOutput(dataTable, element);\n",
              "        const docLink = document.createElement('div');\n",
              "        docLink.innerHTML = docLinkHtml;\n",
              "        element.appendChild(docLink);\n",
              "      }\n",
              "    </script>\n",
              "  </div>\n",
              "\n",
              "\n",
              "<div id=\"df-622d72e7-b699-497d-89fb-e5a9733d93c6\">\n",
              "  <button class=\"colab-df-quickchart\" onclick=\"quickchart('df-622d72e7-b699-497d-89fb-e5a9733d93c6')\"\n",
              "            title=\"Suggest charts\"\n",
              "            style=\"display:none;\">\n",
              "\n",
              "<svg xmlns=\"http://www.w3.org/2000/svg\" height=\"24px\"viewBox=\"0 0 24 24\"\n",
              "     width=\"24px\">\n",
              "    <g>\n",
              "        <path d=\"M19 3H5c-1.1 0-2 .9-2 2v14c0 1.1.9 2 2 2h14c1.1 0 2-.9 2-2V5c0-1.1-.9-2-2-2zM9 17H7v-7h2v7zm4 0h-2V7h2v10zm4 0h-2v-4h2v4z\"/>\n",
              "    </g>\n",
              "</svg>\n",
              "  </button>\n",
              "\n",
              "<style>\n",
              "  .colab-df-quickchart {\n",
              "      --bg-color: #E8F0FE;\n",
              "      --fill-color: #1967D2;\n",
              "      --hover-bg-color: #E2EBFA;\n",
              "      --hover-fill-color: #174EA6;\n",
              "      --disabled-fill-color: #AAA;\n",
              "      --disabled-bg-color: #DDD;\n",
              "  }\n",
              "\n",
              "  [theme=dark] .colab-df-quickchart {\n",
              "      --bg-color: #3B4455;\n",
              "      --fill-color: #D2E3FC;\n",
              "      --hover-bg-color: #434B5C;\n",
              "      --hover-fill-color: #FFFFFF;\n",
              "      --disabled-bg-color: #3B4455;\n",
              "      --disabled-fill-color: #666;\n",
              "  }\n",
              "\n",
              "  .colab-df-quickchart {\n",
              "    background-color: var(--bg-color);\n",
              "    border: none;\n",
              "    border-radius: 50%;\n",
              "    cursor: pointer;\n",
              "    display: none;\n",
              "    fill: var(--fill-color);\n",
              "    height: 32px;\n",
              "    padding: 0;\n",
              "    width: 32px;\n",
              "  }\n",
              "\n",
              "  .colab-df-quickchart:hover {\n",
              "    background-color: var(--hover-bg-color);\n",
              "    box-shadow: 0 1px 2px rgba(60, 64, 67, 0.3), 0 1px 3px 1px rgba(60, 64, 67, 0.15);\n",
              "    fill: var(--button-hover-fill-color);\n",
              "  }\n",
              "\n",
              "  .colab-df-quickchart-complete:disabled,\n",
              "  .colab-df-quickchart-complete:disabled:hover {\n",
              "    background-color: var(--disabled-bg-color);\n",
              "    fill: var(--disabled-fill-color);\n",
              "    box-shadow: none;\n",
              "  }\n",
              "\n",
              "  .colab-df-spinner {\n",
              "    border: 2px solid var(--fill-color);\n",
              "    border-color: transparent;\n",
              "    border-bottom-color: var(--fill-color);\n",
              "    animation:\n",
              "      spin 1s steps(1) infinite;\n",
              "  }\n",
              "\n",
              "  @keyframes spin {\n",
              "    0% {\n",
              "      border-color: transparent;\n",
              "      border-bottom-color: var(--fill-color);\n",
              "      border-left-color: var(--fill-color);\n",
              "    }\n",
              "    20% {\n",
              "      border-color: transparent;\n",
              "      border-left-color: var(--fill-color);\n",
              "      border-top-color: var(--fill-color);\n",
              "    }\n",
              "    30% {\n",
              "      border-color: transparent;\n",
              "      border-left-color: var(--fill-color);\n",
              "      border-top-color: var(--fill-color);\n",
              "      border-right-color: var(--fill-color);\n",
              "    }\n",
              "    40% {\n",
              "      border-color: transparent;\n",
              "      border-right-color: var(--fill-color);\n",
              "      border-top-color: var(--fill-color);\n",
              "    }\n",
              "    60% {\n",
              "      border-color: transparent;\n",
              "      border-right-color: var(--fill-color);\n",
              "    }\n",
              "    80% {\n",
              "      border-color: transparent;\n",
              "      border-right-color: var(--fill-color);\n",
              "      border-bottom-color: var(--fill-color);\n",
              "    }\n",
              "    90% {\n",
              "      border-color: transparent;\n",
              "      border-bottom-color: var(--fill-color);\n",
              "    }\n",
              "  }\n",
              "</style>\n",
              "\n",
              "  <script>\n",
              "    async function quickchart(key) {\n",
              "      const quickchartButtonEl =\n",
              "        document.querySelector('#' + key + ' button');\n",
              "      quickchartButtonEl.disabled = true;  // To prevent multiple clicks.\n",
              "      quickchartButtonEl.classList.add('colab-df-spinner');\n",
              "      try {\n",
              "        const charts = await google.colab.kernel.invokeFunction(\n",
              "            'suggestCharts', [key], {});\n",
              "      } catch (error) {\n",
              "        console.error('Error during call to suggestCharts:', error);\n",
              "      }\n",
              "      quickchartButtonEl.classList.remove('colab-df-spinner');\n",
              "      quickchartButtonEl.classList.add('colab-df-quickchart-complete');\n",
              "    }\n",
              "    (() => {\n",
              "      let quickchartButtonEl =\n",
              "        document.querySelector('#df-622d72e7-b699-497d-89fb-e5a9733d93c6 button');\n",
              "      quickchartButtonEl.style.display =\n",
              "        google.colab.kernel.accessAllowed ? 'block' : 'none';\n",
              "    })();\n",
              "  </script>\n",
              "</div>\n",
              "\n",
              "    </div>\n",
              "  </div>\n"
            ],
            "application/vnd.google.colaboratory.intrinsic+json": {
              "type": "dataframe",
              "variable_name": "data",
              "summary": "{\n  \"name\": \"data\",\n  \"rows\": 123,\n  \"fields\": [\n    {\n      \"column\": \"temp\",\n      \"properties\": {\n        \"dtype\": \"number\",\n        \"std\": 4.043879339111099,\n        \"min\": 298.91,\n        \"max\": 313.8,\n        \"num_unique_values\": 110,\n        \"samples\": [\n          305.81,\n          313.63,\n          313.58\n        ],\n        \"semantic_type\": \"\",\n        \"description\": \"\"\n      }\n    },\n    {\n      \"column\": \"temp_min\",\n      \"properties\": {\n        \"dtype\": \"number\",\n        \"std\": 4.043879339111099,\n        \"min\": 298.91,\n        \"max\": 313.8,\n        \"num_unique_values\": 110,\n        \"samples\": [\n          305.81,\n          313.63,\n          313.58\n        ],\n        \"semantic_type\": \"\",\n        \"description\": \"\"\n      }\n    },\n    {\n      \"column\": \"temp_max\",\n      \"properties\": {\n        \"dtype\": \"number\",\n        \"std\": 4.043879339111099,\n        \"min\": 298.91,\n        \"max\": 313.8,\n        \"num_unique_values\": 110,\n        \"samples\": [\n          305.81,\n          313.63,\n          313.58\n        ],\n        \"semantic_type\": \"\",\n        \"description\": \"\"\n      }\n    },\n    {\n      \"column\": \"pressure\",\n      \"properties\": {\n        \"dtype\": \"number\",\n        \"std\": 1,\n        \"min\": 1005,\n        \"max\": 1012,\n        \"num_unique_values\": 7,\n        \"samples\": [\n          1006,\n          1005,\n          1012\n        ],\n        \"semantic_type\": \"\",\n        \"description\": \"\"\n      }\n    },\n    {\n      \"column\": \"humidity\",\n      \"properties\": {\n        \"dtype\": \"number\",\n        \"std\": 13,\n        \"min\": 19,\n        \"max\": 61,\n        \"num_unique_values\": 23,\n        \"samples\": [\n          19,\n          34,\n          28\n        ],\n        \"semantic_type\": \"\",\n        \"description\": \"\"\n      }\n    },\n    {\n      \"column\": \"sea_level\",\n      \"properties\": {\n        \"dtype\": \"number\",\n        \"std\": 1,\n        \"min\": 1005,\n        \"max\": 1012,\n        \"num_unique_values\": 7,\n        \"samples\": [\n          1006,\n          1005,\n          1012\n        ],\n        \"semantic_type\": \"\",\n        \"description\": \"\"\n      }\n    },\n    {\n      \"column\": \"ground_level\",\n      \"properties\": {\n        \"dtype\": \"number\",\n        \"std\": 8,\n        \"min\": 971,\n        \"max\": 1007,\n        \"num_unique_values\": 28,\n        \"samples\": [\n          1004,\n          977,\n          989\n        ],\n        \"semantic_type\": \"\",\n        \"description\": \"\"\n      }\n    },\n    {\n      \"column\": \"wind_speed\",\n      \"properties\": {\n        \"dtype\": \"number\",\n        \"std\": 0.5363053644666917,\n        \"min\": 0.44,\n        \"max\": 3.33,\n        \"num_unique_values\": 84,\n        \"samples\": [\n          0.87,\n          0.64,\n          0.56\n        ],\n        \"semantic_type\": \"\",\n        \"description\": \"\"\n      }\n    },\n    {\n      \"column\": \"wind_degree\",\n      \"properties\": {\n        \"dtype\": \"number\",\n        \"std\": 83,\n        \"min\": 3,\n        \"max\": 343,\n        \"num_unique_values\": 80,\n        \"samples\": [\n          94,\n          183,\n          167\n        ],\n        \"semantic_type\": \"\",\n        \"description\": \"\"\n      }\n    },\n    {\n      \"column\": \"sunrise\",\n      \"properties\": {\n        \"dtype\": \"date\",\n        \"min\": \"2024-02-21 05:49:15\",\n        \"max\": \"2024-02-27 05:48:42\",\n        \"num_unique_values\": 109,\n        \"samples\": [\n          \"2024-02-26 05:47:34\",\n          \"2024-02-21 05:49:23\",\n          \"2024-02-21 05:49:35\"\n        ],\n        \"semantic_type\": \"\",\n        \"description\": \"\"\n      }\n    },\n    {\n      \"column\": \"sunset\",\n      \"properties\": {\n        \"dtype\": \"date\",\n        \"min\": \"2024-02-21 17:44:01\",\n        \"max\": \"2024-02-27 17:45:53\",\n        \"num_unique_values\": 111,\n        \"samples\": [\n          \"2024-02-26 17:44:51\",\n          \"2024-02-21 17:44:11\",\n          \"2024-02-21 17:44:23\"\n        ],\n        \"semantic_type\": \"\",\n        \"description\": \"\"\n      }\n    },\n    {\n      \"column\": \"cloud\",\n      \"properties\": {\n        \"dtype\": \"number\",\n        \"std\": 33,\n        \"min\": 6,\n        \"max\": 100,\n        \"num_unique_values\": 35,\n        \"samples\": [\n          8,\n          91,\n          18\n        ],\n        \"semantic_type\": \"\",\n        \"description\": \"\"\n      }\n    },\n    {\n      \"column\": \"description\",\n      \"properties\": {\n        \"dtype\": \"category\",\n        \"num_unique_values\": 3,\n        \"samples\": [\n          \"Clouds\",\n          \"Rain\",\n          \"Clear\"\n        ],\n        \"semantic_type\": \"\",\n        \"description\": \"\"\n      }\n    },\n    {\n      \"column\": \"region\",\n      \"properties\": {\n        \"dtype\": \"category\",\n        \"num_unique_values\": 1,\n        \"samples\": [\n          \"Abuja\"\n        ],\n        \"semantic_type\": \"\",\n        \"description\": \"\"\n      }\n    },\n    {\n      \"column\": \"Energy Consumption (GWh)\",\n      \"properties\": {\n        \"dtype\": \"number\",\n        \"std\": 36.96755514339596,\n        \"min\": 130.0,\n        \"max\": 317.0,\n        \"num_unique_values\": 86,\n        \"samples\": [\n          304.0\n        ],\n        \"semantic_type\": \"\",\n        \"description\": \"\"\n      }\n    },\n    {\n      \"column\": \"total_sunshine_hours\",\n      \"properties\": {\n        \"dtype\": \"number\",\n        \"std\": 0.0139124132526334,\n        \"min\": 11.910277777777777,\n        \"max\": 11.955833333333333,\n        \"num_unique_values\": 81,\n        \"samples\": [\n          11.925833333333333\n        ],\n        \"semantic_type\": \"\",\n        \"description\": \"\"\n      }\n    }\n  ]\n}"
            }
          },
          "metadata": {},
          "execution_count": 14
        }
      ]
    },
    {
      "cell_type": "code",
      "source": [
        "data = data.drop([\"sunrise\", \"sunset\", \"total_sunshine\"], axis=1)"
      ],
      "metadata": {
        "colab": {
          "base_uri": "https://localhost:8080/",
          "height": 287
        },
        "id": "ff2T6jZUtM9M",
        "outputId": "b3b67b94-e3cb-4504-e8fe-31c5993e2d69"
      },
      "execution_count": null,
      "outputs": [
        {
          "output_type": "error",
          "ename": "KeyError",
          "evalue": "\"['total_sunshine'] not found in axis\"",
          "traceback": [
            "\u001b[0;31m---------------------------------------------------------------------------\u001b[0m",
            "\u001b[0;31mKeyError\u001b[0m                                  Traceback (most recent call last)",
            "\u001b[0;32m<ipython-input-13-9a29ae642b98>\u001b[0m in \u001b[0;36m<cell line: 1>\u001b[0;34m()\u001b[0m\n\u001b[0;32m----> 1\u001b[0;31m \u001b[0mdata\u001b[0m \u001b[0;34m=\u001b[0m \u001b[0mdata\u001b[0m\u001b[0;34m.\u001b[0m\u001b[0mdrop\u001b[0m\u001b[0;34m(\u001b[0m\u001b[0;34m[\u001b[0m\u001b[0;34m\"sunrise\"\u001b[0m\u001b[0;34m,\u001b[0m \u001b[0;34m\"sunset\"\u001b[0m\u001b[0;34m,\u001b[0m \u001b[0;34m\"total_sunshine\"\u001b[0m\u001b[0;34m]\u001b[0m\u001b[0;34m,\u001b[0m \u001b[0maxis\u001b[0m\u001b[0;34m=\u001b[0m\u001b[0;36m1\u001b[0m\u001b[0;34m)\u001b[0m\u001b[0;34m\u001b[0m\u001b[0;34m\u001b[0m\u001b[0m\n\u001b[0m",
            "\u001b[0;32m/usr/local/lib/python3.10/dist-packages/pandas/core/frame.py\u001b[0m in \u001b[0;36mdrop\u001b[0;34m(self, labels, axis, index, columns, level, inplace, errors)\u001b[0m\n\u001b[1;32m   5256\u001b[0m                 \u001b[0mweight\u001b[0m  \u001b[0;36m1.0\u001b[0m     \u001b[0;36m0.8\u001b[0m\u001b[0;34m\u001b[0m\u001b[0;34m\u001b[0m\u001b[0m\n\u001b[1;32m   5257\u001b[0m         \"\"\"\n\u001b[0;32m-> 5258\u001b[0;31m         return super().drop(\n\u001b[0m\u001b[1;32m   5259\u001b[0m             \u001b[0mlabels\u001b[0m\u001b[0;34m=\u001b[0m\u001b[0mlabels\u001b[0m\u001b[0;34m,\u001b[0m\u001b[0;34m\u001b[0m\u001b[0;34m\u001b[0m\u001b[0m\n\u001b[1;32m   5260\u001b[0m             \u001b[0maxis\u001b[0m\u001b[0;34m=\u001b[0m\u001b[0maxis\u001b[0m\u001b[0;34m,\u001b[0m\u001b[0;34m\u001b[0m\u001b[0;34m\u001b[0m\u001b[0m\n",
            "\u001b[0;32m/usr/local/lib/python3.10/dist-packages/pandas/core/generic.py\u001b[0m in \u001b[0;36mdrop\u001b[0;34m(self, labels, axis, index, columns, level, inplace, errors)\u001b[0m\n\u001b[1;32m   4547\u001b[0m         \u001b[0;32mfor\u001b[0m \u001b[0maxis\u001b[0m\u001b[0;34m,\u001b[0m \u001b[0mlabels\u001b[0m \u001b[0;32min\u001b[0m \u001b[0maxes\u001b[0m\u001b[0;34m.\u001b[0m\u001b[0mitems\u001b[0m\u001b[0;34m(\u001b[0m\u001b[0;34m)\u001b[0m\u001b[0;34m:\u001b[0m\u001b[0;34m\u001b[0m\u001b[0;34m\u001b[0m\u001b[0m\n\u001b[1;32m   4548\u001b[0m             \u001b[0;32mif\u001b[0m \u001b[0mlabels\u001b[0m \u001b[0;32mis\u001b[0m \u001b[0;32mnot\u001b[0m \u001b[0;32mNone\u001b[0m\u001b[0;34m:\u001b[0m\u001b[0;34m\u001b[0m\u001b[0;34m\u001b[0m\u001b[0m\n\u001b[0;32m-> 4549\u001b[0;31m                 \u001b[0mobj\u001b[0m \u001b[0;34m=\u001b[0m \u001b[0mobj\u001b[0m\u001b[0;34m.\u001b[0m\u001b[0m_drop_axis\u001b[0m\u001b[0;34m(\u001b[0m\u001b[0mlabels\u001b[0m\u001b[0;34m,\u001b[0m \u001b[0maxis\u001b[0m\u001b[0;34m,\u001b[0m \u001b[0mlevel\u001b[0m\u001b[0;34m=\u001b[0m\u001b[0mlevel\u001b[0m\u001b[0;34m,\u001b[0m \u001b[0merrors\u001b[0m\u001b[0;34m=\u001b[0m\u001b[0merrors\u001b[0m\u001b[0;34m)\u001b[0m\u001b[0;34m\u001b[0m\u001b[0;34m\u001b[0m\u001b[0m\n\u001b[0m\u001b[1;32m   4550\u001b[0m \u001b[0;34m\u001b[0m\u001b[0m\n\u001b[1;32m   4551\u001b[0m         \u001b[0;32mif\u001b[0m \u001b[0minplace\u001b[0m\u001b[0;34m:\u001b[0m\u001b[0;34m\u001b[0m\u001b[0;34m\u001b[0m\u001b[0m\n",
            "\u001b[0;32m/usr/local/lib/python3.10/dist-packages/pandas/core/generic.py\u001b[0m in \u001b[0;36m_drop_axis\u001b[0;34m(self, labels, axis, level, errors, only_slice)\u001b[0m\n\u001b[1;32m   4589\u001b[0m                 \u001b[0mnew_axis\u001b[0m \u001b[0;34m=\u001b[0m \u001b[0maxis\u001b[0m\u001b[0;34m.\u001b[0m\u001b[0mdrop\u001b[0m\u001b[0;34m(\u001b[0m\u001b[0mlabels\u001b[0m\u001b[0;34m,\u001b[0m \u001b[0mlevel\u001b[0m\u001b[0;34m=\u001b[0m\u001b[0mlevel\u001b[0m\u001b[0;34m,\u001b[0m \u001b[0merrors\u001b[0m\u001b[0;34m=\u001b[0m\u001b[0merrors\u001b[0m\u001b[0;34m)\u001b[0m\u001b[0;34m\u001b[0m\u001b[0;34m\u001b[0m\u001b[0m\n\u001b[1;32m   4590\u001b[0m             \u001b[0;32melse\u001b[0m\u001b[0;34m:\u001b[0m\u001b[0;34m\u001b[0m\u001b[0;34m\u001b[0m\u001b[0m\n\u001b[0;32m-> 4591\u001b[0;31m                 \u001b[0mnew_axis\u001b[0m \u001b[0;34m=\u001b[0m \u001b[0maxis\u001b[0m\u001b[0;34m.\u001b[0m\u001b[0mdrop\u001b[0m\u001b[0;34m(\u001b[0m\u001b[0mlabels\u001b[0m\u001b[0;34m,\u001b[0m \u001b[0merrors\u001b[0m\u001b[0;34m=\u001b[0m\u001b[0merrors\u001b[0m\u001b[0;34m)\u001b[0m\u001b[0;34m\u001b[0m\u001b[0;34m\u001b[0m\u001b[0m\n\u001b[0m\u001b[1;32m   4592\u001b[0m             \u001b[0mindexer\u001b[0m \u001b[0;34m=\u001b[0m \u001b[0maxis\u001b[0m\u001b[0;34m.\u001b[0m\u001b[0mget_indexer\u001b[0m\u001b[0;34m(\u001b[0m\u001b[0mnew_axis\u001b[0m\u001b[0;34m)\u001b[0m\u001b[0;34m\u001b[0m\u001b[0;34m\u001b[0m\u001b[0m\n\u001b[1;32m   4593\u001b[0m \u001b[0;34m\u001b[0m\u001b[0m\n",
            "\u001b[0;32m/usr/local/lib/python3.10/dist-packages/pandas/core/indexes/base.py\u001b[0m in \u001b[0;36mdrop\u001b[0;34m(self, labels, errors)\u001b[0m\n\u001b[1;32m   6697\u001b[0m         \u001b[0;32mif\u001b[0m \u001b[0mmask\u001b[0m\u001b[0;34m.\u001b[0m\u001b[0many\u001b[0m\u001b[0;34m(\u001b[0m\u001b[0;34m)\u001b[0m\u001b[0;34m:\u001b[0m\u001b[0;34m\u001b[0m\u001b[0;34m\u001b[0m\u001b[0m\n\u001b[1;32m   6698\u001b[0m             \u001b[0;32mif\u001b[0m \u001b[0merrors\u001b[0m \u001b[0;34m!=\u001b[0m \u001b[0;34m\"ignore\"\u001b[0m\u001b[0;34m:\u001b[0m\u001b[0;34m\u001b[0m\u001b[0;34m\u001b[0m\u001b[0m\n\u001b[0;32m-> 6699\u001b[0;31m                 \u001b[0;32mraise\u001b[0m \u001b[0mKeyError\u001b[0m\u001b[0;34m(\u001b[0m\u001b[0;34mf\"{list(labels[mask])} not found in axis\"\u001b[0m\u001b[0;34m)\u001b[0m\u001b[0;34m\u001b[0m\u001b[0;34m\u001b[0m\u001b[0m\n\u001b[0m\u001b[1;32m   6700\u001b[0m             \u001b[0mindexer\u001b[0m \u001b[0;34m=\u001b[0m \u001b[0mindexer\u001b[0m\u001b[0;34m[\u001b[0m\u001b[0;34m~\u001b[0m\u001b[0mmask\u001b[0m\u001b[0;34m]\u001b[0m\u001b[0;34m\u001b[0m\u001b[0;34m\u001b[0m\u001b[0m\n\u001b[1;32m   6701\u001b[0m         \u001b[0;32mreturn\u001b[0m \u001b[0mself\u001b[0m\u001b[0;34m.\u001b[0m\u001b[0mdelete\u001b[0m\u001b[0;34m(\u001b[0m\u001b[0mindexer\u001b[0m\u001b[0;34m)\u001b[0m\u001b[0;34m\u001b[0m\u001b[0;34m\u001b[0m\u001b[0m\n",
            "\u001b[0;31mKeyError\u001b[0m: \"['total_sunshine'] not found in axis\""
          ]
        }
      ]
    },
    {
      "cell_type": "code",
      "source": [
        "data.head()"
      ],
      "metadata": {
        "id": "t9mnHiozwpJl"
      },
      "execution_count": null,
      "outputs": []
    },
    {
      "cell_type": "code",
      "source": [
        "data.describe()"
      ],
      "metadata": {
        "id": "stinpZtLr7CD"
      },
      "execution_count": null,
      "outputs": []
    },
    {
      "cell_type": "code",
      "source": [
        "data.isnull().sum()"
      ],
      "metadata": {
        "id": "UU59LnWrwwcs"
      },
      "execution_count": null,
      "outputs": []
    },
    {
      "cell_type": "code",
      "source": [
        "data.isna().sum()"
      ],
      "metadata": {
        "id": "BR_zEEo4xFbu"
      },
      "execution_count": null,
      "outputs": []
    },
    {
      "cell_type": "code",
      "source": [
        "data.head()"
      ],
      "metadata": {
        "id": "dttStKrlxKud"
      },
      "execution_count": null,
      "outputs": []
    },
    {
      "cell_type": "markdown",
      "source": [
        "## Data Visualization"
      ],
      "metadata": {
        "id": "v7lq31ZX1WNy"
      }
    },
    {
      "source": [
        "# @title pressure\n",
        "\n",
        "from matplotlib import pyplot as plt\n",
        "data['pressure'].plot(kind='line', figsize=(8, 4), title='pressure')\n",
        "plt.grid()\n",
        "plt.gca().spines[['top', 'right']].set_visible(False)"
      ],
      "cell_type": "code",
      "execution_count": null,
      "outputs": [],
      "metadata": {
        "id": "nefmgewB7qQS"
      }
    },
    {
      "source": [
        "# @title temp_min\n",
        "\n",
        "from matplotlib import pyplot as plt\n",
        "data['temp_min'].plot(kind='line', figsize=(8, 4), title='temp_min')\n",
        "plt.grid()\n",
        "plt.gca().spines[['top', 'right']].set_visible(False)"
      ],
      "cell_type": "code",
      "execution_count": null,
      "outputs": [],
      "metadata": {
        "id": "NN-KjHAU5H0M"
      }
    },
    {
      "source": [
        "# @title description\n",
        "\n",
        "from matplotlib import pyplot as plt\n",
        "import seaborn as sns\n",
        "data.groupby('description').size().plot(kind='barh', color=sns.palettes.mpl_palette('Dark2'))\n",
        "plt.grid()\n",
        "plt.gca().spines[['top', 'right',]].set_visible(False)"
      ],
      "cell_type": "code",
      "execution_count": null,
      "outputs": [],
      "metadata": {
        "id": "P2NDVccl4XUx"
      }
    },
    {
      "source": [
        "# @title pressure\n",
        "\n",
        "from matplotlib import pyplot as plt\n",
        "data['pressure'].plot(kind='hist', bins=20, title='pressure')\n",
        "plt.gca().spines[['top', 'right',]].set_visible(False)"
      ],
      "cell_type": "code",
      "execution_count": null,
      "outputs": [],
      "metadata": {
        "id": "Murddd9U4K5Y"
      }
    },
    {
      "source": [
        "# @title temp_max\n",
        "\n",
        "from matplotlib import pyplot as plt\n",
        "data['temp_max'].plot(kind='hist', bins=20, title='temp_max')\n",
        "plt.gca().spines[['top', 'right',]].set_visible(False)"
      ],
      "cell_type": "code",
      "execution_count": null,
      "outputs": [],
      "metadata": {
        "id": "FASperoA4BsW"
      }
    },
    {
      "source": [
        "# @title temp_min\n",
        "\n",
        "from matplotlib import pyplot as plt\n",
        "data['temp_min'].plot(kind='hist', bins=20, title='temp_min')\n",
        "plt.gca().spines[['top', 'right',]].set_visible(False)"
      ],
      "cell_type": "code",
      "execution_count": null,
      "outputs": [],
      "metadata": {
        "id": "pqNi3y9d3uoG"
      }
    },
    {
      "cell_type": "code",
      "source": [
        "from matplotlib import pyplot as plt\n",
        "data['temp_max'].plot(kind='hist', bins=20, title='Energy Consumption (GWh)')\n",
        "plt.gca().spines[['top', 'right',]].set_visible(False)"
      ],
      "metadata": {
        "id": "L1Qc1n3-_Gc9"
      },
      "execution_count": null,
      "outputs": []
    },
    {
      "cell_type": "code",
      "source": [
        "# @title temp_min\n",
        "\n",
        "from matplotlib import pyplot as plt\n",
        "data['temp_min'].plot(kind='hist', bins=20, title='total_sunshine_hours')\n",
        "plt.gca().spines[['top', 'right',]].set_visible(False)"
      ],
      "metadata": {
        "id": "PHj994yZAFKb"
      },
      "execution_count": null,
      "outputs": []
    },
    {
      "cell_type": "markdown",
      "source": [
        "# Data Manipulation"
      ],
      "metadata": {
        "id": "yFoDInb8AosV"
      }
    },
    {
      "cell_type": "code",
      "source": [
        " data.head()"
      ],
      "metadata": {
        "id": "toUPTFa7BX3a"
      },
      "execution_count": null,
      "outputs": []
    },
    {
      "cell_type": "code",
      "source": [
        "data_encoded = pd.get_dummies(data[\"description\"])"
      ],
      "metadata": {
        "id": "K75-nJtpGxUc"
      },
      "execution_count": null,
      "outputs": []
    },
    {
      "cell_type": "code",
      "source": [
        "# Convert to DataFrame\n",
        "data_encoded = pd.DataFrame(data_encoded, columns=ct.get_feature_names_out())"
      ],
      "metadata": {
        "id": "h7aOpGhQH-Mx"
      },
      "execution_count": null,
      "outputs": []
    },
    {
      "cell_type": "code",
      "source": [
        "data_encoded.head()"
      ],
      "metadata": {
        "id": "QyKlnfV_JdeQ"
      },
      "execution_count": null,
      "outputs": []
    },
    {
      "cell_type": "code",
      "source": [
        "# Normalize numerical features\n",
        "scaler = StandardScaler()\n",
        "numerical_cols = [\"temp\", \"temp_min\", \"temp_max\", \"pressure\", \"humidity\", \"sea_level\",\n",
        "                  \"ground_level\", \"wind_speed\", \"wind_degree\"]\n",
        "data_encoded[numerical_cols] = scaler.fit_transform(data_encoded[numerical_cols])\n"
      ],
      "metadata": {
        "id": "z9QOPz_BFtpu"
      },
      "execution_count": null,
      "outputs": []
    }
  ]
}